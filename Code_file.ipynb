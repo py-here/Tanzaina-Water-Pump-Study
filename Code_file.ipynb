{
  "nbformat": 4,
  "nbformat_minor": 0,
  "metadata": {
    "colab": {
      "name": "203190024_EE769_Assignment2_Complete.ipynb",
      "provenance": [],
      "collapsed_sections": [],
      "toc_visible": true
    },
    "kernelspec": {
      "name": "python3",
      "display_name": "Python 3"
    },
    "language_info": {
      "name": "python"
    }
  },
  "cells": [
    {
      "cell_type": "code",
      "metadata": {
        "colab": {
          "base_uri": "https://localhost:8080/"
        },
        "id": "PrRMqzbl-kED",
        "outputId": "6223a296-5394-4e8d-de42-6910dd08df86"
      },
      "source": [
        "pip install missingno"
      ],
      "execution_count": 262,
      "outputs": [
        {
          "output_type": "stream",
          "text": [
            "Requirement already satisfied: missingno in /usr/local/lib/python3.7/dist-packages (0.4.2)\n",
            "Requirement already satisfied: matplotlib in /usr/local/lib/python3.7/dist-packages (from missingno) (3.2.2)\n",
            "Requirement already satisfied: numpy in /usr/local/lib/python3.7/dist-packages (from missingno) (1.19.5)\n",
            "Requirement already satisfied: seaborn in /usr/local/lib/python3.7/dist-packages (from missingno) (0.11.1)\n",
            "Requirement already satisfied: scipy in /usr/local/lib/python3.7/dist-packages (from missingno) (1.4.1)\n",
            "Requirement already satisfied: python-dateutil>=2.1 in /usr/local/lib/python3.7/dist-packages (from matplotlib->missingno) (2.8.1)\n",
            "Requirement already satisfied: cycler>=0.10 in /usr/local/lib/python3.7/dist-packages (from matplotlib->missingno) (0.10.0)\n",
            "Requirement already satisfied: kiwisolver>=1.0.1 in /usr/local/lib/python3.7/dist-packages (from matplotlib->missingno) (1.3.1)\n",
            "Requirement already satisfied: pyparsing!=2.0.4,!=2.1.2,!=2.1.6,>=2.0.1 in /usr/local/lib/python3.7/dist-packages (from matplotlib->missingno) (2.4.7)\n",
            "Requirement already satisfied: pandas>=0.23 in /usr/local/lib/python3.7/dist-packages (from seaborn->missingno) (1.1.5)\n",
            "Requirement already satisfied: six>=1.5 in /usr/local/lib/python3.7/dist-packages (from python-dateutil>=2.1->matplotlib->missingno) (1.15.0)\n",
            "Requirement already satisfied: pytz>=2017.2 in /usr/local/lib/python3.7/dist-packages (from pandas>=0.23->seaborn->missingno) (2018.9)\n"
          ],
          "name": "stdout"
        }
      ]
    },
    {
      "cell_type": "code",
      "metadata": {
        "id": "bCFNXCjyufud"
      },
      "source": [
        "# Importing all files\n",
        "import pandas as pd\n",
        "import numpy as np\n",
        "import matplotlib.pyplot as plt\n",
        "import seaborn as sns\n",
        "\n",
        "import missingno as msno "
      ],
      "execution_count": 263,
      "outputs": []
    },
    {
      "cell_type": "code",
      "metadata": {
        "id": "qdKtpBeJ8qqA"
      },
      "source": [
        "dash = '-----------------------------------------------------------'"
      ],
      "execution_count": 265,
      "outputs": []
    },
    {
      "cell_type": "code",
      "metadata": {
        "colab": {
          "base_uri": "https://localhost:8080/"
        },
        "id": "j6bc1YWH70HT",
        "outputId": "11330da9-b3d5-4fb6-a59f-f3ab7daf8fba"
      },
      "source": [
        "%rm -rf ML-Assignment-data\n",
        "!git clone https://github.com/py-here/ML-Assignment-data"
      ],
      "execution_count": 266,
      "outputs": [
        {
          "output_type": "stream",
          "text": [
            "Cloning into 'ML-Assignment-data'...\n",
            "remote: Enumerating objects: 9, done.\u001b[K\n",
            "remote: Counting objects: 100% (9/9), done.\u001b[K\n",
            "remote: Compressing objects: 100% (7/7), done.\u001b[K\n",
            "remote: Total 9 (delta 1), reused 0 (delta 0), pack-reused 0\u001b[K\n",
            "Unpacking objects: 100% (9/9), done.\n"
          ],
          "name": "stdout"
        }
      ]
    },
    {
      "cell_type": "code",
      "metadata": {
        "id": "l2LG_hHM77Yn"
      },
      "source": [
        "train_df = pd.read_csv(\"/content/ML-Assignment-data/Train.csv\")\n"
      ],
      "execution_count": 267,
      "outputs": []
    },
    {
      "cell_type": "code",
      "metadata": {
        "id": "GFqTEtYCDt0j"
      },
      "source": [
        "test_df = pd.read_csv(\"/content/ML-Assignment-data/test.csv\")"
      ],
      "execution_count": 392,
      "outputs": []
    },
    {
      "cell_type": "markdown",
      "metadata": {
        "id": "mgqndC772esO"
      },
      "source": [
        "# Data Analysis & Cleaning"
      ]
    },
    {
      "cell_type": "markdown",
      "metadata": {
        "id": "2zVnW40Ea8gB"
      },
      "source": [
        "## Data Exploration"
      ]
    },
    {
      "cell_type": "code",
      "metadata": {
        "colab": {
          "base_uri": "https://localhost:8080/"
        },
        "id": "y3SmDJTD-0sJ",
        "outputId": "6c525292-c748-43cb-b10f-075ff3b99128"
      },
      "source": [
        "train_df.shape"
      ],
      "execution_count": 268,
      "outputs": [
        {
          "output_type": "execute_result",
          "data": {
            "text/plain": [
              "(44550, 41)"
            ]
          },
          "metadata": {
            "tags": []
          },
          "execution_count": 268
        }
      ]
    },
    {
      "cell_type": "code",
      "metadata": {
        "colab": {
          "base_uri": "https://localhost:8080/"
        },
        "id": "Wol_MvM9JihM",
        "outputId": "4113a2fc-8a25-45de-ce7d-254725ca0cdf"
      },
      "source": [
        "df = train_df.append(test_df)\n",
        "df.shape"
      ],
      "execution_count": 269,
      "outputs": [
        {
          "output_type": "execute_result",
          "data": {
            "text/plain": [
              "(59400, 42)"
            ]
          },
          "metadata": {
            "tags": []
          },
          "execution_count": 269
        }
      ]
    },
    {
      "cell_type": "code",
      "metadata": {
        "colab": {
          "base_uri": "https://localhost:8080/"
        },
        "id": "vcdLIUtS8VWo",
        "outputId": "859014b4-4532-4745-97fa-238820ca6565"
      },
      "source": [
        "train_df.info()"
      ],
      "execution_count": 270,
      "outputs": [
        {
          "output_type": "stream",
          "text": [
            "<class 'pandas.core.frame.DataFrame'>\n",
            "RangeIndex: 44550 entries, 0 to 44549\n",
            "Data columns (total 41 columns):\n",
            " #   Column                 Non-Null Count  Dtype  \n",
            "---  ------                 --------------  -----  \n",
            " 0   id                     44550 non-null  int64  \n",
            " 1   amount_tsh             44550 non-null  float64\n",
            " 2   date_recorded          44550 non-null  object \n",
            " 3   funder                 41757 non-null  object \n",
            " 4   gps_height             44550 non-null  int64  \n",
            " 5   installer              41743 non-null  object \n",
            " 6   longitude              44550 non-null  float64\n",
            " 7   latitude               44550 non-null  float64\n",
            " 8   wpt_name               44550 non-null  object \n",
            " 9   num_private            44550 non-null  int64  \n",
            " 10  basin                  44550 non-null  object \n",
            " 11  subvillage             44263 non-null  object \n",
            " 12  region                 44550 non-null  object \n",
            " 13  region_code            44550 non-null  int64  \n",
            " 14  district_code          44550 non-null  int64  \n",
            " 15  lga                    44550 non-null  object \n",
            " 16  ward                   44550 non-null  object \n",
            " 17  population             44550 non-null  int64  \n",
            " 18  public_meeting         42059 non-null  object \n",
            " 19  recorded_by            44550 non-null  object \n",
            " 20  scheme_management      41718 non-null  object \n",
            " 21  scheme_name            23440 non-null  object \n",
            " 22  permit                 42214 non-null  object \n",
            " 23  construction_year      44550 non-null  int64  \n",
            " 24  extraction_type        44550 non-null  object \n",
            " 25  extraction_type_group  44550 non-null  object \n",
            " 26  extraction_type_class  44550 non-null  object \n",
            " 27  management             44550 non-null  object \n",
            " 28  management_group       44550 non-null  object \n",
            " 29  payment                44550 non-null  object \n",
            " 30  payment_type           44550 non-null  object \n",
            " 31  water_quality          44550 non-null  object \n",
            " 32  quality_group          44550 non-null  object \n",
            " 33  quantity               44550 non-null  object \n",
            " 34  quantity_group         44550 non-null  object \n",
            " 35  source                 44550 non-null  object \n",
            " 36  source_type            44550 non-null  object \n",
            " 37  source_class           44550 non-null  object \n",
            " 38  waterpoint_type        44550 non-null  object \n",
            " 39  waterpoint_type_group  44550 non-null  object \n",
            " 40  status_group           44550 non-null  object \n",
            "dtypes: float64(3), int64(7), object(31)\n",
            "memory usage: 13.9+ MB\n"
          ],
          "name": "stdout"
        }
      ]
    },
    {
      "cell_type": "code",
      "metadata": {
        "colab": {
          "base_uri": "https://localhost:8080/",
          "height": 997
        },
        "id": "goJ-80NL8XXX",
        "outputId": "2d81a881-9ded-42dd-bfc1-26f1033e4264"
      },
      "source": [
        "display(train_df.describe())\n",
        "print(dash)\n",
        "print(dash)\n",
        "print('Data Size:',train_df.shape)\n",
        "print('\\nData types:',train_df.dtypes)\n",
        "print(dash)\n",
        "display(train_df.head())"
      ],
      "execution_count": 271,
      "outputs": [
        {
          "output_type": "display_data",
          "data": {
            "text/html": [
              "<div>\n",
              "<style scoped>\n",
              "    .dataframe tbody tr th:only-of-type {\n",
              "        vertical-align: middle;\n",
              "    }\n",
              "\n",
              "    .dataframe tbody tr th {\n",
              "        vertical-align: top;\n",
              "    }\n",
              "\n",
              "    .dataframe thead th {\n",
              "        text-align: right;\n",
              "    }\n",
              "</style>\n",
              "<table border=\"1\" class=\"dataframe\">\n",
              "  <thead>\n",
              "    <tr style=\"text-align: right;\">\n",
              "      <th></th>\n",
              "      <th>id</th>\n",
              "      <th>amount_tsh</th>\n",
              "      <th>gps_height</th>\n",
              "      <th>longitude</th>\n",
              "      <th>latitude</th>\n",
              "      <th>num_private</th>\n",
              "      <th>region_code</th>\n",
              "      <th>district_code</th>\n",
              "      <th>population</th>\n",
              "      <th>construction_year</th>\n",
              "    </tr>\n",
              "  </thead>\n",
              "  <tbody>\n",
              "    <tr>\n",
              "      <th>count</th>\n",
              "      <td>44550.000000</td>\n",
              "      <td>44550.000000</td>\n",
              "      <td>44550.000000</td>\n",
              "      <td>44550.000000</td>\n",
              "      <td>4.455000e+04</td>\n",
              "      <td>44550.000000</td>\n",
              "      <td>44550.000000</td>\n",
              "      <td>44550.000000</td>\n",
              "      <td>44550.000000</td>\n",
              "      <td>44550.000000</td>\n",
              "    </tr>\n",
              "    <tr>\n",
              "      <th>mean</th>\n",
              "      <td>37192.623681</td>\n",
              "      <td>307.623224</td>\n",
              "      <td>665.490774</td>\n",
              "      <td>34.084084</td>\n",
              "      <td>-5.721980e+00</td>\n",
              "      <td>0.521549</td>\n",
              "      <td>15.338563</td>\n",
              "      <td>5.678967</td>\n",
              "      <td>179.112750</td>\n",
              "      <td>1295.782155</td>\n",
              "    </tr>\n",
              "    <tr>\n",
              "      <th>std</th>\n",
              "      <td>21399.827198</td>\n",
              "      <td>2402.742799</td>\n",
              "      <td>693.653179</td>\n",
              "      <td>6.555924</td>\n",
              "      <td>2.948828e+00</td>\n",
              "      <td>13.835868</td>\n",
              "      <td>17.672144</td>\n",
              "      <td>9.724205</td>\n",
              "      <td>478.995645</td>\n",
              "      <td>953.183961</td>\n",
              "    </tr>\n",
              "    <tr>\n",
              "      <th>min</th>\n",
              "      <td>1.000000</td>\n",
              "      <td>0.000000</td>\n",
              "      <td>-90.000000</td>\n",
              "      <td>0.000000</td>\n",
              "      <td>-1.164838e+01</td>\n",
              "      <td>0.000000</td>\n",
              "      <td>1.000000</td>\n",
              "      <td>0.000000</td>\n",
              "      <td>0.000000</td>\n",
              "      <td>0.000000</td>\n",
              "    </tr>\n",
              "    <tr>\n",
              "      <th>25%</th>\n",
              "      <td>18723.250000</td>\n",
              "      <td>0.000000</td>\n",
              "      <td>0.000000</td>\n",
              "      <td>33.105585</td>\n",
              "      <td>-8.574241e+00</td>\n",
              "      <td>0.000000</td>\n",
              "      <td>5.000000</td>\n",
              "      <td>2.000000</td>\n",
              "      <td>0.000000</td>\n",
              "      <td>0.000000</td>\n",
              "    </tr>\n",
              "    <tr>\n",
              "      <th>50%</th>\n",
              "      <td>37183.500000</td>\n",
              "      <td>0.000000</td>\n",
              "      <td>363.000000</td>\n",
              "      <td>34.905600</td>\n",
              "      <td>-5.045611e+00</td>\n",
              "      <td>0.000000</td>\n",
              "      <td>12.000000</td>\n",
              "      <td>3.000000</td>\n",
              "      <td>25.000000</td>\n",
              "      <td>1985.000000</td>\n",
              "    </tr>\n",
              "    <tr>\n",
              "      <th>75%</th>\n",
              "      <td>55647.500000</td>\n",
              "      <td>20.000000</td>\n",
              "      <td>1318.000000</td>\n",
              "      <td>37.176859</td>\n",
              "      <td>-3.327795e+00</td>\n",
              "      <td>0.000000</td>\n",
              "      <td>17.000000</td>\n",
              "      <td>5.000000</td>\n",
              "      <td>210.000000</td>\n",
              "      <td>2004.000000</td>\n",
              "    </tr>\n",
              "    <tr>\n",
              "      <th>max</th>\n",
              "      <td>74247.000000</td>\n",
              "      <td>170000.000000</td>\n",
              "      <td>2770.000000</td>\n",
              "      <td>40.345193</td>\n",
              "      <td>-2.000000e-08</td>\n",
              "      <td>1776.000000</td>\n",
              "      <td>99.000000</td>\n",
              "      <td>80.000000</td>\n",
              "      <td>30500.000000</td>\n",
              "      <td>2013.000000</td>\n",
              "    </tr>\n",
              "  </tbody>\n",
              "</table>\n",
              "</div>"
            ],
            "text/plain": [
              "                 id     amount_tsh  ...    population  construction_year\n",
              "count  44550.000000   44550.000000  ...  44550.000000       44550.000000\n",
              "mean   37192.623681     307.623224  ...    179.112750        1295.782155\n",
              "std    21399.827198    2402.742799  ...    478.995645         953.183961\n",
              "min        1.000000       0.000000  ...      0.000000           0.000000\n",
              "25%    18723.250000       0.000000  ...      0.000000           0.000000\n",
              "50%    37183.500000       0.000000  ...     25.000000        1985.000000\n",
              "75%    55647.500000      20.000000  ...    210.000000        2004.000000\n",
              "max    74247.000000  170000.000000  ...  30500.000000        2013.000000\n",
              "\n",
              "[8 rows x 10 columns]"
            ]
          },
          "metadata": {
            "tags": []
          }
        },
        {
          "output_type": "stream",
          "text": [
            "-----------------------------------------------------------\n",
            "-----------------------------------------------------------\n",
            "Data Size: (44550, 41)\n",
            "\n",
            "Data types: id                         int64\n",
            "amount_tsh               float64\n",
            "date_recorded             object\n",
            "funder                    object\n",
            "gps_height                 int64\n",
            "                          ...   \n",
            "source_type               object\n",
            "source_class              object\n",
            "waterpoint_type           object\n",
            "waterpoint_type_group     object\n",
            "status_group              object\n",
            "Length: 41, dtype: object\n",
            "-----------------------------------------------------------\n"
          ],
          "name": "stdout"
        },
        {
          "output_type": "display_data",
          "data": {
            "text/html": [
              "<div>\n",
              "<style scoped>\n",
              "    .dataframe tbody tr th:only-of-type {\n",
              "        vertical-align: middle;\n",
              "    }\n",
              "\n",
              "    .dataframe tbody tr th {\n",
              "        vertical-align: top;\n",
              "    }\n",
              "\n",
              "    .dataframe thead th {\n",
              "        text-align: right;\n",
              "    }\n",
              "</style>\n",
              "<table border=\"1\" class=\"dataframe\">\n",
              "  <thead>\n",
              "    <tr style=\"text-align: right;\">\n",
              "      <th></th>\n",
              "      <th>id</th>\n",
              "      <th>amount_tsh</th>\n",
              "      <th>date_recorded</th>\n",
              "      <th>funder</th>\n",
              "      <th>gps_height</th>\n",
              "      <th>installer</th>\n",
              "      <th>longitude</th>\n",
              "      <th>latitude</th>\n",
              "      <th>wpt_name</th>\n",
              "      <th>num_private</th>\n",
              "      <th>basin</th>\n",
              "      <th>subvillage</th>\n",
              "      <th>region</th>\n",
              "      <th>region_code</th>\n",
              "      <th>district_code</th>\n",
              "      <th>lga</th>\n",
              "      <th>ward</th>\n",
              "      <th>population</th>\n",
              "      <th>public_meeting</th>\n",
              "      <th>recorded_by</th>\n",
              "      <th>scheme_management</th>\n",
              "      <th>scheme_name</th>\n",
              "      <th>permit</th>\n",
              "      <th>construction_year</th>\n",
              "      <th>extraction_type</th>\n",
              "      <th>extraction_type_group</th>\n",
              "      <th>extraction_type_class</th>\n",
              "      <th>management</th>\n",
              "      <th>management_group</th>\n",
              "      <th>payment</th>\n",
              "      <th>payment_type</th>\n",
              "      <th>water_quality</th>\n",
              "      <th>quality_group</th>\n",
              "      <th>quantity</th>\n",
              "      <th>quantity_group</th>\n",
              "      <th>source</th>\n",
              "      <th>source_type</th>\n",
              "      <th>source_class</th>\n",
              "      <th>waterpoint_type</th>\n",
              "      <th>waterpoint_type_group</th>\n",
              "      <th>status_group</th>\n",
              "    </tr>\n",
              "  </thead>\n",
              "  <tbody>\n",
              "    <tr>\n",
              "      <th>0</th>\n",
              "      <td>7411</td>\n",
              "      <td>7.0</td>\n",
              "      <td>2013-03-20</td>\n",
              "      <td>Germany Republi</td>\n",
              "      <td>1203</td>\n",
              "      <td>CES</td>\n",
              "      <td>37.228664</td>\n",
              "      <td>-3.256505</td>\n",
              "      <td>Kwa Abdalla</td>\n",
              "      <td>0</td>\n",
              "      <td>Pangani</td>\n",
              "      <td>Mafurini</td>\n",
              "      <td>Kilimanjaro</td>\n",
              "      <td>3</td>\n",
              "      <td>5</td>\n",
              "      <td>Hai</td>\n",
              "      <td>Machame Kaskazini</td>\n",
              "      <td>90</td>\n",
              "      <td>True</td>\n",
              "      <td>GeoData Consultants Ltd</td>\n",
              "      <td>Water Board</td>\n",
              "      <td>Machame water supply</td>\n",
              "      <td>True</td>\n",
              "      <td>2008</td>\n",
              "      <td>gravity</td>\n",
              "      <td>gravity</td>\n",
              "      <td>gravity</td>\n",
              "      <td>water board</td>\n",
              "      <td>user-group</td>\n",
              "      <td>pay per bucket</td>\n",
              "      <td>per bucket</td>\n",
              "      <td>soft</td>\n",
              "      <td>good</td>\n",
              "      <td>enough</td>\n",
              "      <td>enough</td>\n",
              "      <td>spring</td>\n",
              "      <td>spring</td>\n",
              "      <td>groundwater</td>\n",
              "      <td>communal standpipe</td>\n",
              "      <td>communal standpipe</td>\n",
              "      <td>functional</td>\n",
              "    </tr>\n",
              "    <tr>\n",
              "      <th>1</th>\n",
              "      <td>18014</td>\n",
              "      <td>0.0</td>\n",
              "      <td>2011-02-21</td>\n",
              "      <td>Cdtf</td>\n",
              "      <td>1409</td>\n",
              "      <td>CDTF</td>\n",
              "      <td>34.615481</td>\n",
              "      <td>-9.972601</td>\n",
              "      <td>none</td>\n",
              "      <td>0</td>\n",
              "      <td>Lake Nyasa</td>\n",
              "      <td>Ituni</td>\n",
              "      <td>Iringa</td>\n",
              "      <td>11</td>\n",
              "      <td>5</td>\n",
              "      <td>Ludewa</td>\n",
              "      <td>Luana</td>\n",
              "      <td>70</td>\n",
              "      <td>False</td>\n",
              "      <td>GeoData Consultants Ltd</td>\n",
              "      <td>Private operator</td>\n",
              "      <td>Mgowel</td>\n",
              "      <td>False</td>\n",
              "      <td>1984</td>\n",
              "      <td>gravity</td>\n",
              "      <td>gravity</td>\n",
              "      <td>gravity</td>\n",
              "      <td>private operator</td>\n",
              "      <td>commercial</td>\n",
              "      <td>never pay</td>\n",
              "      <td>never pay</td>\n",
              "      <td>soft</td>\n",
              "      <td>good</td>\n",
              "      <td>enough</td>\n",
              "      <td>enough</td>\n",
              "      <td>spring</td>\n",
              "      <td>spring</td>\n",
              "      <td>groundwater</td>\n",
              "      <td>communal standpipe</td>\n",
              "      <td>communal standpipe</td>\n",
              "      <td>functional</td>\n",
              "    </tr>\n",
              "    <tr>\n",
              "      <th>2</th>\n",
              "      <td>26103</td>\n",
              "      <td>0.0</td>\n",
              "      <td>2013-01-04</td>\n",
              "      <td>Government Of Tanzania</td>\n",
              "      <td>1572</td>\n",
              "      <td>DWE</td>\n",
              "      <td>36.658778</td>\n",
              "      <td>-3.321529</td>\n",
              "      <td>Kwa Loishiye</td>\n",
              "      <td>0</td>\n",
              "      <td>Pangani</td>\n",
              "      <td>Melebuki</td>\n",
              "      <td>Arusha</td>\n",
              "      <td>2</td>\n",
              "      <td>2</td>\n",
              "      <td>Arusha Rural</td>\n",
              "      <td>Kimnyaki</td>\n",
              "      <td>150</td>\n",
              "      <td>True</td>\n",
              "      <td>GeoData Consultants Ltd</td>\n",
              "      <td>VWC</td>\n",
              "      <td>Saitero olosaita pipe line</td>\n",
              "      <td>True</td>\n",
              "      <td>2002</td>\n",
              "      <td>gravity</td>\n",
              "      <td>gravity</td>\n",
              "      <td>gravity</td>\n",
              "      <td>vwc</td>\n",
              "      <td>user-group</td>\n",
              "      <td>never pay</td>\n",
              "      <td>never pay</td>\n",
              "      <td>soft</td>\n",
              "      <td>good</td>\n",
              "      <td>insufficient</td>\n",
              "      <td>insufficient</td>\n",
              "      <td>spring</td>\n",
              "      <td>spring</td>\n",
              "      <td>groundwater</td>\n",
              "      <td>communal standpipe</td>\n",
              "      <td>communal standpipe</td>\n",
              "      <td>non functional</td>\n",
              "    </tr>\n",
              "    <tr>\n",
              "      <th>3</th>\n",
              "      <td>31140</td>\n",
              "      <td>0.0</td>\n",
              "      <td>2011-04-03</td>\n",
              "      <td>District Council</td>\n",
              "      <td>0</td>\n",
              "      <td>District Council</td>\n",
              "      <td>33.628025</td>\n",
              "      <td>-8.860795</td>\n",
              "      <td>Mwanzechele</td>\n",
              "      <td>0</td>\n",
              "      <td>Rufiji</td>\n",
              "      <td>Darajani</td>\n",
              "      <td>Mbeya</td>\n",
              "      <td>12</td>\n",
              "      <td>2</td>\n",
              "      <td>Mbeya Rural</td>\n",
              "      <td>Inyala</td>\n",
              "      <td>0</td>\n",
              "      <td>True</td>\n",
              "      <td>GeoData Consultants Ltd</td>\n",
              "      <td>VWC</td>\n",
              "      <td>NaN</td>\n",
              "      <td>True</td>\n",
              "      <td>0</td>\n",
              "      <td>gravity</td>\n",
              "      <td>gravity</td>\n",
              "      <td>gravity</td>\n",
              "      <td>wug</td>\n",
              "      <td>user-group</td>\n",
              "      <td>pay annually</td>\n",
              "      <td>annually</td>\n",
              "      <td>soft</td>\n",
              "      <td>good</td>\n",
              "      <td>insufficient</td>\n",
              "      <td>insufficient</td>\n",
              "      <td>river</td>\n",
              "      <td>river/lake</td>\n",
              "      <td>surface</td>\n",
              "      <td>communal standpipe</td>\n",
              "      <td>communal standpipe</td>\n",
              "      <td>functional</td>\n",
              "    </tr>\n",
              "    <tr>\n",
              "      <th>4</th>\n",
              "      <td>12286</td>\n",
              "      <td>300.0</td>\n",
              "      <td>2013-03-08</td>\n",
              "      <td>District Council</td>\n",
              "      <td>1283</td>\n",
              "      <td>District Council</td>\n",
              "      <td>37.655509</td>\n",
              "      <td>-3.669777</td>\n",
              "      <td>Kwa Kidaya</td>\n",
              "      <td>0</td>\n",
              "      <td>Pangani</td>\n",
              "      <td>Mwira A</td>\n",
              "      <td>Kilimanjaro</td>\n",
              "      <td>3</td>\n",
              "      <td>2</td>\n",
              "      <td>Mwanga</td>\n",
              "      <td>Shinghatini</td>\n",
              "      <td>34</td>\n",
              "      <td>True</td>\n",
              "      <td>GeoData Consultants Ltd</td>\n",
              "      <td>VWC</td>\n",
              "      <td>Churu water supply</td>\n",
              "      <td>False</td>\n",
              "      <td>2007</td>\n",
              "      <td>gravity</td>\n",
              "      <td>gravity</td>\n",
              "      <td>gravity</td>\n",
              "      <td>vwc</td>\n",
              "      <td>user-group</td>\n",
              "      <td>pay monthly</td>\n",
              "      <td>monthly</td>\n",
              "      <td>soft</td>\n",
              "      <td>good</td>\n",
              "      <td>insufficient</td>\n",
              "      <td>insufficient</td>\n",
              "      <td>spring</td>\n",
              "      <td>spring</td>\n",
              "      <td>groundwater</td>\n",
              "      <td>communal standpipe</td>\n",
              "      <td>communal standpipe</td>\n",
              "      <td>functional</td>\n",
              "    </tr>\n",
              "  </tbody>\n",
              "</table>\n",
              "</div>"
            ],
            "text/plain": [
              "      id  amount_tsh  ... waterpoint_type_group    status_group\n",
              "0   7411         7.0  ...    communal standpipe      functional\n",
              "1  18014         0.0  ...    communal standpipe      functional\n",
              "2  26103         0.0  ...    communal standpipe  non functional\n",
              "3  31140         0.0  ...    communal standpipe      functional\n",
              "4  12286       300.0  ...    communal standpipe      functional\n",
              "\n",
              "[5 rows x 41 columns]"
            ]
          },
          "metadata": {
            "tags": []
          }
        }
      ]
    },
    {
      "cell_type": "code",
      "metadata": {
        "colab": {
          "base_uri": "https://localhost:8080/"
        },
        "id": "AN4Zb2xE8yiZ",
        "outputId": "52de8f2d-1a39-409b-b3a1-edd03463e0c6"
      },
      "source": [
        "for col in train_df.columns.values:\n",
        "  list_vals = pd.unique(train_df[col])\n",
        "  print('\\n' + col + ' is of type '+ str(train_df[col].dtypes) + ', has ' + str(len(list_vals)) + ' unique values, and ' + str(np.sum(pd.isnull(train_df[col]))) + ' null entries')\n",
        "  #print iff colloum has less than 10 unique values\n",
        "  if len(list_vals) < 10:\n",
        "    list_str = ''\n",
        "    for n_value in range(len(list_vals)):\n",
        "      list_str = list_str + str(list_vals[n_value]) + ', '\n",
        "    print(' These are: '+ list_str[0:len(list_str) - 2])"
      ],
      "execution_count": 272,
      "outputs": [
        {
          "output_type": "stream",
          "text": [
            "\n",
            "id is of type int64, has 44550 unique values, and 0 null entries\n",
            "\n",
            "amount_tsh is of type float64, has 85 unique values, and 0 null entries\n",
            "\n",
            "date_recorded is of type object, has 346 unique values, and 0 null entries\n",
            "\n",
            "funder is of type object, has 1652 unique values, and 2793 null entries\n",
            "\n",
            "gps_height is of type int64, has 2396 unique values, and 0 null entries\n",
            "\n",
            "installer is of type object, has 1855 unique values, and 2807 null entries\n",
            "\n",
            "longitude is of type float64, has 43155 unique values, and 0 null entries\n",
            "\n",
            "latitude is of type float64, has 43155 unique values, and 0 null entries\n",
            "\n",
            "wpt_name is of type object, has 28991 unique values, and 0 null entries\n",
            "\n",
            "num_private is of type int64, has 59 unique values, and 0 null entries\n",
            "\n",
            "basin is of type object, has 9 unique values, and 0 null entries\n",
            " These are: Pangani, Lake Nyasa, Rufiji, Lake Tanganyika, Lake Victoria, Wami / Ruvu, Internal, Ruvuma / Southern Coast, Lake Rukwa\n",
            "\n",
            "subvillage is of type object, has 16618 unique values, and 287 null entries\n",
            "\n",
            "region is of type object, has 21 unique values, and 0 null entries\n",
            "\n",
            "region_code is of type int64, has 27 unique values, and 0 null entries\n",
            "\n",
            "district_code is of type int64, has 20 unique values, and 0 null entries\n",
            "\n",
            "lga is of type object, has 125 unique values, and 0 null entries\n",
            "\n",
            "ward is of type object, has 2080 unique values, and 0 null entries\n",
            "\n",
            "population is of type int64, has 956 unique values, and 0 null entries\n",
            "\n",
            "public_meeting is of type object, has 3 unique values, and 2491 null entries\n",
            " These are: True, False, nan\n",
            "\n",
            "recorded_by is of type object, has 1 unique values, and 0 null entries\n",
            " These are: GeoData Consultants Ltd\n",
            "\n",
            "scheme_management is of type object, has 13 unique values, and 2832 null entries\n",
            "\n",
            "scheme_name is of type object, has 2507 unique values, and 21110 null entries\n",
            "\n",
            "permit is of type object, has 3 unique values, and 2336 null entries\n",
            " These are: True, False, nan\n",
            "\n",
            "construction_year is of type int64, has 55 unique values, and 0 null entries\n",
            "\n",
            "extraction_type is of type object, has 18 unique values, and 0 null entries\n",
            "\n",
            "extraction_type_group is of type object, has 13 unique values, and 0 null entries\n",
            "\n",
            "extraction_type_class is of type object, has 7 unique values, and 0 null entries\n",
            " These are: gravity, handpump, motorpump, submersible, other, rope pump, wind-powered\n",
            "\n",
            "management is of type object, has 12 unique values, and 0 null entries\n",
            "\n",
            "management_group is of type object, has 5 unique values, and 0 null entries\n",
            " These are: user-group, commercial, parastatal, unknown, other\n",
            "\n",
            "payment is of type object, has 7 unique values, and 0 null entries\n",
            " These are: pay per bucket, never pay, pay annually, pay monthly, unknown, pay when scheme fails, other\n",
            "\n",
            "payment_type is of type object, has 7 unique values, and 0 null entries\n",
            " These are: per bucket, never pay, annually, monthly, unknown, on failure, other\n",
            "\n",
            "water_quality is of type object, has 8 unique values, and 0 null entries\n",
            " These are: soft, salty abandoned, unknown, salty, fluoride, milky, coloured, fluoride abandoned\n",
            "\n",
            "quality_group is of type object, has 6 unique values, and 0 null entries\n",
            " These are: good, salty, unknown, fluoride, milky, colored\n",
            "\n",
            "quantity is of type object, has 5 unique values, and 0 null entries\n",
            " These are: enough, insufficient, dry, unknown, seasonal\n",
            "\n",
            "quantity_group is of type object, has 5 unique values, and 0 null entries\n",
            " These are: enough, insufficient, dry, unknown, seasonal\n",
            "\n",
            "source is of type object, has 10 unique values, and 0 null entries\n",
            "\n",
            "source_type is of type object, has 7 unique values, and 0 null entries\n",
            " These are: spring, river/lake, shallow well, borehole, rainwater harvesting, dam, other\n",
            "\n",
            "source_class is of type object, has 3 unique values, and 0 null entries\n",
            " These are: groundwater, surface, unknown\n",
            "\n",
            "waterpoint_type is of type object, has 7 unique values, and 0 null entries\n",
            " These are: communal standpipe, hand pump, other, communal standpipe multiple, cattle trough, improved spring, dam\n",
            "\n",
            "waterpoint_type_group is of type object, has 6 unique values, and 0 null entries\n",
            " These are: communal standpipe, hand pump, other, cattle trough, improved spring, dam\n",
            "\n",
            "status_group is of type object, has 3 unique values, and 0 null entries\n",
            " These are: functional, non functional, functional needs repair\n"
          ],
          "name": "stdout"
        }
      ]
    },
    {
      "cell_type": "code",
      "metadata": {
        "colab": {
          "base_uri": "https://localhost:8080/"
        },
        "id": "hci_uObv-Mk8",
        "outputId": "124d10dd-057c-4654-d68f-c9507ff3e5ea"
      },
      "source": [
        "pd.set_option('display.max_rows', None)\n",
        "print('Number of null values:\\n',train_df.isnull().sum())\n",
        "pd.set_option('display.max_rows', 15)"
      ],
      "execution_count": 273,
      "outputs": [
        {
          "output_type": "stream",
          "text": [
            "Number of null values:\n",
            " id                           0\n",
            "amount_tsh                   0\n",
            "date_recorded                0\n",
            "funder                    2793\n",
            "gps_height                   0\n",
            "installer                 2807\n",
            "longitude                    0\n",
            "latitude                     0\n",
            "wpt_name                     0\n",
            "num_private                  0\n",
            "basin                        0\n",
            "subvillage                 287\n",
            "region                       0\n",
            "region_code                  0\n",
            "district_code                0\n",
            "lga                          0\n",
            "ward                         0\n",
            "population                   0\n",
            "public_meeting            2491\n",
            "recorded_by                  0\n",
            "scheme_management         2832\n",
            "scheme_name              21110\n",
            "permit                    2336\n",
            "construction_year            0\n",
            "extraction_type              0\n",
            "extraction_type_group        0\n",
            "extraction_type_class        0\n",
            "management                   0\n",
            "management_group             0\n",
            "payment                      0\n",
            "payment_type                 0\n",
            "water_quality                0\n",
            "quality_group                0\n",
            "quantity                     0\n",
            "quantity_group               0\n",
            "source                       0\n",
            "source_type                  0\n",
            "source_class                 0\n",
            "waterpoint_type              0\n",
            "waterpoint_type_group        0\n",
            "status_group                 0\n",
            "dtype: int64\n"
          ],
          "name": "stdout"
        }
      ]
    },
    {
      "cell_type": "code",
      "metadata": {
        "colab": {
          "base_uri": "https://localhost:8080/",
          "height": 466
        },
        "id": "vx3EqyB8-9LU",
        "outputId": "c313c1b0-8034-4f9d-82da-97c23c715b08"
      },
      "source": [
        "msno.matrix(train_df, labels=True, fontsize=8)"
      ],
      "execution_count": 274,
      "outputs": [
        {
          "output_type": "execute_result",
          "data": {
            "text/plain": [
              "<matplotlib.axes._subplots.AxesSubplot at 0x7f95dc762510>"
            ]
          },
          "metadata": {
            "tags": []
          },
          "execution_count": 274
        },
        {
          "output_type": "display_data",
          "data": {
            "image/png": "[encoded data removed]",
            "text/plain": [
              "<Figure size 1800x720 with 2 Axes>"
            ]
          },
          "metadata": {
            "tags": [],
            "needs_background": "light"
          }
        }
      ]
    },
    {
      "cell_type": "code",
      "metadata": {
        "colab": {
          "base_uri": "https://localhost:8080/",
          "height": 514
        },
        "id": "WyXpKiXJ_Aen",
        "outputId": "22d91bd6-a9d2-4ee6-c615-884bddf17801"
      },
      "source": [
        "msno.bar(train_df, labels=True,fontsize=10)"
      ],
      "execution_count": 275,
      "outputs": [
        {
          "output_type": "execute_result",
          "data": {
            "text/plain": [
              "<matplotlib.axes._subplots.AxesSubplot at 0x7f95dbb6c5d0>"
            ]
          },
          "metadata": {
            "tags": []
          },
          "execution_count": 275
        },
        {
          "output_type": "display_data",
          "data": {
            "image/png": "[encoded data removed]",
            "text/plain": [
              "<Figure size 1728x720 with 3 Axes>"
            ]
          },
          "metadata": {
            "tags": [],
            "needs_background": "light"
          }
        }
      ]
    },
    {
      "cell_type": "code",
      "metadata": {
        "colab": {
          "base_uri": "https://localhost:8080/",
          "height": 990
        },
        "id": "__8dAuz3_K_y",
        "outputId": "da6cfca0-8154-4e52-e586-fd893de2739a"
      },
      "source": [
        "plt.figure(figsize=(15,15))\n",
        "sns.heatmap(train_df.isnull())"
      ],
      "execution_count": 276,
      "outputs": [
        {
          "output_type": "execute_result",
          "data": {
            "text/plain": [
              "<matplotlib.axes._subplots.AxesSubplot at 0x7f95e32e84d0>"
            ]
          },
          "metadata": {
            "tags": []
          },
          "execution_count": 276
        },
        {
          "output_type": "display_data",
          "data": {
            "image/png": "[encoded data removed]",
            "text/plain": [
              "<Figure size 1080x1080 with 2 Axes>"
            ]
          },
          "metadata": {
            "tags": [],
            "needs_background": "light"
          }
        }
      ]
    },
    {
      "cell_type": "code",
      "metadata": {
        "colab": {
          "base_uri": "https://localhost:8080/"
        },
        "id": "B8ARMh1P_WxI",
        "outputId": "61c56b32-e174-4c12-baa8-07d0ca23e6cc"
      },
      "source": [
        "#finding out cols with significant no. of Missing Vals\n",
        "null_col_names = []\n",
        "\n",
        "for col in train_df.columns.values: # For each column\n",
        "  if train_df[col].isnull().sum()>20:\n",
        "   print('{col_name} has {num} null entries.'.format(col_name=col, num = str(train_df[col].isnull().sum())))\n",
        "   null_col_names.append(col)\n",
        "print('\\nColumns to delete: {}'.format(null_col_names))\n"
      ],
      "execution_count": 277,
      "outputs": [
        {
          "output_type": "stream",
          "text": [
            "funder has 2793 null entries.\n",
            "installer has 2807 null entries.\n",
            "subvillage has 287 null entries.\n",
            "public_meeting has 2491 null entries.\n",
            "scheme_management has 2832 null entries.\n",
            "scheme_name has 21110 null entries.\n",
            "permit has 2336 null entries.\n",
            "\n",
            "Columns to delete: ['funder', 'installer', 'subvillage', 'public_meeting', 'scheme_management', 'scheme_name', 'permit']\n"
          ],
          "name": "stdout"
        }
      ]
    },
    {
      "cell_type": "code",
      "metadata": {
        "colab": {
          "base_uri": "https://localhost:8080/"
        },
        "id": "v6zfK1ExBitG",
        "outputId": "5f97d67f-a984-427f-c431-d5d6f502489c"
      },
      "source": [
        "#Finding out rows with significant no. of missing values ,we are putting a threshold of 10 missing values\n",
        "null_sum = train_df.isnull().sum(axis=1).tolist()\n",
        "null_row_indices = [index for index, val in enumerate(null_sum) if val > 10] \n",
        "for row in null_row_indices:\n",
        " print('Row {row} has  {num} null values'.format(row = row, num = str(null_sum[row]) ))\n",
        "print('\\n')\n",
        "print('Rows to delete: {}'.format(null_row_indices))"
      ],
      "execution_count": 278,
      "outputs": [
        {
          "output_type": "stream",
          "text": [
            "\n",
            "\n",
            "Rows to delete: []\n"
          ],
          "name": "stdout"
        }
      ]
    },
    {
      "cell_type": "code",
      "metadata": {
        "colab": {
          "base_uri": "https://localhost:8080/",
          "height": 69
        },
        "id": "jZxSqsC0E5nW",
        "outputId": "fbec88ba-3ecc-4b6c-cc85-2a978e0efb2e"
      },
      "source": [
        "#Checking for duplicates\n",
        "train_df_dupe = train_df[train_df.duplicated()]\n",
        "train_df_dupe"
      ],
      "execution_count": 279,
      "outputs": [
        {
          "output_type": "execute_result",
          "data": {
            "text/html": [
              "<div>\n",
              "<style scoped>\n",
              "    .dataframe tbody tr th:only-of-type {\n",
              "        vertical-align: middle;\n",
              "    }\n",
              "\n",
              "    .dataframe tbody tr th {\n",
              "        vertical-align: top;\n",
              "    }\n",
              "\n",
              "    .dataframe thead th {\n",
              "        text-align: right;\n",
              "    }\n",
              "</style>\n",
              "<table border=\"1\" class=\"dataframe\">\n",
              "  <thead>\n",
              "    <tr style=\"text-align: right;\">\n",
              "      <th></th>\n",
              "      <th>id</th>\n",
              "      <th>amount_tsh</th>\n",
              "      <th>date_recorded</th>\n",
              "      <th>funder</th>\n",
              "      <th>gps_height</th>\n",
              "      <th>installer</th>\n",
              "      <th>longitude</th>\n",
              "      <th>latitude</th>\n",
              "      <th>wpt_name</th>\n",
              "      <th>num_private</th>\n",
              "      <th>basin</th>\n",
              "      <th>subvillage</th>\n",
              "      <th>region</th>\n",
              "      <th>region_code</th>\n",
              "      <th>district_code</th>\n",
              "      <th>lga</th>\n",
              "      <th>ward</th>\n",
              "      <th>population</th>\n",
              "      <th>public_meeting</th>\n",
              "      <th>recorded_by</th>\n",
              "      <th>scheme_management</th>\n",
              "      <th>scheme_name</th>\n",
              "      <th>permit</th>\n",
              "      <th>construction_year</th>\n",
              "      <th>extraction_type</th>\n",
              "      <th>extraction_type_group</th>\n",
              "      <th>extraction_type_class</th>\n",
              "      <th>management</th>\n",
              "      <th>management_group</th>\n",
              "      <th>payment</th>\n",
              "      <th>payment_type</th>\n",
              "      <th>water_quality</th>\n",
              "      <th>quality_group</th>\n",
              "      <th>quantity</th>\n",
              "      <th>quantity_group</th>\n",
              "      <th>source</th>\n",
              "      <th>source_type</th>\n",
              "      <th>source_class</th>\n",
              "      <th>waterpoint_type</th>\n",
              "      <th>waterpoint_type_group</th>\n",
              "      <th>status_group</th>\n",
              "    </tr>\n",
              "  </thead>\n",
              "  <tbody>\n",
              "  </tbody>\n",
              "</table>\n",
              "</div>"
            ],
            "text/plain": [
              "Empty DataFrame\n",
              "Columns: [id, amount_tsh, date_recorded, funder, gps_height, installer, longitude, latitude, wpt_name, num_private, basin, subvillage, region, region_code, district_code, lga, ward, population, public_meeting, recorded_by, scheme_management, scheme_name, permit, construction_year, extraction_type, extraction_type_group, extraction_type_class, management, management_group, payment, payment_type, water_quality, quality_group, quantity, quantity_group, source, source_type, source_class, waterpoint_type, waterpoint_type_group, status_group]\n",
              "Index: []"
            ]
          },
          "metadata": {
            "tags": []
          },
          "execution_count": 279
        }
      ]
    },
    {
      "cell_type": "code",
      "metadata": {
        "colab": {
          "base_uri": "https://localhost:8080/",
          "height": 283
        },
        "id": "pSuYRgokFFRX",
        "outputId": "f1259e7f-8999-446d-da5d-cd1b46e026af"
      },
      "source": [
        "train_df.status_group.value_counts().plot(kind='barh')"
      ],
      "execution_count": 280,
      "outputs": [
        {
          "output_type": "execute_result",
          "data": {
            "text/plain": [
              "<matplotlib.axes._subplots.AxesSubplot at 0x7f95db9e6e10>"
            ]
          },
          "metadata": {
            "tags": []
          },
          "execution_count": 280
        },
        {
          "output_type": "display_data",
          "data": {
            "image/png": "[encoded data removed]",
            "text/plain": [
              "<Figure size 432x288 with 1 Axes>"
            ]
          },
          "metadata": {
            "tags": [],
            "needs_background": "light"
          }
        }
      ]
    },
    {
      "cell_type": "code",
      "metadata": {
        "id": "Qhkl323HKnZ4"
      },
      "source": [
        "train_df.construction_year = pd.to_numeric(train_df.construction_year)"
      ],
      "execution_count": 281,
      "outputs": []
    },
    {
      "cell_type": "code",
      "metadata": {
        "id": "9Kiw2DAMNe--"
      },
      "source": [
        "train_df.loc[train_df.construction_year <= 0, train_df.columns=='construction_year'] = 1950"
      ],
      "execution_count": 282,
      "outputs": []
    },
    {
      "cell_type": "code",
      "metadata": {
        "id": "o7Jy2GBpNyAJ"
      },
      "source": [
        "hist1=train_df[train_df.status_group == 'functional'].construction_year\n",
        "hist2=train_df[train_df.status_group == 'functional needs repair'].construction_year\n",
        "hist3=train_df[train_df.status_group == 'non functional'].construction_year"
      ],
      "execution_count": 283,
      "outputs": []
    },
    {
      "cell_type": "code",
      "metadata": {
        "colab": {
          "base_uri": "https://localhost:8080/",
          "height": 362
        },
        "id": "q55scS9qOUb4",
        "outputId": "b90d6ef1-f020-4e1c-867a-e0a7d22f7b8f"
      },
      "source": [
        "n,b,p=plt.hist([hist1, hist2, hist3], stacked=True,range=[1950,2010])\n",
        "plt.legend(['functional','functional needs repair','non functional'],loc=0)\n",
        "plt.text(1952, 6000,'NO DATA',fontsize=17,rotation=90,color='black')\n",
        "plt.xlabel('Construction Year', fontsize=18)\n",
        "\n"
      ],
      "execution_count": 284,
      "outputs": [
        {
          "output_type": "stream",
          "text": [
            "/usr/local/lib/python3.7/dist-packages/numpy/core/_asarray.py:83: VisibleDeprecationWarning: Creating an ndarray from ragged nested sequences (which is a list-or-tuple of lists-or-tuples-or ndarrays with different lengths or shapes) is deprecated. If you meant to do this, you must specify 'dtype=object' when creating the ndarray\n",
            "  return array(a, dtype, copy=False, order=order)\n"
          ],
          "name": "stderr"
        },
        {
          "output_type": "execute_result",
          "data": {
            "text/plain": [
              "Text(0.5, 0, 'Construction Year')"
            ]
          },
          "metadata": {
            "tags": []
          },
          "execution_count": 284
        },
        {
          "output_type": "display_data",
          "data": {
            "image/png": "[encoded data removed]",
            "text/plain": [
              "<Figure size 432x288 with 1 Axes>"
            ]
          },
          "metadata": {
            "tags": [],
            "needs_background": "light"
          }
        }
      ]
    },
    {
      "cell_type": "markdown",
      "metadata": {
        "id": "niBdlsoAbB2x"
      },
      "source": [
        "## Data Preprocessing"
      ]
    },
    {
      "cell_type": "code",
      "metadata": {
        "colab": {
          "base_uri": "https://localhost:8080/"
        },
        "id": "I_WHL-l189nu",
        "outputId": "c18c534d-0a5a-4dfa-aa84-c5f4394c31a4"
      },
      "source": [
        "train_df.funder.value_counts()"
      ],
      "execution_count": 285,
      "outputs": [
        {
          "output_type": "execute_result",
          "data": {
            "text/plain": [
              "Government Of Tanzania    6780\n",
              "Danida                    2362\n",
              "Hesawa                    1639\n",
              "Rwssp                     1032\n",
              "Kkkt                       964\n",
              "                          ... \n",
              "Nyangere                     1\n",
              "Vwt                          1\n",
              "Mbwana Omari                 1\n",
              "Un/wfp                       1\n",
              "Rajab Seleman                1\n",
              "Name: funder, Length: 1651, dtype: int64"
            ]
          },
          "metadata": {
            "tags": []
          },
          "execution_count": 285
        }
      ]
    },
    {
      "cell_type": "code",
      "metadata": {
        "id": "WQ5Z6TcKIMeM"
      },
      "source": [
        "def funder_wrangler(row):\n",
        "  '''Keep top 5 funders and setting rest as others'''\n",
        "  if row['funder']=='Government Of Tanzania':\n",
        "      return 'gov'\n",
        "  elif row['funder']=='Danida':\n",
        "      return 'danida'\n",
        "  elif row['funder']=='Hesawa':\n",
        "      return 'hesawa'\n",
        "  elif row['funder']=='Rwssp':\n",
        "      return 'rwssp'\n",
        "  elif row['funder']=='World Bank':\n",
        "      return 'world_bank'    \n",
        "  else:\n",
        "      return 'other'\n",
        "\n",
        "train_df['funder'] = train_df.apply(lambda row: funder_wrangler(row), axis=1)"
      ],
      "execution_count": 286,
      "outputs": []
    },
    {
      "cell_type": "code",
      "metadata": {
        "id": "OkA7h-QOLOJF"
      },
      "source": [
        "# Add column named 'status_group_vals' to allow the use of a pivot table to check differences\n",
        "# between the different funders.\n",
        "\n",
        "vals_to_replace = {'functional':2, 'functional needs repair':1,'non functional':0}\n",
        "\n",
        "train_df['status_group_vals']  = train_df.status_group.replace(vals_to_replace)"
      ],
      "execution_count": 287,
      "outputs": []
    },
    {
      "cell_type": "code",
      "metadata": {
        "colab": {
          "base_uri": "https://localhost:8080/",
          "height": 808
        },
        "id": "3S55TlOmbLV7",
        "outputId": "a60249e3-664d-48ee-baf0-88095f07b614"
      },
      "source": [
        "train_df"
      ],
      "execution_count": 288,
      "outputs": [
        {
          "output_type": "execute_result",
          "data": {
            "text/html": [
              "<div>\n",
              "<style scoped>\n",
              "    .dataframe tbody tr th:only-of-type {\n",
              "        vertical-align: middle;\n",
              "    }\n",
              "\n",
              "    .dataframe tbody tr th {\n",
              "        vertical-align: top;\n",
              "    }\n",
              "\n",
              "    .dataframe thead th {\n",
              "        text-align: right;\n",
              "    }\n",
              "</style>\n",
              "<table border=\"1\" class=\"dataframe\">\n",
              "  <thead>\n",
              "    <tr style=\"text-align: right;\">\n",
              "      <th></th>\n",
              "      <th>id</th>\n",
              "      <th>amount_tsh</th>\n",
              "      <th>date_recorded</th>\n",
              "      <th>funder</th>\n",
              "      <th>gps_height</th>\n",
              "      <th>installer</th>\n",
              "      <th>longitude</th>\n",
              "      <th>latitude</th>\n",
              "      <th>wpt_name</th>\n",
              "      <th>num_private</th>\n",
              "      <th>basin</th>\n",
              "      <th>subvillage</th>\n",
              "      <th>region</th>\n",
              "      <th>region_code</th>\n",
              "      <th>district_code</th>\n",
              "      <th>lga</th>\n",
              "      <th>ward</th>\n",
              "      <th>population</th>\n",
              "      <th>public_meeting</th>\n",
              "      <th>recorded_by</th>\n",
              "      <th>scheme_management</th>\n",
              "      <th>scheme_name</th>\n",
              "      <th>permit</th>\n",
              "      <th>construction_year</th>\n",
              "      <th>extraction_type</th>\n",
              "      <th>extraction_type_group</th>\n",
              "      <th>extraction_type_class</th>\n",
              "      <th>management</th>\n",
              "      <th>management_group</th>\n",
              "      <th>payment</th>\n",
              "      <th>payment_type</th>\n",
              "      <th>water_quality</th>\n",
              "      <th>quality_group</th>\n",
              "      <th>quantity</th>\n",
              "      <th>quantity_group</th>\n",
              "      <th>source</th>\n",
              "      <th>source_type</th>\n",
              "      <th>source_class</th>\n",
              "      <th>waterpoint_type</th>\n",
              "      <th>waterpoint_type_group</th>\n",
              "      <th>status_group</th>\n",
              "      <th>status_group_vals</th>\n",
              "    </tr>\n",
              "  </thead>\n",
              "  <tbody>\n",
              "    <tr>\n",
              "      <th>0</th>\n",
              "      <td>7411</td>\n",
              "      <td>7.0</td>\n",
              "      <td>2013-03-20</td>\n",
              "      <td>other</td>\n",
              "      <td>1203</td>\n",
              "      <td>CES</td>\n",
              "      <td>37.228664</td>\n",
              "      <td>-3.256505</td>\n",
              "      <td>Kwa Abdalla</td>\n",
              "      <td>0</td>\n",
              "      <td>Pangani</td>\n",
              "      <td>Mafurini</td>\n",
              "      <td>Kilimanjaro</td>\n",
              "      <td>3</td>\n",
              "      <td>5</td>\n",
              "      <td>Hai</td>\n",
              "      <td>Machame Kaskazini</td>\n",
              "      <td>90</td>\n",
              "      <td>True</td>\n",
              "      <td>GeoData Consultants Ltd</td>\n",
              "      <td>Water Board</td>\n",
              "      <td>Machame water supply</td>\n",
              "      <td>True</td>\n",
              "      <td>2008</td>\n",
              "      <td>gravity</td>\n",
              "      <td>gravity</td>\n",
              "      <td>gravity</td>\n",
              "      <td>water board</td>\n",
              "      <td>user-group</td>\n",
              "      <td>pay per bucket</td>\n",
              "      <td>per bucket</td>\n",
              "      <td>soft</td>\n",
              "      <td>good</td>\n",
              "      <td>enough</td>\n",
              "      <td>enough</td>\n",
              "      <td>spring</td>\n",
              "      <td>spring</td>\n",
              "      <td>groundwater</td>\n",
              "      <td>communal standpipe</td>\n",
              "      <td>communal standpipe</td>\n",
              "      <td>functional</td>\n",
              "      <td>2</td>\n",
              "    </tr>\n",
              "    <tr>\n",
              "      <th>1</th>\n",
              "      <td>18014</td>\n",
              "      <td>0.0</td>\n",
              "      <td>2011-02-21</td>\n",
              "      <td>other</td>\n",
              "      <td>1409</td>\n",
              "      <td>CDTF</td>\n",
              "      <td>34.615481</td>\n",
              "      <td>-9.972601</td>\n",
              "      <td>none</td>\n",
              "      <td>0</td>\n",
              "      <td>Lake Nyasa</td>\n",
              "      <td>Ituni</td>\n",
              "      <td>Iringa</td>\n",
              "      <td>11</td>\n",
              "      <td>5</td>\n",
              "      <td>Ludewa</td>\n",
              "      <td>Luana</td>\n",
              "      <td>70</td>\n",
              "      <td>False</td>\n",
              "      <td>GeoData Consultants Ltd</td>\n",
              "      <td>Private operator</td>\n",
              "      <td>Mgowel</td>\n",
              "      <td>False</td>\n",
              "      <td>1984</td>\n",
              "      <td>gravity</td>\n",
              "      <td>gravity</td>\n",
              "      <td>gravity</td>\n",
              "      <td>private operator</td>\n",
              "      <td>commercial</td>\n",
              "      <td>never pay</td>\n",
              "      <td>never pay</td>\n",
              "      <td>soft</td>\n",
              "      <td>good</td>\n",
              "      <td>enough</td>\n",
              "      <td>enough</td>\n",
              "      <td>spring</td>\n",
              "      <td>spring</td>\n",
              "      <td>groundwater</td>\n",
              "      <td>communal standpipe</td>\n",
              "      <td>communal standpipe</td>\n",
              "      <td>functional</td>\n",
              "      <td>2</td>\n",
              "    </tr>\n",
              "    <tr>\n",
              "      <th>2</th>\n",
              "      <td>26103</td>\n",
              "      <td>0.0</td>\n",
              "      <td>2013-01-04</td>\n",
              "      <td>gov</td>\n",
              "      <td>1572</td>\n",
              "      <td>DWE</td>\n",
              "      <td>36.658778</td>\n",
              "      <td>-3.321529</td>\n",
              "      <td>Kwa Loishiye</td>\n",
              "      <td>0</td>\n",
              "      <td>Pangani</td>\n",
              "      <td>Melebuki</td>\n",
              "      <td>Arusha</td>\n",
              "      <td>2</td>\n",
              "      <td>2</td>\n",
              "      <td>Arusha Rural</td>\n",
              "      <td>Kimnyaki</td>\n",
              "      <td>150</td>\n",
              "      <td>True</td>\n",
              "      <td>GeoData Consultants Ltd</td>\n",
              "      <td>VWC</td>\n",
              "      <td>Saitero olosaita pipe line</td>\n",
              "      <td>True</td>\n",
              "      <td>2002</td>\n",
              "      <td>gravity</td>\n",
              "      <td>gravity</td>\n",
              "      <td>gravity</td>\n",
              "      <td>vwc</td>\n",
              "      <td>user-group</td>\n",
              "      <td>never pay</td>\n",
              "      <td>never pay</td>\n",
              "      <td>soft</td>\n",
              "      <td>good</td>\n",
              "      <td>insufficient</td>\n",
              "      <td>insufficient</td>\n",
              "      <td>spring</td>\n",
              "      <td>spring</td>\n",
              "      <td>groundwater</td>\n",
              "      <td>communal standpipe</td>\n",
              "      <td>communal standpipe</td>\n",
              "      <td>non functional</td>\n",
              "      <td>0</td>\n",
              "    </tr>\n",
              "    <tr>\n",
              "      <th>3</th>\n",
              "      <td>31140</td>\n",
              "      <td>0.0</td>\n",
              "      <td>2011-04-03</td>\n",
              "      <td>other</td>\n",
              "      <td>0</td>\n",
              "      <td>District Council</td>\n",
              "      <td>33.628025</td>\n",
              "      <td>-8.860795</td>\n",
              "      <td>Mwanzechele</td>\n",
              "      <td>0</td>\n",
              "      <td>Rufiji</td>\n",
              "      <td>Darajani</td>\n",
              "      <td>Mbeya</td>\n",
              "      <td>12</td>\n",
              "      <td>2</td>\n",
              "      <td>Mbeya Rural</td>\n",
              "      <td>Inyala</td>\n",
              "      <td>0</td>\n",
              "      <td>True</td>\n",
              "      <td>GeoData Consultants Ltd</td>\n",
              "      <td>VWC</td>\n",
              "      <td>NaN</td>\n",
              "      <td>True</td>\n",
              "      <td>1950</td>\n",
              "      <td>gravity</td>\n",
              "      <td>gravity</td>\n",
              "      <td>gravity</td>\n",
              "      <td>wug</td>\n",
              "      <td>user-group</td>\n",
              "      <td>pay annually</td>\n",
              "      <td>annually</td>\n",
              "      <td>soft</td>\n",
              "      <td>good</td>\n",
              "      <td>insufficient</td>\n",
              "      <td>insufficient</td>\n",
              "      <td>river</td>\n",
              "      <td>river/lake</td>\n",
              "      <td>surface</td>\n",
              "      <td>communal standpipe</td>\n",
              "      <td>communal standpipe</td>\n",
              "      <td>functional</td>\n",
              "      <td>2</td>\n",
              "    </tr>\n",
              "    <tr>\n",
              "      <th>4</th>\n",
              "      <td>12286</td>\n",
              "      <td>300.0</td>\n",
              "      <td>2013-03-08</td>\n",
              "      <td>other</td>\n",
              "      <td>1283</td>\n",
              "      <td>District Council</td>\n",
              "      <td>37.655509</td>\n",
              "      <td>-3.669777</td>\n",
              "      <td>Kwa Kidaya</td>\n",
              "      <td>0</td>\n",
              "      <td>Pangani</td>\n",
              "      <td>Mwira A</td>\n",
              "      <td>Kilimanjaro</td>\n",
              "      <td>3</td>\n",
              "      <td>2</td>\n",
              "      <td>Mwanga</td>\n",
              "      <td>Shinghatini</td>\n",
              "      <td>34</td>\n",
              "      <td>True</td>\n",
              "      <td>GeoData Consultants Ltd</td>\n",
              "      <td>VWC</td>\n",
              "      <td>Churu water supply</td>\n",
              "      <td>False</td>\n",
              "      <td>2007</td>\n",
              "      <td>gravity</td>\n",
              "      <td>gravity</td>\n",
              "      <td>gravity</td>\n",
              "      <td>vwc</td>\n",
              "      <td>user-group</td>\n",
              "      <td>pay monthly</td>\n",
              "      <td>monthly</td>\n",
              "      <td>soft</td>\n",
              "      <td>good</td>\n",
              "      <td>insufficient</td>\n",
              "      <td>insufficient</td>\n",
              "      <td>spring</td>\n",
              "      <td>spring</td>\n",
              "      <td>groundwater</td>\n",
              "      <td>communal standpipe</td>\n",
              "      <td>communal standpipe</td>\n",
              "      <td>functional</td>\n",
              "      <td>2</td>\n",
              "    </tr>\n",
              "    <tr>\n",
              "      <th>...</th>\n",
              "      <td>...</td>\n",
              "      <td>...</td>\n",
              "      <td>...</td>\n",
              "      <td>...</td>\n",
              "      <td>...</td>\n",
              "      <td>...</td>\n",
              "      <td>...</td>\n",
              "      <td>...</td>\n",
              "      <td>...</td>\n",
              "      <td>...</td>\n",
              "      <td>...</td>\n",
              "      <td>...</td>\n",
              "      <td>...</td>\n",
              "      <td>...</td>\n",
              "      <td>...</td>\n",
              "      <td>...</td>\n",
              "      <td>...</td>\n",
              "      <td>...</td>\n",
              "      <td>...</td>\n",
              "      <td>...</td>\n",
              "      <td>...</td>\n",
              "      <td>...</td>\n",
              "      <td>...</td>\n",
              "      <td>...</td>\n",
              "      <td>...</td>\n",
              "      <td>...</td>\n",
              "      <td>...</td>\n",
              "      <td>...</td>\n",
              "      <td>...</td>\n",
              "      <td>...</td>\n",
              "      <td>...</td>\n",
              "      <td>...</td>\n",
              "      <td>...</td>\n",
              "      <td>...</td>\n",
              "      <td>...</td>\n",
              "      <td>...</td>\n",
              "      <td>...</td>\n",
              "      <td>...</td>\n",
              "      <td>...</td>\n",
              "      <td>...</td>\n",
              "      <td>...</td>\n",
              "      <td>...</td>\n",
              "    </tr>\n",
              "    <tr>\n",
              "      <th>44545</th>\n",
              "      <td>43878</td>\n",
              "      <td>0.0</td>\n",
              "      <td>2013-01-23</td>\n",
              "      <td>other</td>\n",
              "      <td>0</td>\n",
              "      <td>TAWASA</td>\n",
              "      <td>32.383715</td>\n",
              "      <td>-3.457624</td>\n",
              "      <td>Imalabuluhi</td>\n",
              "      <td>0</td>\n",
              "      <td>Lake Tanganyika</td>\n",
              "      <td>Bukenge</td>\n",
              "      <td>Shinyanga</td>\n",
              "      <td>17</td>\n",
              "      <td>3</td>\n",
              "      <td>Kahama</td>\n",
              "      <td>Segese</td>\n",
              "      <td>0</td>\n",
              "      <td>True</td>\n",
              "      <td>GeoData Consultants Ltd</td>\n",
              "      <td>NaN</td>\n",
              "      <td>NaN</td>\n",
              "      <td>True</td>\n",
              "      <td>1950</td>\n",
              "      <td>nira/tanira</td>\n",
              "      <td>nira/tanira</td>\n",
              "      <td>handpump</td>\n",
              "      <td>wug</td>\n",
              "      <td>user-group</td>\n",
              "      <td>unknown</td>\n",
              "      <td>unknown</td>\n",
              "      <td>milky</td>\n",
              "      <td>milky</td>\n",
              "      <td>enough</td>\n",
              "      <td>enough</td>\n",
              "      <td>shallow well</td>\n",
              "      <td>shallow well</td>\n",
              "      <td>groundwater</td>\n",
              "      <td>hand pump</td>\n",
              "      <td>hand pump</td>\n",
              "      <td>functional</td>\n",
              "      <td>2</td>\n",
              "    </tr>\n",
              "    <tr>\n",
              "      <th>44546</th>\n",
              "      <td>50718</td>\n",
              "      <td>0.0</td>\n",
              "      <td>2011-07-25</td>\n",
              "      <td>other</td>\n",
              "      <td>0</td>\n",
              "      <td>DED</td>\n",
              "      <td>31.615509</td>\n",
              "      <td>-2.738682</td>\n",
              "      <td>Ilyamchele Center</td>\n",
              "      <td>0</td>\n",
              "      <td>Lake Victoria</td>\n",
              "      <td>Ilyamchele Center</td>\n",
              "      <td>Kagera</td>\n",
              "      <td>18</td>\n",
              "      <td>8</td>\n",
              "      <td>Chato</td>\n",
              "      <td>Katende</td>\n",
              "      <td>0</td>\n",
              "      <td>True</td>\n",
              "      <td>GeoData Consultants Ltd</td>\n",
              "      <td>WUA</td>\n",
              "      <td>NaN</td>\n",
              "      <td>True</td>\n",
              "      <td>1950</td>\n",
              "      <td>afridev</td>\n",
              "      <td>afridev</td>\n",
              "      <td>handpump</td>\n",
              "      <td>wua</td>\n",
              "      <td>user-group</td>\n",
              "      <td>pay monthly</td>\n",
              "      <td>monthly</td>\n",
              "      <td>soft</td>\n",
              "      <td>good</td>\n",
              "      <td>enough</td>\n",
              "      <td>enough</td>\n",
              "      <td>hand dtw</td>\n",
              "      <td>borehole</td>\n",
              "      <td>groundwater</td>\n",
              "      <td>hand pump</td>\n",
              "      <td>hand pump</td>\n",
              "      <td>non functional</td>\n",
              "      <td>0</td>\n",
              "    </tr>\n",
              "    <tr>\n",
              "      <th>44547</th>\n",
              "      <td>67177</td>\n",
              "      <td>0.0</td>\n",
              "      <td>2013-02-23</td>\n",
              "      <td>gov</td>\n",
              "      <td>969</td>\n",
              "      <td>Government</td>\n",
              "      <td>35.134412</td>\n",
              "      <td>-10.676062</td>\n",
              "      <td>Kwa Mzee Maondo</td>\n",
              "      <td>0</td>\n",
              "      <td>Ruvuma / Southern Coast</td>\n",
              "      <td>Masango</td>\n",
              "      <td>Ruvuma</td>\n",
              "      <td>10</td>\n",
              "      <td>3</td>\n",
              "      <td>Mbinga</td>\n",
              "      <td>Kigonsera</td>\n",
              "      <td>60</td>\n",
              "      <td>NaN</td>\n",
              "      <td>GeoData Consultants Ltd</td>\n",
              "      <td>VWC</td>\n",
              "      <td>Government</td>\n",
              "      <td>NaN</td>\n",
              "      <td>1977</td>\n",
              "      <td>gravity</td>\n",
              "      <td>gravity</td>\n",
              "      <td>gravity</td>\n",
              "      <td>vwc</td>\n",
              "      <td>user-group</td>\n",
              "      <td>unknown</td>\n",
              "      <td>unknown</td>\n",
              "      <td>soft</td>\n",
              "      <td>good</td>\n",
              "      <td>seasonal</td>\n",
              "      <td>seasonal</td>\n",
              "      <td>spring</td>\n",
              "      <td>spring</td>\n",
              "      <td>groundwater</td>\n",
              "      <td>communal standpipe</td>\n",
              "      <td>communal standpipe</td>\n",
              "      <td>functional</td>\n",
              "      <td>2</td>\n",
              "    </tr>\n",
              "    <tr>\n",
              "      <th>44548</th>\n",
              "      <td>2744</td>\n",
              "      <td>200.0</td>\n",
              "      <td>2013-03-26</td>\n",
              "      <td>other</td>\n",
              "      <td>1269</td>\n",
              "      <td>ADRA/Government</td>\n",
              "      <td>37.886287</td>\n",
              "      <td>-4.390882</td>\n",
              "      <td>Miembeni</td>\n",
              "      <td>0</td>\n",
              "      <td>Pangani</td>\n",
              "      <td>Mng'Ende</td>\n",
              "      <td>Kilimanjaro</td>\n",
              "      <td>3</td>\n",
              "      <td>3</td>\n",
              "      <td>Same</td>\n",
              "      <td>Suji</td>\n",
              "      <td>80</td>\n",
              "      <td>True</td>\n",
              "      <td>GeoData Consultants Ltd</td>\n",
              "      <td>Water authority</td>\n",
              "      <td>Kiumba water supply</td>\n",
              "      <td>True</td>\n",
              "      <td>2011</td>\n",
              "      <td>gravity</td>\n",
              "      <td>gravity</td>\n",
              "      <td>gravity</td>\n",
              "      <td>vwc</td>\n",
              "      <td>user-group</td>\n",
              "      <td>pay monthly</td>\n",
              "      <td>monthly</td>\n",
              "      <td>soft</td>\n",
              "      <td>good</td>\n",
              "      <td>insufficient</td>\n",
              "      <td>insufficient</td>\n",
              "      <td>spring</td>\n",
              "      <td>spring</td>\n",
              "      <td>groundwater</td>\n",
              "      <td>communal standpipe</td>\n",
              "      <td>communal standpipe</td>\n",
              "      <td>functional</td>\n",
              "      <td>2</td>\n",
              "    </tr>\n",
              "    <tr>\n",
              "      <th>44549</th>\n",
              "      <td>10262</td>\n",
              "      <td>0.0</td>\n",
              "      <td>2013-01-26</td>\n",
              "      <td>other</td>\n",
              "      <td>0</td>\n",
              "      <td>Consulting Engineer</td>\n",
              "      <td>32.976560</td>\n",
              "      <td>-4.262149</td>\n",
              "      <td>Itunda A Mkwajuni</td>\n",
              "      <td>0</td>\n",
              "      <td>Lake Tanganyika</td>\n",
              "      <td>Itunda A</td>\n",
              "      <td>Tabora</td>\n",
              "      <td>14</td>\n",
              "      <td>1</td>\n",
              "      <td>Nzega</td>\n",
              "      <td>Karitu</td>\n",
              "      <td>0</td>\n",
              "      <td>True</td>\n",
              "      <td>GeoData Consultants Ltd</td>\n",
              "      <td>VWC</td>\n",
              "      <td>NaN</td>\n",
              "      <td>False</td>\n",
              "      <td>1950</td>\n",
              "      <td>nira/tanira</td>\n",
              "      <td>nira/tanira</td>\n",
              "      <td>handpump</td>\n",
              "      <td>vwc</td>\n",
              "      <td>user-group</td>\n",
              "      <td>pay when scheme fails</td>\n",
              "      <td>on failure</td>\n",
              "      <td>soft</td>\n",
              "      <td>good</td>\n",
              "      <td>enough</td>\n",
              "      <td>enough</td>\n",
              "      <td>shallow well</td>\n",
              "      <td>shallow well</td>\n",
              "      <td>groundwater</td>\n",
              "      <td>hand pump</td>\n",
              "      <td>hand pump</td>\n",
              "      <td>functional</td>\n",
              "      <td>2</td>\n",
              "    </tr>\n",
              "  </tbody>\n",
              "</table>\n",
              "<p>44550 rows × 42 columns</p>\n",
              "</div>"
            ],
            "text/plain": [
              "          id  amount_tsh  ...    status_group status_group_vals\n",
              "0       7411         7.0  ...      functional                 2\n",
              "1      18014         0.0  ...      functional                 2\n",
              "2      26103         0.0  ...  non functional                 0\n",
              "3      31140         0.0  ...      functional                 2\n",
              "4      12286       300.0  ...      functional                 2\n",
              "...      ...         ...  ...             ...               ...\n",
              "44545  43878         0.0  ...      functional                 2\n",
              "44546  50718         0.0  ...  non functional                 0\n",
              "44547  67177         0.0  ...      functional                 2\n",
              "44548   2744       200.0  ...      functional                 2\n",
              "44549  10262         0.0  ...      functional                 2\n",
              "\n",
              "[44550 rows x 42 columns]"
            ]
          },
          "metadata": {
            "tags": []
          },
          "execution_count": 288
        }
      ]
    },
    {
      "cell_type": "code",
      "metadata": {
        "colab": {
          "base_uri": "https://localhost:8080/"
        },
        "id": "LJe5XlCHLdng",
        "outputId": "bd414fe3-7570-433f-86ef-1f6f427299e7"
      },
      "source": [
        "piv_table = pd.pivot_table(train_df,index=['funder','status_group'],values='status_group_vals', aggfunc='count')\n",
        "print(piv_table)"
      ],
      "execution_count": 289,
      "outputs": [
        {
          "output_type": "stream",
          "text": [
            "                                    status_group_vals\n",
            "funder     status_group                              \n",
            "danida     functional                            1282\n",
            "           functional needs repair                119\n",
            "           non functional                         961\n",
            "gov        functional                            2781\n",
            "           functional needs repair                519\n",
            "...                                               ...\n",
            "rwssp      functional needs repair                 80\n",
            "           non functional                         343\n",
            "world_bank functional                             399\n",
            "           functional needs repair                 73\n",
            "           non functional                         490\n",
            "\n",
            "[18 rows x 1 columns]\n"
          ],
          "name": "stdout"
        }
      ]
    },
    {
      "cell_type": "code",
      "metadata": {
        "colab": {
          "base_uri": "https://localhost:8080/"
        },
        "id": "1G0VYaroLh97",
        "outputId": "de287efd-6682-40be-f206-2371fb879c72"
      },
      "source": [
        "total_danida = piv_table.status_group_vals[0] + piv_table.status_group_vals[1] + piv_table.status_group_vals[2]\n",
        "percent_functional_danida = (piv_table.status_group_vals[0] / total_danida) * 100\n",
        "\n",
        "total_gov = piv_table.status_group_vals[3] + piv_table.status_group_vals[4] + piv_table.status_group_vals[5]\n",
        "percent_functional_gov = (piv_table.status_group_vals[3] / total_gov) * 100\n",
        "\n",
        "total_hesawa = piv_table.status_group_vals[6] + piv_table.status_group_vals[7] + piv_table.status_group_vals[8]\n",
        "percent_functional_hesawa = (piv_table.status_group_vals[6] / total_hesawa) * 100\n",
        "\n",
        "total_other = piv_table.status_group_vals[9] + piv_table.status_group_vals[10] + piv_table.status_group_vals[11]\n",
        "percent_functional_non_gov = (piv_table.status_group_vals[9] / total_other) * 100\n",
        "\n",
        "total_rwssp = piv_table.status_group_vals[12] + piv_table.status_group_vals[13] + piv_table.status_group_vals[14]\n",
        "percent_functional_rwssp = (piv_table.status_group_vals[12] / total_rwssp) * 100\n",
        "\n",
        "total_world_bank = piv_table.status_group_vals[15] + piv_table.status_group_vals[16] + piv_table.status_group_vals[17]\n",
        "percent_functional_world_bank = (piv_table.status_group_vals[15] / total_world_bank) * 100\n",
        "\n",
        "print('Percent functional danida: ', round(percent_functional_danida,3))\n",
        "print('Percent functional gov: ', round(percent_functional_gov,3))\n",
        "print('Percent functional hesawa: ', round(percent_functional_hesawa,3))\n",
        "print('Percent functional non gov: ', round(percent_functional_non_gov,3))\n",
        "print('Percent functional rwssp: ', round(percent_functional_rwssp,3))\n",
        "print('Percent functional world bank: ', round(percent_functional_world_bank,3))"
      ],
      "execution_count": 290,
      "outputs": [
        {
          "output_type": "stream",
          "text": [
            "Percent functional danida:  54.276\n",
            "Percent functional gov:  41.018\n",
            "Percent functional hesawa:  42.221\n",
            "Percent functional non gov:  58.005\n",
            "Percent functional rwssp:  59.012\n",
            "Percent functional world bank:  41.476\n"
          ],
          "name": "stdout"
        }
      ]
    },
    {
      "cell_type": "code",
      "metadata": {
        "colab": {
          "base_uri": "https://localhost:8080/"
        },
        "id": "B4MQ0pG-MAR6",
        "outputId": "8408fcd4-2bf6-4762-ab07-5675fd7fcb95"
      },
      "source": [
        "# There are some clear differences here that will hopefully improve the model. The next feature\n",
        "# to inspect is 'installer'.\n",
        "\n",
        "train_df.installer.value_counts()"
      ],
      "execution_count": 291,
      "outputs": [
        {
          "output_type": "execute_result",
          "data": {
            "text/plain": [
              "DWE              13005\n",
              "Government        1365\n",
              "RWE                876\n",
              "Commu              806\n",
              "DANIDA             788\n",
              "                 ...  \n",
              "MANGO TREE           1\n",
              "Raramataki           1\n",
              "Privat               1\n",
              "Goldmain             1\n",
              "Meru Concrete        1\n",
              "Name: installer, Length: 1854, dtype: int64"
            ]
          },
          "metadata": {
            "tags": []
          },
          "execution_count": 291
        }
      ]
    },
    {
      "cell_type": "code",
      "metadata": {
        "id": "SX6aCI-mNXrh"
      },
      "source": [
        "# Create a function to reduce the amount of dummy columns needed whilst maintaining the \n",
        "# information contained in the column.\n",
        "\n",
        "def installer_wrangler(row):\n",
        "    '''Keep top 5 values and set the rest to 'other'''\n",
        "    if row['installer']=='DWE':\n",
        "        return 'dwe'\n",
        "    elif row['installer']=='Government':\n",
        "        return 'gov'\n",
        "    elif row['installer']=='RWE':\n",
        "        return 'rwe'\n",
        "    elif row['installer']=='Commu':\n",
        "        return 'commu'\n",
        "    elif row['installer']=='DANIDA':\n",
        "        return 'danida'\n",
        "    else:\n",
        "        return 'other'  \n",
        "\n",
        "train_df['installer'] = train_df.apply(lambda row: installer_wrangler(row), axis=1)"
      ],
      "execution_count": 292,
      "outputs": []
    },
    {
      "cell_type": "code",
      "metadata": {
        "colab": {
          "base_uri": "https://localhost:8080/",
          "height": 455
        },
        "id": "NOlsr1fibvnw",
        "outputId": "8b023064-f5e7-458c-93e4-12844ebb77ac"
      },
      "source": [
        "piv_table = pd.pivot_table(train_df,index=['installer','status_group'],values='status_group_vals', aggfunc='count')\n",
        "piv_table"
      ],
      "execution_count": 293,
      "outputs": [
        {
          "output_type": "execute_result",
          "data": {
            "text/html": [
              "<div>\n",
              "<style scoped>\n",
              "    .dataframe tbody tr th:only-of-type {\n",
              "        vertical-align: middle;\n",
              "    }\n",
              "\n",
              "    .dataframe tbody tr th {\n",
              "        vertical-align: top;\n",
              "    }\n",
              "\n",
              "    .dataframe thead th {\n",
              "        text-align: right;\n",
              "    }\n",
              "</style>\n",
              "<table border=\"1\" class=\"dataframe\">\n",
              "  <thead>\n",
              "    <tr style=\"text-align: right;\">\n",
              "      <th></th>\n",
              "      <th></th>\n",
              "      <th>status_group_vals</th>\n",
              "    </tr>\n",
              "    <tr>\n",
              "      <th>installer</th>\n",
              "      <th>status_group</th>\n",
              "      <th></th>\n",
              "    </tr>\n",
              "  </thead>\n",
              "  <tbody>\n",
              "    <tr>\n",
              "      <th rowspan=\"3\" valign=\"top\">commu</th>\n",
              "      <th>functional</th>\n",
              "      <td>546</td>\n",
              "    </tr>\n",
              "    <tr>\n",
              "      <th>functional needs repair</th>\n",
              "      <td>27</td>\n",
              "    </tr>\n",
              "    <tr>\n",
              "      <th>non functional</th>\n",
              "      <td>233</td>\n",
              "    </tr>\n",
              "    <tr>\n",
              "      <th rowspan=\"2\" valign=\"top\">danida</th>\n",
              "      <th>functional</th>\n",
              "      <td>404</td>\n",
              "    </tr>\n",
              "    <tr>\n",
              "      <th>functional needs repair</th>\n",
              "      <td>64</td>\n",
              "    </tr>\n",
              "    <tr>\n",
              "      <th>...</th>\n",
              "      <th>...</th>\n",
              "      <td>...</td>\n",
              "    </tr>\n",
              "    <tr>\n",
              "      <th rowspan=\"2\" valign=\"top\">other</th>\n",
              "      <th>functional needs repair</th>\n",
              "      <td>1654</td>\n",
              "    </tr>\n",
              "    <tr>\n",
              "      <th>non functional</th>\n",
              "      <td>10503</td>\n",
              "    </tr>\n",
              "    <tr>\n",
              "      <th rowspan=\"3\" valign=\"top\">rwe</th>\n",
              "      <th>functional</th>\n",
              "      <td>229</td>\n",
              "    </tr>\n",
              "    <tr>\n",
              "      <th>functional needs repair</th>\n",
              "      <td>99</td>\n",
              "    </tr>\n",
              "    <tr>\n",
              "      <th>non functional</th>\n",
              "      <td>548</td>\n",
              "    </tr>\n",
              "  </tbody>\n",
              "</table>\n",
              "<p>18 rows × 1 columns</p>\n",
              "</div>"
            ],
            "text/plain": [
              "                                   status_group_vals\n",
              "installer status_group                              \n",
              "commu     functional                             546\n",
              "          functional needs repair                 27\n",
              "          non functional                         233\n",
              "danida    functional                             404\n",
              "          functional needs repair                 64\n",
              "...                                              ...\n",
              "other     functional needs repair               1654\n",
              "          non functional                       10503\n",
              "rwe       functional                             229\n",
              "          functional needs repair                 99\n",
              "          non functional                         548\n",
              "\n",
              "[18 rows x 1 columns]"
            ]
          },
          "metadata": {
            "tags": []
          },
          "execution_count": 293
        }
      ]
    },
    {
      "cell_type": "code",
      "metadata": {
        "colab": {
          "base_uri": "https://localhost:8080/"
        },
        "id": "Mc0Z1VAETFeO",
        "outputId": "b281f301-b7a2-43ea-9291-a46f3baea062"
      },
      "source": [
        "# As was the case with 'funder' there are some clear differences here that will hopefully\n",
        "# improve the model. The next feature to inspect is 'subvillage'.\n",
        "\n",
        "print(df.subvillage.value_counts())"
      ],
      "execution_count": 294,
      "outputs": [
        {
          "output_type": "stream",
          "text": [
            "Madukani     508\n",
            "Shuleni      506\n",
            "Majengo      502\n",
            "Kati         373\n",
            "Mtakuja      262\n",
            "            ... \n",
            "Mwamamumi      1\n",
            "Kiware         1\n",
            "Naamalasi      1\n",
            "Qatabela       1\n",
            "Nyunjwi        1\n",
            "Name: subvillage, Length: 19287, dtype: int64\n"
          ],
          "name": "stdout"
        }
      ]
    },
    {
      "cell_type": "code",
      "metadata": {
        "colab": {
          "base_uri": "https://localhost:8080/"
        },
        "id": "w2EHSXxSTrTI",
        "outputId": "0fcc0b6a-d523-4330-e346-6574c7bac819"
      },
      "source": [
        "print('Number of villages: ', len(df.subvillage.value_counts()))"
      ],
      "execution_count": 295,
      "outputs": [
        {
          "output_type": "stream",
          "text": [
            "Number of villages:  19287\n"
          ],
          "name": "stdout"
        }
      ]
    },
    {
      "cell_type": "code",
      "metadata": {
        "id": "KMueahr_T01R"
      },
      "source": [
        "# 19287 unique values implies that the largest values don't dominate as was the case with installer and\n",
        "# funder. It's probably not worth creating dummy variables for the top 5. I'll drop this one but\n",
        "# feel free to experiment here.\n",
        "if 'subvillage' in train_df.columns.values:\n",
        "  train_df = train_df.drop('subvillage', axis=1)"
      ],
      "execution_count": 296,
      "outputs": []
    },
    {
      "cell_type": "code",
      "metadata": {
        "colab": {
          "base_uri": "https://localhost:8080/"
        },
        "id": "zhM_TwM8UI_2",
        "outputId": "083c996e-7e20-4984-9f6c-096297da852b"
      },
      "source": [
        "# Let's investigate the next column containg null data: 'public_meeting'.\n",
        "\n",
        "print(train_df.public_meeting.value_counts(),\"\\n\")\n",
        "# We only have two values here: true and false. This one can stay but we'll have to replace \n",
        "# the unknown data with a string value.\n",
        "\n",
        "train_df.public_meeting = train_df.public_meeting.fillna('Unknown')\n",
        "\n",
        "# 'scheme_management' is up next.\n",
        "\n",
        "train_df.scheme_management.value_counts()"
      ],
      "execution_count": 297,
      "outputs": [
        {
          "output_type": "stream",
          "text": [
            "True     38212\n",
            "False     3847\n",
            "Name: public_meeting, dtype: int64 \n",
            "\n"
          ],
          "name": "stdout"
        },
        {
          "output_type": "execute_result",
          "data": {
            "text/plain": [
              "VWC                 27651\n",
              "WUG                  3906\n",
              "Water authority      2361\n",
              "WUA                  2166\n",
              "Water Board          2078\n",
              "Parastatal           1272\n",
              "Private operator      792\n",
              "Company               790\n",
              "Other                 575\n",
              "SWC                    69\n",
              "Trust                  57\n",
              "None                    1\n",
              "Name: scheme_management, dtype: int64"
            ]
          },
          "metadata": {
            "tags": []
          },
          "execution_count": 297
        }
      ]
    },
    {
      "cell_type": "code",
      "metadata": {
        "id": "9Ve2H7xedIf_"
      },
      "source": [
        "# Create a function to reduce the amount of dummy columns needed whilst maintaining the \n",
        "# information contained in the column.\n",
        "\n",
        "def scheme_wrangler(row):\n",
        "    '''Keep top 5 values and set the rest to 'other'. '''\n",
        "    if row['scheme_management']=='VWC':\n",
        "        return 'vwc'\n",
        "    elif row['scheme_management']=='WUG':\n",
        "        return 'wug'\n",
        "    elif row['scheme_management']=='Water authority':\n",
        "        return 'wtr_auth'\n",
        "    elif row['scheme_management']=='WUA':\n",
        "        return 'wua'\n",
        "    elif row['scheme_management']=='Water Board':\n",
        "        return 'wtr_brd'\n",
        "    else:\n",
        "        return 'other'\n",
        "\n",
        "train_df['scheme_management'] = train_df.apply(lambda row: scheme_wrangler(row), axis=1)"
      ],
      "execution_count": 303,
      "outputs": []
    },
    {
      "cell_type": "code",
      "metadata": {
        "colab": {
          "base_uri": "https://localhost:8080/",
          "height": 645
        },
        "id": "qJ4RfqWfUYOC",
        "outputId": "32db95db-57f2-4375-ddf0-b66dbd56a852"
      },
      "source": [
        "pd.set_option('display.max_rows', None)\n",
        "piv_table = pd.pivot_table(train_df, index=['scheme_management', 'status_group'],values='status_group_vals', aggfunc='count')\n",
        "piv_table.to_excel(\"Schememanagement.xlsx\")\n",
        "display(piv_table)\n",
        "pd.set_option('display.max_rows', 15)"
      ],
      "execution_count": 304,
      "outputs": [
        {
          "output_type": "display_data",
          "data": {
            "text/html": [
              "<div>\n",
              "<style scoped>\n",
              "    .dataframe tbody tr th:only-of-type {\n",
              "        vertical-align: middle;\n",
              "    }\n",
              "\n",
              "    .dataframe tbody tr th {\n",
              "        vertical-align: top;\n",
              "    }\n",
              "\n",
              "    .dataframe thead th {\n",
              "        text-align: right;\n",
              "    }\n",
              "</style>\n",
              "<table border=\"1\" class=\"dataframe\">\n",
              "  <thead>\n",
              "    <tr style=\"text-align: right;\">\n",
              "      <th></th>\n",
              "      <th></th>\n",
              "      <th>status_group_vals</th>\n",
              "    </tr>\n",
              "    <tr>\n",
              "      <th>scheme_management</th>\n",
              "      <th>status_group</th>\n",
              "      <th></th>\n",
              "    </tr>\n",
              "  </thead>\n",
              "  <tbody>\n",
              "    <tr>\n",
              "      <th rowspan=\"3\" valign=\"top\">other</th>\n",
              "      <th>functional</th>\n",
              "      <td>3455</td>\n",
              "    </tr>\n",
              "    <tr>\n",
              "      <th>functional needs repair</th>\n",
              "      <td>377</td>\n",
              "    </tr>\n",
              "    <tr>\n",
              "      <th>non functional</th>\n",
              "      <td>2556</td>\n",
              "    </tr>\n",
              "    <tr>\n",
              "      <th rowspan=\"3\" valign=\"top\">vwc</th>\n",
              "      <th>functional</th>\n",
              "      <td>14242</td>\n",
              "    </tr>\n",
              "    <tr>\n",
              "      <th>functional needs repair</th>\n",
              "      <td>1777</td>\n",
              "    </tr>\n",
              "    <tr>\n",
              "      <th>non functional</th>\n",
              "      <td>11632</td>\n",
              "    </tr>\n",
              "    <tr>\n",
              "      <th rowspan=\"3\" valign=\"top\">wtr_auth</th>\n",
              "      <th>functional</th>\n",
              "      <td>1208</td>\n",
              "    </tr>\n",
              "    <tr>\n",
              "      <th>functional needs repair</th>\n",
              "      <td>325</td>\n",
              "    </tr>\n",
              "    <tr>\n",
              "      <th>non functional</th>\n",
              "      <td>828</td>\n",
              "    </tr>\n",
              "    <tr>\n",
              "      <th rowspan=\"3\" valign=\"top\">wtr_brd</th>\n",
              "      <th>functional</th>\n",
              "      <td>1555</td>\n",
              "    </tr>\n",
              "    <tr>\n",
              "      <th>functional needs repair</th>\n",
              "      <td>75</td>\n",
              "    </tr>\n",
              "    <tr>\n",
              "      <th>non functional</th>\n",
              "      <td>448</td>\n",
              "    </tr>\n",
              "    <tr>\n",
              "      <th rowspan=\"3\" valign=\"top\">wua</th>\n",
              "      <th>functional</th>\n",
              "      <td>1494</td>\n",
              "    </tr>\n",
              "    <tr>\n",
              "      <th>functional needs repair</th>\n",
              "      <td>183</td>\n",
              "    </tr>\n",
              "    <tr>\n",
              "      <th>non functional</th>\n",
              "      <td>489</td>\n",
              "    </tr>\n",
              "    <tr>\n",
              "      <th rowspan=\"3\" valign=\"top\">wug</th>\n",
              "      <th>functional</th>\n",
              "      <td>2240</td>\n",
              "    </tr>\n",
              "    <tr>\n",
              "      <th>functional needs repair</th>\n",
              "      <td>501</td>\n",
              "    </tr>\n",
              "    <tr>\n",
              "      <th>non functional</th>\n",
              "      <td>1165</td>\n",
              "    </tr>\n",
              "  </tbody>\n",
              "</table>\n",
              "</div>"
            ],
            "text/plain": [
              "                                           status_group_vals\n",
              "scheme_management status_group                              \n",
              "other             functional                            3455\n",
              "                  functional needs repair                377\n",
              "                  non functional                        2556\n",
              "vwc               functional                           14242\n",
              "                  functional needs repair               1777\n",
              "                  non functional                       11632\n",
              "wtr_auth          functional                            1208\n",
              "                  functional needs repair                325\n",
              "                  non functional                         828\n",
              "wtr_brd           functional                            1555\n",
              "                  functional needs repair                 75\n",
              "                  non functional                         448\n",
              "wua               functional                            1494\n",
              "                  functional needs repair                183\n",
              "                  non functional                         489\n",
              "wug               functional                            2240\n",
              "                  functional needs repair                501\n",
              "                  non functional                        1165"
            ]
          },
          "metadata": {
            "tags": []
          }
        }
      ]
    },
    {
      "cell_type": "code",
      "metadata": {
        "colab": {
          "base_uri": "https://localhost:8080/"
        },
        "id": "7KjhywZGasJ0",
        "outputId": "188aee7f-2e62-4c7f-be8e-e8ac52798367"
      },
      "source": [
        "total_other = piv_table.status_group_vals[0] + piv_table.status_group_vals[1] + piv_table.status_group_vals[2]\n",
        "percent_functional_other = (piv_table.status_group_vals[0] / total_other) * 100\n",
        "\n",
        "total_vwc = piv_table.status_group_vals[3] + piv_table.status_group_vals[4] + piv_table.status_group_vals[5]\n",
        "percent_functional_vwc = (piv_table.status_group_vals[3] / total_vwc) * 100\n",
        "\n",
        "total_wtr_auth = piv_table.status_group_vals[6] + piv_table.status_group_vals[7] + piv_table.status_group_vals[8]\n",
        "percent_functional_wtr_auth = (piv_table.status_group_vals[6] / total_wtr_auth) * 100\n",
        "\n",
        "total_wtr_brd = piv_table.status_group_vals[9] + piv_table.status_group_vals[10] + piv_table.status_group_vals[11]\n",
        "percent_functional_wtr_brd = (piv_table.status_group_vals[9] / total_wtr_brd) * 100\n",
        "\n",
        "total_wua = piv_table.status_group_vals[12] + piv_table.status_group_vals[13] + piv_table.status_group_vals[14]\n",
        "percent_functional_wua = (piv_table.status_group_vals[12] / total_wua) * 100\n",
        "\n",
        "total_wug = piv_table.status_group_vals[15] + piv_table.status_group_vals[16] + piv_table.status_group_vals[17]\n",
        "percent_functional_wug = (piv_table.status_group_vals[15] / total_wug) * 100\n",
        "\n",
        "print('Percent functional other: ', round(percent_functional_other,3))\n",
        "print('Percent functional vwc: ', round(percent_functional_vwc,3))\n",
        "print('Percent functional water authority: ', round(percent_functional_wtr_auth,3))\n",
        "print('Percent functional water board: ', round(percent_functional_wtr_brd,3))\n",
        "print('Percent functional wua: ', round(percent_functional_wua,3))\n",
        "print('Percent functional wug: ', round(percent_functional_wug,3))"
      ],
      "execution_count": 305,
      "outputs": [
        {
          "output_type": "stream",
          "text": [
            "Percent functional other:  54.086\n",
            "Percent functional vwc:  51.506\n",
            "Percent functional water authority:  51.165\n",
            "Percent functional water board:  74.832\n",
            "Percent functional wua:  68.975\n",
            "Percent functional wug:  57.348\n"
          ],
          "name": "stdout"
        }
      ]
    },
    {
      "cell_type": "code",
      "metadata": {
        "colab": {
          "base_uri": "https://localhost:8080/"
        },
        "id": "oR6rbYoohBqi",
        "outputId": "938a2fbc-a002-47ee-d3b8-1ce70b2df400"
      },
      "source": [
        "train_df.scheme_name.value_counts()"
      ],
      "execution_count": 306,
      "outputs": [
        {
          "output_type": "execute_result",
          "data": {
            "text/plain": [
              "K                                      528\n",
              "None                                   494\n",
              "Borehole                               402\n",
              "M                                      310\n",
              "Chalinze wate                          300\n",
              "                                      ... \n",
              "Gwarama point  sources water supply      1\n",
              "Mtumbei mpopera                          1\n",
              "Marua mshatie water supply               1\n",
              "Mand                                     1\n",
              "Mongwe r                                 1\n",
              "Name: scheme_name, Length: 2506, dtype: int64"
            ]
          },
          "metadata": {
            "tags": []
          },
          "execution_count": 306
        }
      ]
    },
    {
      "cell_type": "code",
      "metadata": {
        "id": "eBfX5JA2hFLH"
      },
      "source": [
        "len(train_df.scheme_name.unique())\n",
        "\n",
        "# Lots of factors and the top 5 or so only represent a fraction of the total values. Probably \n",
        "# safe to drop this column.\n",
        "\n",
        "train_df = train_df.drop('scheme_name', axis=1)"
      ],
      "execution_count": 307,
      "outputs": []
    },
    {
      "cell_type": "code",
      "metadata": {
        "colab": {
          "base_uri": "https://localhost:8080/"
        },
        "id": "cSxkgoqEhRDY",
        "outputId": "684bf2a0-c2af-4ca5-dfcb-066f3e8a0bc2"
      },
      "source": [
        "# The final column containing nulls is 'permit'.\n",
        "\n",
        "train_df.permit.value_counts()"
      ],
      "execution_count": 308,
      "outputs": [
        {
          "output_type": "execute_result",
          "data": {
            "text/plain": [
              "True     29057\n",
              "False    13157\n",
              "Name: permit, dtype: int64"
            ]
          },
          "metadata": {
            "tags": []
          },
          "execution_count": 308
        }
      ]
    },
    {
      "cell_type": "code",
      "metadata": {
        "id": "zSr0d0wShXkQ"
      },
      "source": [
        "# We only have two values here: true and false. This one can stay but we'll have to replace \n",
        "# the unknown data with a string value.\n",
        "\n",
        "train_df.permit = train_df.permit.fillna('Unknown')"
      ],
      "execution_count": 309,
      "outputs": []
    },
    {
      "cell_type": "code",
      "metadata": {
        "colab": {
          "base_uri": "https://localhost:8080/"
        },
        "id": "4BRlkznLhkjh",
        "outputId": "3ae49cad-5c8f-46fd-d83f-e031203aaa89"
      },
      "source": [
        "pd.set_option('display.max_rows', None)\n",
        "print(train_df.apply(lambda x: sum(x.isnull())))\n",
        "pd.set_option('display.max_rows', 15)"
      ],
      "execution_count": 312,
      "outputs": [
        {
          "output_type": "stream",
          "text": [
            "id                       0\n",
            "amount_tsh               0\n",
            "date_recorded            0\n",
            "funder                   0\n",
            "gps_height               0\n",
            "installer                0\n",
            "longitude                0\n",
            "latitude                 0\n",
            "wpt_name                 0\n",
            "num_private              0\n",
            "basin                    0\n",
            "region                   0\n",
            "region_code              0\n",
            "district_code            0\n",
            "lga                      0\n",
            "ward                     0\n",
            "population               0\n",
            "public_meeting           0\n",
            "recorded_by              0\n",
            "scheme_management        0\n",
            "permit                   0\n",
            "construction_year        0\n",
            "extraction_type          0\n",
            "extraction_type_group    0\n",
            "extraction_type_class    0\n",
            "management               0\n",
            "management_group         0\n",
            "payment                  0\n",
            "payment_type             0\n",
            "water_quality            0\n",
            "quality_group            0\n",
            "quantity                 0\n",
            "quantity_group           0\n",
            "source                   0\n",
            "source_type              0\n",
            "source_class             0\n",
            "waterpoint_type          0\n",
            "waterpoint_type_group    0\n",
            "status_group             0\n",
            "status_group_vals        0\n",
            "dtype: int64\n"
          ],
          "name": "stdout"
        }
      ]
    },
    {
      "cell_type": "code",
      "metadata": {
        "colab": {
          "base_uri": "https://localhost:8080/"
        },
        "id": "OLb5yx9phs8C",
        "outputId": "c8b7d0ad-bb5e-4175-baa2-7158d3014d46"
      },
      "source": [
        "# Excellent! Now there are no nulls in the data set. We can move on to look at columns with \n",
        "# string values and modify or remove them as we see fit.\n",
        "\n",
        "str_cols = train_df.select_dtypes(include = ['object'])\n",
        "str_cols.apply(lambda x: len(x.unique()))"
      ],
      "execution_count": 313,
      "outputs": [
        {
          "output_type": "execute_result",
          "data": {
            "text/plain": [
              "date_recorded              346\n",
              "funder                       6\n",
              "installer                    6\n",
              "wpt_name                 28991\n",
              "basin                        9\n",
              "                         ...  \n",
              "source_type                  7\n",
              "source_class                 3\n",
              "waterpoint_type              7\n",
              "waterpoint_type_group        6\n",
              "status_group                 3\n",
              "Length: 29, dtype: int64"
            ]
          },
          "metadata": {
            "tags": []
          },
          "execution_count": 313
        }
      ]
    },
    {
      "cell_type": "code",
      "metadata": {
        "colab": {
          "base_uri": "https://localhost:8080/"
        },
        "id": "vPZ-AIMIiDAC",
        "outputId": "41bf829f-edad-4d94-8ae3-b4a4caf437d2"
      },
      "source": [
        "# 'Date recorded'\n",
        "\n",
        "train_df.date_recorded.describe()"
      ],
      "execution_count": 314,
      "outputs": [
        {
          "output_type": "execute_result",
          "data": {
            "text/plain": [
              "count          44550\n",
              "unique           346\n",
              "top       2011-03-15\n",
              "freq             423\n",
              "Name: date_recorded, dtype: object"
            ]
          },
          "metadata": {
            "tags": []
          },
          "execution_count": 314
        }
      ]
    },
    {
      "cell_type": "code",
      "metadata": {
        "colab": {
          "base_uri": "https://localhost:8080/"
        },
        "id": "6zjCyLX1iN99",
        "outputId": "f82d63d5-2a9c-47f9-f757-620af1ca3f0c"
      },
      "source": [
        "# Let's first convert the column to type datetime. Then change the column to represent the \n",
        "# number of days since the most recently recorded datum we have. The idea being that more \n",
        "# recently recorded pumps might be more likely to be functional than non-functional. \n",
        "\n",
        "train_df.date_recorded = pd.to_datetime(train_df.date_recorded)\n",
        "train_df.date_recorded.describe()"
      ],
      "execution_count": 315,
      "outputs": [
        {
          "output_type": "stream",
          "text": [
            "/usr/local/lib/python3.7/dist-packages/ipykernel_launcher.py:6: FutureWarning: Treating datetime data as categorical rather than numeric in `.describe` is deprecated and will be removed in a future version of pandas. Specify `datetime_is_numeric=True` to silence this warning and adopt the future behavior now.\n",
            "  \n"
          ],
          "name": "stderr"
        },
        {
          "output_type": "execute_result",
          "data": {
            "text/plain": [
              "count                   44550\n",
              "unique                    346\n",
              "top       2011-03-15 00:00:00\n",
              "freq                      423\n",
              "first     2002-10-14 00:00:00\n",
              "last      2013-12-03 00:00:00\n",
              "Name: date_recorded, dtype: object"
            ]
          },
          "metadata": {
            "tags": []
          },
          "execution_count": 315
        }
      ]
    },
    {
      "cell_type": "code",
      "metadata": {
        "colab": {
          "base_uri": "https://localhost:8080/"
        },
        "id": "Ad4KikVciYjp",
        "outputId": "ac7a2820-a66b-4a4a-b6d3-505f3c14f325"
      },
      "source": [
        "# The most recent data is 2013-12-03. Subtract each date from this point to obtain a \n",
        "# 'days_since_recorded' column.\n",
        "\n",
        "train_df.date_recorded = pd.datetime(2013, 12, 3) - pd.to_datetime(train_df.date_recorded)\n",
        "train_df.columns = ['days_since_recorded' if x=='date_recorded' else x for x in train_df.columns]\n",
        "train_df.days_since_recorded = train_df.days_since_recorded.astype('timedelta64[D]').astype(int)\n",
        "train_df.days_since_recorded.describe()"
      ],
      "execution_count": 316,
      "outputs": [
        {
          "output_type": "stream",
          "text": [
            "/usr/local/lib/python3.7/dist-packages/ipykernel_launcher.py:4: FutureWarning: The pandas.datetime class is deprecated and will be removed from pandas in a future version. Import from datetime module instead.\n",
            "  after removing the cwd from sys.path.\n"
          ],
          "name": "stderr"
        },
        {
          "output_type": "execute_result",
          "data": {
            "text/plain": [
              "count    44550.000000\n",
              "mean       615.289809\n",
              "std        333.898570\n",
              "min          0.000000\n",
              "25%        297.000000\n",
              "50%        420.000000\n",
              "75%        977.000000\n",
              "max       4068.000000\n",
              "Name: days_since_recorded, dtype: float64"
            ]
          },
          "metadata": {
            "tags": []
          },
          "execution_count": 316
        }
      ]
    },
    {
      "cell_type": "code",
      "metadata": {
        "colab": {
          "base_uri": "https://localhost:8080/"
        },
        "id": "AeREsl2FirwD",
        "outputId": "6887c671-55ad-431f-c3a1-d36918938a6d"
      },
      "source": [
        "# There's a wide range of data here hopefully it will help improve the predictive power of our\n",
        "# models. Next up for inspection is 'wpt_name' (Name of the waterpoint if there is one).\n",
        "\n",
        "df.wpt_name.value_counts()\n",
        "\n"
      ],
      "execution_count": 317,
      "outputs": [
        {
          "output_type": "execute_result",
          "data": {
            "text/plain": [
              "none                     3563\n",
              "Shuleni                  1748\n",
              "Zahanati                  830\n",
              "Msikitini                 535\n",
              "Kanisani                  323\n",
              "                         ... \n",
              "Kwa Martini Moheda          1\n",
              "Rwatankororo                1\n",
              "Dulu                        1\n",
              "Kwa Mkwenya                 1\n",
              "Kwa Jerry Mwambambale       1\n",
              "Name: wpt_name, Length: 37400, dtype: int64"
            ]
          },
          "metadata": {
            "tags": []
          },
          "execution_count": 317
        }
      ]
    },
    {
      "cell_type": "code",
      "metadata": {
        "id": "D_i6jtGqroLd"
      },
      "source": [
        "# Due to the huge number of factors and the lack of a clear dominating value I'll drop this.\n",
        "# I may come back and include the top 5 later. Next up is 'basin'.\n",
        "\n",
        "train_df = train_df.drop('wpt_name', axis=1)"
      ],
      "execution_count": 318,
      "outputs": []
    },
    {
      "cell_type": "code",
      "metadata": {
        "colab": {
          "base_uri": "https://localhost:8080/"
        },
        "id": "YNgUfgJTtJM2",
        "outputId": "4a82569c-ef4a-4ef6-872d-1de1356e5338"
      },
      "source": [
        "train_df.basin.value_counts()"
      ],
      "execution_count": 319,
      "outputs": [
        {
          "output_type": "execute_result",
          "data": {
            "text/plain": [
              "Lake Victoria              7623\n",
              "Pangani                    6703\n",
              "Rufiji                     6045\n",
              "Internal                   5855\n",
              "Lake Tanganyika            4775\n",
              "Wami / Ruvu                4430\n",
              "Lake Nyasa                 3902\n",
              "Ruvuma / Southern Coast    3381\n",
              "Lake Rukwa                 1836\n",
              "Name: basin, dtype: int64"
            ]
          },
          "metadata": {
            "tags": []
          },
          "execution_count": 319
        }
      ]
    },
    {
      "cell_type": "code",
      "metadata": {
        "colab": {
          "base_uri": "https://localhost:8080/",
          "height": 927
        },
        "id": "CcbJgtS7tN5s",
        "outputId": "b1cdb809-7b1c-4394-e5ad-4949e313fea8"
      },
      "source": [
        "pd.set_option('display.max_rows', None)\n",
        "piv_table = pd.pivot_table(train_df, index=['basin', 'status_group'],values=['status_group_vals'], aggfunc='count')\n",
        "display(piv_table)\n",
        "pd.set_option('display.max_rows', 15)"
      ],
      "execution_count": 322,
      "outputs": [
        {
          "output_type": "display_data",
          "data": {
            "text/html": [
              "<div>\n",
              "<style scoped>\n",
              "    .dataframe tbody tr th:only-of-type {\n",
              "        vertical-align: middle;\n",
              "    }\n",
              "\n",
              "    .dataframe tbody tr th {\n",
              "        vertical-align: top;\n",
              "    }\n",
              "\n",
              "    .dataframe thead th {\n",
              "        text-align: right;\n",
              "    }\n",
              "</style>\n",
              "<table border=\"1\" class=\"dataframe\">\n",
              "  <thead>\n",
              "    <tr style=\"text-align: right;\">\n",
              "      <th></th>\n",
              "      <th></th>\n",
              "      <th>status_group_vals</th>\n",
              "    </tr>\n",
              "    <tr>\n",
              "      <th>basin</th>\n",
              "      <th>status_group</th>\n",
              "      <th></th>\n",
              "    </tr>\n",
              "  </thead>\n",
              "  <tbody>\n",
              "    <tr>\n",
              "      <th rowspan=\"3\" valign=\"top\">Internal</th>\n",
              "      <th>functional</th>\n",
              "      <td>3379</td>\n",
              "    </tr>\n",
              "    <tr>\n",
              "      <th>functional needs repair</th>\n",
              "      <td>420</td>\n",
              "    </tr>\n",
              "    <tr>\n",
              "      <th>non functional</th>\n",
              "      <td>2056</td>\n",
              "    </tr>\n",
              "    <tr>\n",
              "      <th rowspan=\"3\" valign=\"top\">Lake Nyasa</th>\n",
              "      <th>functional</th>\n",
              "      <td>2525</td>\n",
              "    </tr>\n",
              "    <tr>\n",
              "      <th>functional needs repair</th>\n",
              "      <td>195</td>\n",
              "    </tr>\n",
              "    <tr>\n",
              "      <th>non functional</th>\n",
              "      <td>1182</td>\n",
              "    </tr>\n",
              "    <tr>\n",
              "      <th rowspan=\"3\" valign=\"top\">Lake Rukwa</th>\n",
              "      <th>functional</th>\n",
              "      <td>748</td>\n",
              "    </tr>\n",
              "    <tr>\n",
              "      <th>functional needs repair</th>\n",
              "      <td>203</td>\n",
              "    </tr>\n",
              "    <tr>\n",
              "      <th>non functional</th>\n",
              "      <td>885</td>\n",
              "    </tr>\n",
              "    <tr>\n",
              "      <th rowspan=\"3\" valign=\"top\">Lake Tanganyika</th>\n",
              "      <th>functional</th>\n",
              "      <td>2318</td>\n",
              "    </tr>\n",
              "    <tr>\n",
              "      <th>functional needs repair</th>\n",
              "      <td>545</td>\n",
              "    </tr>\n",
              "    <tr>\n",
              "      <th>non functional</th>\n",
              "      <td>1912</td>\n",
              "    </tr>\n",
              "    <tr>\n",
              "      <th rowspan=\"3\" valign=\"top\">Lake Victoria</th>\n",
              "      <th>functional</th>\n",
              "      <td>3793</td>\n",
              "    </tr>\n",
              "    <tr>\n",
              "      <th>functional needs repair</th>\n",
              "      <td>741</td>\n",
              "    </tr>\n",
              "    <tr>\n",
              "      <th>non functional</th>\n",
              "      <td>3089</td>\n",
              "    </tr>\n",
              "    <tr>\n",
              "      <th rowspan=\"3\" valign=\"top\">Pangani</th>\n",
              "      <th>functional</th>\n",
              "      <td>4021</td>\n",
              "    </tr>\n",
              "    <tr>\n",
              "      <th>functional needs repair</th>\n",
              "      <td>352</td>\n",
              "    </tr>\n",
              "    <tr>\n",
              "      <th>non functional</th>\n",
              "      <td>2330</td>\n",
              "    </tr>\n",
              "    <tr>\n",
              "      <th rowspan=\"3\" valign=\"top\">Rufiji</th>\n",
              "      <th>functional</th>\n",
              "      <td>3836</td>\n",
              "    </tr>\n",
              "    <tr>\n",
              "      <th>functional needs repair</th>\n",
              "      <td>338</td>\n",
              "    </tr>\n",
              "    <tr>\n",
              "      <th>non functional</th>\n",
              "      <td>1871</td>\n",
              "    </tr>\n",
              "    <tr>\n",
              "      <th rowspan=\"3\" valign=\"top\">Ruvuma / Southern Coast</th>\n",
              "      <th>functional</th>\n",
              "      <td>1268</td>\n",
              "    </tr>\n",
              "    <tr>\n",
              "      <th>functional needs repair</th>\n",
              "      <td>237</td>\n",
              "    </tr>\n",
              "    <tr>\n",
              "      <th>non functional</th>\n",
              "      <td>1876</td>\n",
              "    </tr>\n",
              "    <tr>\n",
              "      <th rowspan=\"3\" valign=\"top\">Wami / Ruvu</th>\n",
              "      <th>functional</th>\n",
              "      <td>2306</td>\n",
              "    </tr>\n",
              "    <tr>\n",
              "      <th>functional needs repair</th>\n",
              "      <td>207</td>\n",
              "    </tr>\n",
              "    <tr>\n",
              "      <th>non functional</th>\n",
              "      <td>1917</td>\n",
              "    </tr>\n",
              "  </tbody>\n",
              "</table>\n",
              "</div>"
            ],
            "text/plain": [
              "                                                 status_group_vals\n",
              "basin                   status_group                              \n",
              "Internal                functional                            3379\n",
              "                        functional needs repair                420\n",
              "                        non functional                        2056\n",
              "Lake Nyasa              functional                            2525\n",
              "                        functional needs repair                195\n",
              "                        non functional                        1182\n",
              "Lake Rukwa              functional                             748\n",
              "                        functional needs repair                203\n",
              "                        non functional                         885\n",
              "Lake Tanganyika         functional                            2318\n",
              "                        functional needs repair                545\n",
              "                        non functional                        1912\n",
              "Lake Victoria           functional                            3793\n",
              "                        functional needs repair                741\n",
              "                        non functional                        3089\n",
              "Pangani                 functional                            4021\n",
              "                        functional needs repair                352\n",
              "                        non functional                        2330\n",
              "Rufiji                  functional                            3836\n",
              "                        functional needs repair                338\n",
              "                        non functional                        1871\n",
              "Ruvuma / Southern Coast functional                            1268\n",
              "                        functional needs repair                237\n",
              "                        non functional                        1876\n",
              "Wami / Ruvu             functional                            2306\n",
              "                        functional needs repair                207\n",
              "                        non functional                        1917"
            ]
          },
          "metadata": {
            "tags": []
          }
        }
      ]
    },
    {
      "cell_type": "markdown",
      "metadata": {
        "id": "IAjNZSxEtxS6"
      },
      "source": [
        "\n",
        "\n",
        "Most basins have have more functional than non-functional pumps. Lake Rukwa and Ruvuma don't. All the values are over 2000 so this looks like a good feature to keep. Region will be considered next.\n",
        "\n"
      ]
    },
    {
      "cell_type": "code",
      "metadata": {
        "colab": {
          "base_uri": "https://localhost:8080/"
        },
        "id": "JtWhlzIjtVhc",
        "outputId": "07de19e5-7887-4647-c8e6-759225f8e7a7"
      },
      "source": [
        "train_df.region.value_counts()"
      ],
      "execution_count": 323,
      "outputs": [
        {
          "output_type": "execute_result",
          "data": {
            "text/plain": [
              "Iringa           4017\n",
              "Shinyanga        3719\n",
              "Mbeya            3609\n",
              "Kilimanjaro      3307\n",
              "Morogoro         2961\n",
              "                 ... \n",
              "Rukwa            1353\n",
              "Mtwara           1308\n",
              "Manyara          1172\n",
              "Lindi            1152\n",
              "Dar es Salaam     593\n",
              "Name: region, Length: 21, dtype: int64"
            ]
          },
          "metadata": {
            "tags": []
          },
          "execution_count": 323
        }
      ]
    },
    {
      "cell_type": "code",
      "metadata": {
        "id": "FlePbziGt4fD"
      },
      "source": [
        "# Both basin, lga, ward and region contain geographical information so there is a risk of them being\n",
        "# highly correlated with each other. I'll drop then for now.\n",
        "# They could be be worth including though, so I may come back to them.\n",
        "train_df = train_df.drop(['region', 'lga', 'ward'], axis=1)"
      ],
      "execution_count": 324,
      "outputs": []
    },
    {
      "cell_type": "code",
      "metadata": {
        "colab": {
          "base_uri": "https://localhost:8080/"
        },
        "id": "pVrWdfF4uDJB",
        "outputId": "5152f445-f19d-4b5c-c2a5-f65ddbfd223c"
      },
      "source": [
        "train_df.recorded_by.value_counts()"
      ],
      "execution_count": 325,
      "outputs": [
        {
          "output_type": "execute_result",
          "data": {
            "text/plain": [
              "GeoData Consultants Ltd    44550\n",
              "Name: recorded_by, dtype: int64"
            ]
          },
          "metadata": {
            "tags": []
          },
          "execution_count": 325
        }
      ]
    },
    {
      "cell_type": "code",
      "metadata": {
        "id": "Z7IJ6Lq9uHq5"
      },
      "source": [
        "# All data points have the same value so this offers no information that would help build our\n",
        "# model.\n",
        "train_df = train_df.drop('recorded_by', axis=1)"
      ],
      "execution_count": 326,
      "outputs": []
    },
    {
      "cell_type": "code",
      "metadata": {
        "id": "FOzWNiK4uNBw"
      },
      "source": [
        "# extraction_type, extraction_type_group and extraction_type_class appear to contain very similar\n",
        "# data. I'll drop the first two and keep the last one.\n",
        "\n",
        "train_df = train_df.drop(['extraction_type', 'extraction_type_group'], axis=1)"
      ],
      "execution_count": 327,
      "outputs": []
    },
    {
      "cell_type": "code",
      "metadata": {
        "colab": {
          "base_uri": "https://localhost:8080/"
        },
        "id": "9JdgT13yuacT",
        "outputId": "7b3f3c11-0ea4-4753-d35a-2bb514679758"
      },
      "source": [
        "train_df.management.value_counts()"
      ],
      "execution_count": 328,
      "outputs": [
        {
          "output_type": "execute_result",
          "data": {
            "text/plain": [
              "vwc                 30371\n",
              "wug                  4874\n",
              "water board          2221\n",
              "wua                  1907\n",
              "private operator     1485\n",
              "parastatal           1347\n",
              "water authority       677\n",
              "other                 622\n",
              "company               512\n",
              "unknown               402\n",
              "other - school         70\n",
              "trust                  62\n",
              "Name: management, dtype: int64"
            ]
          },
          "metadata": {
            "tags": []
          },
          "execution_count": 328
        }
      ]
    },
    {
      "cell_type": "code",
      "metadata": {
        "id": "4w9KqbW6uiQy"
      },
      "source": [
        "# This appears to be almost identical to 'scheme_management'. I'll drop it.\n",
        "\n",
        "train_df = train_df.drop('management', axis=1)"
      ],
      "execution_count": 329,
      "outputs": []
    },
    {
      "cell_type": "code",
      "metadata": {
        "colab": {
          "base_uri": "https://localhost:8080/"
        },
        "id": "l0WZWBcWu6Wo",
        "outputId": "338825b4-342a-4a97-97ea-f9efc5fc65aa"
      },
      "source": [
        "train_df.management_group.value_counts()"
      ],
      "execution_count": 331,
      "outputs": [
        {
          "output_type": "execute_result",
          "data": {
            "text/plain": [
              "user-group    39373\n",
              "commercial     2736\n",
              "parastatal     1347\n",
              "other           692\n",
              "unknown         402\n",
              "Name: management_group, dtype: int64"
            ]
          },
          "metadata": {
            "tags": []
          },
          "execution_count": 331
        }
      ]
    },
    {
      "cell_type": "code",
      "metadata": {
        "id": "tFd3Yd7Pu-YX"
      },
      "source": [
        "# Appears to offer no new info and is likely to overlap with 'scheme_management'.\n",
        "\n",
        "train_df = train_df.drop('management_group', axis=1)"
      ],
      "execution_count": 332,
      "outputs": []
    },
    {
      "cell_type": "code",
      "metadata": {
        "colab": {
          "base_uri": "https://localhost:8080/"
        },
        "id": "y4rbJYF1vJa_",
        "outputId": "d34c906d-1e41-44ff-ff3e-0b10f74c7d95"
      },
      "source": [
        "train_df.payment.value_counts()"
      ],
      "execution_count": 333,
      "outputs": [
        {
          "output_type": "execute_result",
          "data": {
            "text/plain": [
              "never pay                19002\n",
              "pay per bucket            6808\n",
              "pay monthly               6182\n",
              "unknown                   6104\n",
              "pay when scheme fails     2941\n",
              "pay annually              2717\n",
              "other                      796\n",
              "Name: payment, dtype: int64"
            ]
          },
          "metadata": {
            "tags": []
          },
          "execution_count": 333
        }
      ]
    },
    {
      "cell_type": "code",
      "metadata": {
        "colab": {
          "base_uri": "https://localhost:8080/"
        },
        "id": "DmROJfOhvNdU",
        "outputId": "6af37526-9367-4c30-b23d-a21f9bb60058"
      },
      "source": [
        "train_df.payment_type.value_counts()"
      ],
      "execution_count": 334,
      "outputs": [
        {
          "output_type": "execute_result",
          "data": {
            "text/plain": [
              "never pay     19002\n",
              "per bucket     6808\n",
              "monthly        6182\n",
              "unknown        6104\n",
              "on failure     2941\n",
              "annually       2717\n",
              "other           796\n",
              "Name: payment_type, dtype: int64"
            ]
          },
          "metadata": {
            "tags": []
          },
          "execution_count": 334
        }
      ]
    },
    {
      "cell_type": "code",
      "metadata": {
        "id": "kdOIwN-XvWUb"
      },
      "source": [
        "# Payment and payment_type contain identical data. Remove one and keep the other.\n",
        "\n",
        "train_df = train_df.drop('payment', axis=1)"
      ],
      "execution_count": 335,
      "outputs": []
    },
    {
      "cell_type": "code",
      "metadata": {
        "colab": {
          "base_uri": "https://localhost:8080/"
        },
        "id": "pRhxuvHCvgew",
        "outputId": "ba82e9d0-3a9e-4a78-8356-526e4404f369"
      },
      "source": [
        "train_df.water_quality.value_counts()"
      ],
      "execution_count": 336,
      "outputs": [
        {
          "output_type": "execute_result",
          "data": {
            "text/plain": [
              "soft                  38093\n",
              "salty                  3668\n",
              "unknown                1397\n",
              "milky                   606\n",
              "coloured                364\n",
              "salty abandoned         264\n",
              "fluoride                147\n",
              "fluoride abandoned       11\n",
              "Name: water_quality, dtype: int64"
            ]
          },
          "metadata": {
            "tags": []
          },
          "execution_count": 336
        }
      ]
    },
    {
      "cell_type": "code",
      "metadata": {
        "colab": {
          "base_uri": "https://localhost:8080/"
        },
        "id": "yrXo74TLvppd",
        "outputId": "3b3c029f-accd-40f5-a545-5fbade280634"
      },
      "source": [
        "train_df.quality_group.value_counts()"
      ],
      "execution_count": 337,
      "outputs": [
        {
          "output_type": "execute_result",
          "data": {
            "text/plain": [
              "good        38093\n",
              "salty        3932\n",
              "unknown      1397\n",
              "milky         606\n",
              "colored       364\n",
              "fluoride      158\n",
              "Name: quality_group, dtype: int64"
            ]
          },
          "metadata": {
            "tags": []
          },
          "execution_count": 337
        }
      ]
    },
    {
      "cell_type": "code",
      "metadata": {
        "id": "qAi8iTCovuEf"
      },
      "source": [
        "# Water_quality and quality_group contain identical data. Remove one and keep the other.\n",
        "\n",
        "train_df = train_df.drop('quality_group', 1)"
      ],
      "execution_count": 338,
      "outputs": []
    },
    {
      "cell_type": "code",
      "metadata": {
        "colab": {
          "base_uri": "https://localhost:8080/"
        },
        "id": "2owySXAGv0QR",
        "outputId": "2af5a737-1d0a-4ec7-979e-afd581a7bfd9"
      },
      "source": [
        "train_df.quantity.value_counts()"
      ],
      "execution_count": 339,
      "outputs": [
        {
          "output_type": "execute_result",
          "data": {
            "text/plain": [
              "enough          24821\n",
              "insufficient    11367\n",
              "dry              4725\n",
              "seasonal         3049\n",
              "unknown           588\n",
              "Name: quantity, dtype: int64"
            ]
          },
          "metadata": {
            "tags": []
          },
          "execution_count": 339
        }
      ]
    },
    {
      "cell_type": "code",
      "metadata": {
        "colab": {
          "base_uri": "https://localhost:8080/"
        },
        "id": "ZNesaWR5v5lx",
        "outputId": "0c6d87b4-96b0-414c-fa12-56c2b36a34c7"
      },
      "source": [
        "train_df.quantity_group.value_counts()"
      ],
      "execution_count": 340,
      "outputs": [
        {
          "output_type": "execute_result",
          "data": {
            "text/plain": [
              "enough          24821\n",
              "insufficient    11367\n",
              "dry              4725\n",
              "seasonal         3049\n",
              "unknown           588\n",
              "Name: quantity_group, dtype: int64"
            ]
          },
          "metadata": {
            "tags": []
          },
          "execution_count": 340
        }
      ]
    },
    {
      "cell_type": "code",
      "metadata": {
        "id": "69F8C5Duv9U_"
      },
      "source": [
        "# Quantity and quantity_group contain identical data. Remove one and keep the other.\n",
        "\n",
        "train_df = train_df.drop('quantity_group', 1)"
      ],
      "execution_count": 341,
      "outputs": []
    },
    {
      "cell_type": "code",
      "metadata": {
        "colab": {
          "base_uri": "https://localhost:8080/"
        },
        "id": "35bNXYKUwDJt",
        "outputId": "486f445f-b38a-4be7-df16-e886aa476fb0"
      },
      "source": [
        "train_df.source.value_counts()"
      ],
      "execution_count": 342,
      "outputs": [
        {
          "output_type": "execute_result",
          "data": {
            "text/plain": [
              "spring                  12889\n",
              "shallow well            12618\n",
              "machine dbh              8282\n",
              "river                    7135\n",
              "rainwater harvesting     1739\n",
              "hand dtw                  652\n",
              "lake                      544\n",
              "dam                       489\n",
              "other                     156\n",
              "unknown                    46\n",
              "Name: source, dtype: int64"
            ]
          },
          "metadata": {
            "tags": []
          },
          "execution_count": 342
        }
      ]
    },
    {
      "cell_type": "code",
      "metadata": {
        "colab": {
          "base_uri": "https://localhost:8080/"
        },
        "id": "RAIJGHcGwKQS",
        "outputId": "9acbfa2e-c4dd-4c7c-e084-67b2ec7a9354"
      },
      "source": [
        "train_df.source_class.value_counts()"
      ],
      "execution_count": 343,
      "outputs": [
        {
          "output_type": "execute_result",
          "data": {
            "text/plain": [
              "groundwater    34441\n",
              "surface         9907\n",
              "unknown          202\n",
              "Name: source_class, dtype: int64"
            ]
          },
          "metadata": {
            "tags": []
          },
          "execution_count": 343
        }
      ]
    },
    {
      "cell_type": "code",
      "metadata": {
        "colab": {
          "base_uri": "https://localhost:8080/"
        },
        "id": "YM0aInYfwVrJ",
        "outputId": "8a4da58f-b7b5-480c-98ef-2311dc4a05b2"
      },
      "source": [
        "train_df.source_type.value_counts()"
      ],
      "execution_count": 344,
      "outputs": [
        {
          "output_type": "execute_result",
          "data": {
            "text/plain": [
              "spring                  12889\n",
              "shallow well            12618\n",
              "borehole                 8934\n",
              "river/lake               7679\n",
              "rainwater harvesting     1739\n",
              "dam                       489\n",
              "other                     202\n",
              "Name: source_type, dtype: int64"
            ]
          },
          "metadata": {
            "tags": []
          },
          "execution_count": 344
        }
      ]
    },
    {
      "cell_type": "code",
      "metadata": {
        "id": "fNcYryEJwgFE"
      },
      "source": [
        "# Source and source_type contain very similar information. Remove one and keep the other.\n",
        "\n",
        "train_df = train_df.drop('source', axis=1)"
      ],
      "execution_count": 345,
      "outputs": []
    },
    {
      "cell_type": "code",
      "metadata": {
        "id": "R-O7I7qEwu4K"
      },
      "source": [
        "# gps_height, longitude, latitude, region_code and district_code are all geographic info which\n",
        "# is unlikely to add any predictive power to the model given that there are other variables\n",
        "# containing geographic data. We expect id to not contain any useful information so that gets\n",
        "# dropped too.\n",
        "\n",
        "train_df = train_df.drop(['gps_height', 'longitude', 'latitude', 'region_code', 'district_code', 'id'], axis=1)"
      ],
      "execution_count": 350,
      "outputs": []
    },
    {
      "cell_type": "code",
      "metadata": {
        "id": "E3K_Vjay1I2x"
      },
      "source": [
        "train_df = train_df.drop('num_private',axis=1)"
      ],
      "execution_count": 372,
      "outputs": []
    },
    {
      "cell_type": "code",
      "metadata": {
        "colab": {
          "base_uri": "https://localhost:8080/"
        },
        "id": "Ny0J3uhzxR0C",
        "outputId": "62824fa2-f457-46db-8103-8b58a9eec957"
      },
      "source": [
        "pd.set_option('display.max_rows', None)\n",
        "print(str_cols.apply(lambda x: len(x.unique())))\n",
        "pd.set_option('display.max_rows', 15)"
      ],
      "execution_count": 351,
      "outputs": [
        {
          "output_type": "stream",
          "text": [
            "date_recorded              346\n",
            "funder                       6\n",
            "installer                    6\n",
            "wpt_name                 28991\n",
            "basin                        9\n",
            "region                      21\n",
            "lga                        125\n",
            "ward                      2080\n",
            "public_meeting               3\n",
            "recorded_by                  1\n",
            "scheme_management            6\n",
            "permit                       3\n",
            "extraction_type             18\n",
            "extraction_type_group       13\n",
            "extraction_type_class        7\n",
            "management                  12\n",
            "management_group             5\n",
            "payment                      7\n",
            "payment_type                 7\n",
            "water_quality                8\n",
            "quality_group                6\n",
            "quantity                     5\n",
            "quantity_group               5\n",
            "source                      10\n",
            "source_type                  7\n",
            "source_class                 3\n",
            "waterpoint_type              7\n",
            "waterpoint_type_group        6\n",
            "status_group                 3\n",
            "dtype: int64\n"
          ],
          "name": "stdout"
        }
      ]
    },
    {
      "cell_type": "code",
      "metadata": {
        "colab": {
          "base_uri": "https://localhost:8080/"
        },
        "id": "vofx-Mh_xW0-",
        "outputId": "e281d85e-4823-4dcd-c672-32f71dd3137c"
      },
      "source": [
        "train_df.construction_year.value_counts()"
      ],
      "execution_count": 352,
      "outputs": [
        {
          "output_type": "execute_result",
          "data": {
            "text/plain": [
              "1950    15641\n",
              "2010     1991\n",
              "2008     1935\n",
              "2009     1928\n",
              "2000     1575\n",
              "        ...  \n",
              "1964       31\n",
              "1962       28\n",
              "1961       17\n",
              "1966       14\n",
              "1965       11\n",
              "Name: construction_year, Length: 55, dtype: int64"
            ]
          },
          "metadata": {
            "tags": []
          },
          "execution_count": 352
        }
      ]
    },
    {
      "cell_type": "code",
      "metadata": {
        "id": "iVAGJ-P5xvw2"
      },
      "source": [
        "# Turn construction_year into a categorical column containing the following values: '60s', '70s',\n",
        "# '80s', '90s, '00s', '10s', 'unknown'.\n",
        "\n",
        "def construction_wrangler(row):\n",
        "  if row['construction_year'] >= 1960 and row['construction_year'] < 1970:\n",
        "    return '60s'\n",
        "  elif row['construction_year'] >= 1970 and row['construction_year'] < 1980:\n",
        "    return '70s'\n",
        "  elif row['construction_year'] >= 1980 and row['construction_year'] < 1990:\n",
        "    return '80s'\n",
        "  elif row['construction_year'] >= 1990 and row['construction_year'] < 2000:\n",
        "    return '90s'\n",
        "  elif row['construction_year'] >= 2000 and row['construction_year'] < 2010:\n",
        "    return '00s'\n",
        "  elif row['construction_year'] >= 2010:\n",
        "    return '10s'\n",
        "  else:\n",
        "    return 'unknown'\n",
        "    \n",
        "train_df['construction_year'] = train_df.apply(lambda row: construction_wrangler(row), axis=1)"
      ],
      "execution_count": 353,
      "outputs": []
    },
    {
      "cell_type": "code",
      "metadata": {
        "colab": {
          "base_uri": "https://localhost:8080/",
          "height": 279
        },
        "id": "FcwZL2iCyGce",
        "outputId": "dc125e86-bdeb-42ba-eb9f-aacf186be46f"
      },
      "source": [
        "sns.histplot(train_df.population, bins = 40)\n",
        "plt.show()"
      ],
      "execution_count": 356,
      "outputs": [
        {
          "output_type": "display_data",
          "data": {
            "image/png": "[encoded data removed]",
            "text/plain": [
              "<Figure size 432x288 with 1 Axes>"
            ]
          },
          "metadata": {
            "tags": [],
            "needs_background": "light"
          }
        }
      ]
    },
    {
      "cell_type": "code",
      "metadata": {
        "colab": {
          "base_uri": "https://localhost:8080/"
        },
        "id": "rMfhlbfeyMGO",
        "outputId": "465a39f1-3a68-43d5-c0ee-eb7cc7934f77"
      },
      "source": [
        "train_df.info()"
      ],
      "execution_count": 357,
      "outputs": [
        {
          "output_type": "stream",
          "text": [
            "<class 'pandas.core.frame.DataFrame'>\n",
            "RangeIndex: 44550 entries, 0 to 44549\n",
            "Data columns (total 21 columns):\n",
            " #   Column                 Non-Null Count  Dtype  \n",
            "---  ------                 --------------  -----  \n",
            " 0   amount_tsh             44550 non-null  float64\n",
            " 1   days_since_recorded    44550 non-null  int64  \n",
            " 2   funder                 44550 non-null  object \n",
            " 3   installer              44550 non-null  object \n",
            " 4   num_private            44550 non-null  int64  \n",
            " 5   basin                  44550 non-null  object \n",
            " 6   population             44550 non-null  int64  \n",
            " 7   public_meeting         44550 non-null  object \n",
            " 8   scheme_management      44550 non-null  object \n",
            " 9   permit                 44550 non-null  object \n",
            " 10  construction_year      44550 non-null  object \n",
            " 11  extraction_type_class  44550 non-null  object \n",
            " 12  payment_type           44550 non-null  object \n",
            " 13  water_quality          44550 non-null  object \n",
            " 14  quantity               44550 non-null  object \n",
            " 15  source_type            44550 non-null  object \n",
            " 16  source_class           44550 non-null  object \n",
            " 17  waterpoint_type        44550 non-null  object \n",
            " 18  waterpoint_type_group  44550 non-null  object \n",
            " 19  status_group           44550 non-null  object \n",
            " 20  status_group_vals      44550 non-null  int64  \n",
            "dtypes: float64(1), int64(4), object(16)\n",
            "memory usage: 7.1+ MB\n"
          ],
          "name": "stdout"
        }
      ]
    },
    {
      "cell_type": "code",
      "metadata": {
        "colab": {
          "base_uri": "https://localhost:8080/",
          "height": 280
        },
        "id": "O4728LNiyeK-",
        "outputId": "361e3a3b-839d-477a-9593-a2658236baa5"
      },
      "source": [
        "# Most wells have a few hundred people living around them. There are some wells\n",
        "# serving huge populations. This may skew the data.\n",
        "sns.histplot(train_df.amount_tsh, bins = 40)\n",
        "plt.show()"
      ],
      "execution_count": 360,
      "outputs": [
        {
          "output_type": "display_data",
          "data": {
            "image/png": "[encoded data removed]",
            "text/plain": [
              "<Figure size 432x288 with 1 Axes>"
            ]
          },
          "metadata": {
            "tags": [],
            "needs_background": "light"
          }
        }
      ]
    },
    {
      "cell_type": "code",
      "metadata": {
        "colab": {
          "base_uri": "https://localhost:8080/"
        },
        "id": "PIWWL0E-yzfX",
        "outputId": "2797a005-88e4-42cc-c0bb-96abf0029f61"
      },
      "source": [
        "# This plot measures the amount of water available at the pump. It looks a lot like the \n",
        "# population graph which makes sense. \n",
        "\n",
        "train_df.population.describe()"
      ],
      "execution_count": 361,
      "outputs": [
        {
          "output_type": "execute_result",
          "data": {
            "text/plain": [
              "count    44550.000000\n",
              "mean       179.112750\n",
              "std        478.995645\n",
              "min          0.000000\n",
              "25%          0.000000\n",
              "50%         25.000000\n",
              "75%        210.000000\n",
              "max      30500.000000\n",
              "Name: population, dtype: float64"
            ]
          },
          "metadata": {
            "tags": []
          },
          "execution_count": 361
        }
      ]
    },
    {
      "cell_type": "code",
      "metadata": {
        "colab": {
          "base_uri": "https://localhost:8080/"
        },
        "id": "CksUzZkHy53d",
        "outputId": "1a9fba1f-36b1-4a2e-f1b0-a308a21530e1"
      },
      "source": [
        "train_df.amount_tsh.describe()"
      ],
      "execution_count": 362,
      "outputs": [
        {
          "output_type": "execute_result",
          "data": {
            "text/plain": [
              "count     44550.000000\n",
              "mean        307.623224\n",
              "std        2402.742799\n",
              "min           0.000000\n",
              "25%           0.000000\n",
              "50%           0.000000\n",
              "75%          20.000000\n",
              "max      170000.000000\n",
              "Name: amount_tsh, dtype: float64"
            ]
          },
          "metadata": {
            "tags": []
          },
          "execution_count": 362
        }
      ]
    },
    {
      "cell_type": "code",
      "metadata": {
        "id": "YzpYJDrly_Sn"
      },
      "source": [
        "# There appears to be enough variation between the two to warrant keeping them in the model.\n",
        "# Let's save the dataframe to a new csv file. We'll start creating models in the next notebooks.\n",
        "train_df = train_df.drop('status_group_vals', 1)\n",
        "train_df.to_csv('pump_train_for_models.csv', index=False)"
      ],
      "execution_count": 363,
      "outputs": []
    },
    {
      "cell_type": "code",
      "metadata": {
        "id": "c1X6q2vXzRN1"
      },
      "source": [
        "# We'll also need to perform the same modifications to the test set.\n",
        "\n",
        "test_df = test_df.drop(['gps_height', 'longitude', 'latitude', 'region_code', 'district_code','num_private', 'id', 'payment', 'management_group', 'management', 'extraction_type', 'extraction_type_group', 'recorded_by','region', 'lga','ward', 'wpt_name', 'scheme_name', 'subvillage', 'quantity_group','quality_group', 'source'], axis=1)"
      ],
      "execution_count": 393,
      "outputs": []
    },
    {
      "cell_type": "code",
      "metadata": {
        "colab": {
          "base_uri": "https://localhost:8080/"
        },
        "id": "UKyhtSeyzsTN",
        "outputId": "aabecd54-3005-417a-a7cb-e7e05f3dd354"
      },
      "source": [
        "test_df.date_recorded = pd.datetime(2013, 12, 3) - pd.to_datetime(test_df.date_recorded)\n",
        "test_df.columns = ['days_since_recorded' if x=='date_recorded' else x for x in test_df.columns]\n",
        "test_df.days_since_recorded = test_df.days_since_recorded.astype('timedelta64[D]').astype(int)"
      ],
      "execution_count": 394,
      "outputs": [
        {
          "output_type": "stream",
          "text": [
            "/usr/local/lib/python3.7/dist-packages/ipykernel_launcher.py:1: FutureWarning: The pandas.datetime class is deprecated and will be removed from pandas in a future version. Import from datetime module instead.\n",
            "  \"\"\"Entry point for launching an IPython kernel.\n"
          ],
          "name": "stderr"
        }
      ]
    },
    {
      "cell_type": "code",
      "metadata": {
        "id": "ZfokWoCVz61j"
      },
      "source": [
        "test_df.permit = test_df.permit.fillna('Unknown')\n",
        "test_df.public_meeting = test_df.public_meeting.fillna('Unknown')"
      ],
      "execution_count": 395,
      "outputs": []
    },
    {
      "cell_type": "code",
      "metadata": {
        "id": "tRamguz30GBN"
      },
      "source": [
        "test_df['scheme_management'] = test_df.apply(lambda row: scheme_wrangler(row), axis=1)\n",
        "test_df['construction_year'] = test_df.apply(lambda row: construction_wrangler(row), axis=1)\n",
        "test_df['installer'] = test_df.apply(lambda row: installer_wrangler(row), axis=1)\n",
        "test_df['funder'] = test_df.apply(lambda row: funder_wrangler(row), axis=1)"
      ],
      "execution_count": 396,
      "outputs": []
    },
    {
      "cell_type": "code",
      "metadata": {
        "colab": {
          "base_uri": "https://localhost:8080/"
        },
        "id": "uW6ydstf0O3W",
        "outputId": "db9720d7-525c-4a10-8318-89bd7c5fd115"
      },
      "source": [
        "train_df.shape"
      ],
      "execution_count": 397,
      "outputs": [
        {
          "output_type": "execute_result",
          "data": {
            "text/plain": [
              "(44550, 94)"
            ]
          },
          "metadata": {
            "tags": []
          },
          "execution_count": 397
        }
      ]
    },
    {
      "cell_type": "code",
      "metadata": {
        "colab": {
          "base_uri": "https://localhost:8080/",
          "height": 635
        },
        "id": "6HnOrfOO0cO7",
        "outputId": "05201de3-d353-4e87-9fb3-58a54a9a1640"
      },
      "source": [
        "pd.set_option('display.max_rows', 30)\n",
        "display(train_df)\n",
        "pd.set_option('display.max_rows', 15)"
      ],
      "execution_count": 371,
      "outputs": [
        {
          "output_type": "display_data",
          "data": {
            "text/html": [
              "<div>\n",
              "<style scoped>\n",
              "    .dataframe tbody tr th:only-of-type {\n",
              "        vertical-align: middle;\n",
              "    }\n",
              "\n",
              "    .dataframe tbody tr th {\n",
              "        vertical-align: top;\n",
              "    }\n",
              "\n",
              "    .dataframe thead th {\n",
              "        text-align: right;\n",
              "    }\n",
              "</style>\n",
              "<table border=\"1\" class=\"dataframe\">\n",
              "  <thead>\n",
              "    <tr style=\"text-align: right;\">\n",
              "      <th></th>\n",
              "      <th>amount_tsh</th>\n",
              "      <th>days_since_recorded</th>\n",
              "      <th>funder</th>\n",
              "      <th>installer</th>\n",
              "      <th>num_private</th>\n",
              "      <th>basin</th>\n",
              "      <th>population</th>\n",
              "      <th>public_meeting</th>\n",
              "      <th>scheme_management</th>\n",
              "      <th>permit</th>\n",
              "      <th>construction_year</th>\n",
              "      <th>extraction_type_class</th>\n",
              "      <th>payment_type</th>\n",
              "      <th>water_quality</th>\n",
              "      <th>quantity</th>\n",
              "      <th>source_type</th>\n",
              "      <th>source_class</th>\n",
              "      <th>waterpoint_type</th>\n",
              "      <th>waterpoint_type_group</th>\n",
              "      <th>status_group</th>\n",
              "    </tr>\n",
              "  </thead>\n",
              "  <tbody>\n",
              "    <tr>\n",
              "      <th>0</th>\n",
              "      <td>7.0</td>\n",
              "      <td>258</td>\n",
              "      <td>other</td>\n",
              "      <td>other</td>\n",
              "      <td>0</td>\n",
              "      <td>Pangani</td>\n",
              "      <td>90</td>\n",
              "      <td>True</td>\n",
              "      <td>wtr_brd</td>\n",
              "      <td>True</td>\n",
              "      <td>00s</td>\n",
              "      <td>gravity</td>\n",
              "      <td>per bucket</td>\n",
              "      <td>soft</td>\n",
              "      <td>enough</td>\n",
              "      <td>spring</td>\n",
              "      <td>groundwater</td>\n",
              "      <td>communal standpipe</td>\n",
              "      <td>communal standpipe</td>\n",
              "      <td>functional</td>\n",
              "    </tr>\n",
              "    <tr>\n",
              "      <th>1</th>\n",
              "      <td>0.0</td>\n",
              "      <td>1016</td>\n",
              "      <td>other</td>\n",
              "      <td>other</td>\n",
              "      <td>0</td>\n",
              "      <td>Lake Nyasa</td>\n",
              "      <td>70</td>\n",
              "      <td>False</td>\n",
              "      <td>other</td>\n",
              "      <td>False</td>\n",
              "      <td>80s</td>\n",
              "      <td>gravity</td>\n",
              "      <td>never pay</td>\n",
              "      <td>soft</td>\n",
              "      <td>enough</td>\n",
              "      <td>spring</td>\n",
              "      <td>groundwater</td>\n",
              "      <td>communal standpipe</td>\n",
              "      <td>communal standpipe</td>\n",
              "      <td>functional</td>\n",
              "    </tr>\n",
              "    <tr>\n",
              "      <th>2</th>\n",
              "      <td>0.0</td>\n",
              "      <td>333</td>\n",
              "      <td>gov</td>\n",
              "      <td>dwe</td>\n",
              "      <td>0</td>\n",
              "      <td>Pangani</td>\n",
              "      <td>150</td>\n",
              "      <td>True</td>\n",
              "      <td>vwc</td>\n",
              "      <td>True</td>\n",
              "      <td>00s</td>\n",
              "      <td>gravity</td>\n",
              "      <td>never pay</td>\n",
              "      <td>soft</td>\n",
              "      <td>insufficient</td>\n",
              "      <td>spring</td>\n",
              "      <td>groundwater</td>\n",
              "      <td>communal standpipe</td>\n",
              "      <td>communal standpipe</td>\n",
              "      <td>non functional</td>\n",
              "    </tr>\n",
              "    <tr>\n",
              "      <th>3</th>\n",
              "      <td>0.0</td>\n",
              "      <td>975</td>\n",
              "      <td>other</td>\n",
              "      <td>other</td>\n",
              "      <td>0</td>\n",
              "      <td>Rufiji</td>\n",
              "      <td>0</td>\n",
              "      <td>True</td>\n",
              "      <td>vwc</td>\n",
              "      <td>True</td>\n",
              "      <td>unknown</td>\n",
              "      <td>gravity</td>\n",
              "      <td>annually</td>\n",
              "      <td>soft</td>\n",
              "      <td>insufficient</td>\n",
              "      <td>river/lake</td>\n",
              "      <td>surface</td>\n",
              "      <td>communal standpipe</td>\n",
              "      <td>communal standpipe</td>\n",
              "      <td>functional</td>\n",
              "    </tr>\n",
              "    <tr>\n",
              "      <th>4</th>\n",
              "      <td>300.0</td>\n",
              "      <td>270</td>\n",
              "      <td>other</td>\n",
              "      <td>other</td>\n",
              "      <td>0</td>\n",
              "      <td>Pangani</td>\n",
              "      <td>34</td>\n",
              "      <td>True</td>\n",
              "      <td>vwc</td>\n",
              "      <td>False</td>\n",
              "      <td>00s</td>\n",
              "      <td>gravity</td>\n",
              "      <td>monthly</td>\n",
              "      <td>soft</td>\n",
              "      <td>insufficient</td>\n",
              "      <td>spring</td>\n",
              "      <td>groundwater</td>\n",
              "      <td>communal standpipe</td>\n",
              "      <td>communal standpipe</td>\n",
              "      <td>functional</td>\n",
              "    </tr>\n",
              "    <tr>\n",
              "      <th>...</th>\n",
              "      <td>...</td>\n",
              "      <td>...</td>\n",
              "      <td>...</td>\n",
              "      <td>...</td>\n",
              "      <td>...</td>\n",
              "      <td>...</td>\n",
              "      <td>...</td>\n",
              "      <td>...</td>\n",
              "      <td>...</td>\n",
              "      <td>...</td>\n",
              "      <td>...</td>\n",
              "      <td>...</td>\n",
              "      <td>...</td>\n",
              "      <td>...</td>\n",
              "      <td>...</td>\n",
              "      <td>...</td>\n",
              "      <td>...</td>\n",
              "      <td>...</td>\n",
              "      <td>...</td>\n",
              "      <td>...</td>\n",
              "    </tr>\n",
              "    <tr>\n",
              "      <th>44545</th>\n",
              "      <td>0.0</td>\n",
              "      <td>314</td>\n",
              "      <td>other</td>\n",
              "      <td>other</td>\n",
              "      <td>0</td>\n",
              "      <td>Lake Tanganyika</td>\n",
              "      <td>0</td>\n",
              "      <td>True</td>\n",
              "      <td>other</td>\n",
              "      <td>True</td>\n",
              "      <td>unknown</td>\n",
              "      <td>handpump</td>\n",
              "      <td>unknown</td>\n",
              "      <td>milky</td>\n",
              "      <td>enough</td>\n",
              "      <td>shallow well</td>\n",
              "      <td>groundwater</td>\n",
              "      <td>hand pump</td>\n",
              "      <td>hand pump</td>\n",
              "      <td>functional</td>\n",
              "    </tr>\n",
              "    <tr>\n",
              "      <th>44546</th>\n",
              "      <td>0.0</td>\n",
              "      <td>862</td>\n",
              "      <td>other</td>\n",
              "      <td>other</td>\n",
              "      <td>0</td>\n",
              "      <td>Lake Victoria</td>\n",
              "      <td>0</td>\n",
              "      <td>True</td>\n",
              "      <td>wua</td>\n",
              "      <td>True</td>\n",
              "      <td>unknown</td>\n",
              "      <td>handpump</td>\n",
              "      <td>monthly</td>\n",
              "      <td>soft</td>\n",
              "      <td>enough</td>\n",
              "      <td>borehole</td>\n",
              "      <td>groundwater</td>\n",
              "      <td>hand pump</td>\n",
              "      <td>hand pump</td>\n",
              "      <td>non functional</td>\n",
              "    </tr>\n",
              "    <tr>\n",
              "      <th>44547</th>\n",
              "      <td>0.0</td>\n",
              "      <td>283</td>\n",
              "      <td>gov</td>\n",
              "      <td>gov</td>\n",
              "      <td>0</td>\n",
              "      <td>Ruvuma / Southern Coast</td>\n",
              "      <td>60</td>\n",
              "      <td>Unknown</td>\n",
              "      <td>vwc</td>\n",
              "      <td>Unknown</td>\n",
              "      <td>70s</td>\n",
              "      <td>gravity</td>\n",
              "      <td>unknown</td>\n",
              "      <td>soft</td>\n",
              "      <td>seasonal</td>\n",
              "      <td>spring</td>\n",
              "      <td>groundwater</td>\n",
              "      <td>communal standpipe</td>\n",
              "      <td>communal standpipe</td>\n",
              "      <td>functional</td>\n",
              "    </tr>\n",
              "    <tr>\n",
              "      <th>44548</th>\n",
              "      <td>200.0</td>\n",
              "      <td>252</td>\n",
              "      <td>other</td>\n",
              "      <td>other</td>\n",
              "      <td>0</td>\n",
              "      <td>Pangani</td>\n",
              "      <td>80</td>\n",
              "      <td>True</td>\n",
              "      <td>wtr_auth</td>\n",
              "      <td>True</td>\n",
              "      <td>10s</td>\n",
              "      <td>gravity</td>\n",
              "      <td>monthly</td>\n",
              "      <td>soft</td>\n",
              "      <td>insufficient</td>\n",
              "      <td>spring</td>\n",
              "      <td>groundwater</td>\n",
              "      <td>communal standpipe</td>\n",
              "      <td>communal standpipe</td>\n",
              "      <td>functional</td>\n",
              "    </tr>\n",
              "    <tr>\n",
              "      <th>44549</th>\n",
              "      <td>0.0</td>\n",
              "      <td>311</td>\n",
              "      <td>other</td>\n",
              "      <td>other</td>\n",
              "      <td>0</td>\n",
              "      <td>Lake Tanganyika</td>\n",
              "      <td>0</td>\n",
              "      <td>True</td>\n",
              "      <td>vwc</td>\n",
              "      <td>False</td>\n",
              "      <td>unknown</td>\n",
              "      <td>handpump</td>\n",
              "      <td>on failure</td>\n",
              "      <td>soft</td>\n",
              "      <td>enough</td>\n",
              "      <td>shallow well</td>\n",
              "      <td>groundwater</td>\n",
              "      <td>hand pump</td>\n",
              "      <td>hand pump</td>\n",
              "      <td>functional</td>\n",
              "    </tr>\n",
              "  </tbody>\n",
              "</table>\n",
              "<p>44550 rows × 20 columns</p>\n",
              "</div>"
            ],
            "text/plain": [
              "       amount_tsh  days_since_recorded  ... waterpoint_type_group    status_group\n",
              "0             7.0                  258  ...    communal standpipe      functional\n",
              "1             0.0                 1016  ...    communal standpipe      functional\n",
              "2             0.0                  333  ...    communal standpipe  non functional\n",
              "3             0.0                  975  ...    communal standpipe      functional\n",
              "4           300.0                  270  ...    communal standpipe      functional\n",
              "...           ...                  ...  ...                   ...             ...\n",
              "44545         0.0                  314  ...             hand pump      functional\n",
              "44546         0.0                  862  ...             hand pump  non functional\n",
              "44547         0.0                  283  ...    communal standpipe      functional\n",
              "44548       200.0                  252  ...    communal standpipe      functional\n",
              "44549         0.0                  311  ...             hand pump      functional\n",
              "\n",
              "[44550 rows x 20 columns]"
            ]
          },
          "metadata": {
            "tags": []
          }
        }
      ]
    },
    {
      "cell_type": "code",
      "metadata": {
        "colab": {
          "base_uri": "https://localhost:8080/"
        },
        "id": "2gnNtNBG0TQu",
        "outputId": "6a74aea9-f265-472b-876f-a342d6c89ded"
      },
      "source": [
        "test_df.shape"
      ],
      "execution_count": 369,
      "outputs": [
        {
          "output_type": "execute_result",
          "data": {
            "text/plain": [
              "(14850, 19)"
            ]
          },
          "metadata": {
            "tags": []
          },
          "execution_count": 369
        }
      ]
    },
    {
      "cell_type": "code",
      "metadata": {
        "id": "T6s_Kb6N0XU4"
      },
      "source": [
        "# The train and test sets match up. We can save the test set now.\n",
        "\n",
        "test_df.to_csv('pump_test_for_models.csv', index=False)"
      ],
      "execution_count": 373,
      "outputs": []
    },
    {
      "cell_type": "markdown",
      "metadata": {
        "id": "seT5L7U4S_IU"
      },
      "source": [
        "# ML Models & Prediction"
      ]
    },
    {
      "cell_type": "code",
      "metadata": {
        "id": "pp69nQPZIzbc"
      },
      "source": [
        "from sklearn.model_selection import train_test_split\n",
        "from sklearn.svm import SVC\n",
        "from sklearn.ensemble import BaggingClassifier\n",
        "from sklearn.ensemble import GradientBoostingClassifier\n",
        "from sklearn.model_selection import GridSearchCV\n",
        "from sklearn.pipeline import Pipeline\n",
        "from sklearn.preprocessing import StandardScaler"
      ],
      "execution_count": null,
      "outputs": []
    },
    {
      "cell_type": "code",
      "metadata": {
        "colab": {
          "base_uri": "https://localhost:8080/"
        },
        "id": "dtpgd3X1JEkW",
        "outputId": "20ad2a6c-c627-497e-b957-0503f02d2107"
      },
      "source": [
        "%rm -rf ML-Assignment-data\n",
        "!git clone https://github.com/py-here/ML-Assignment-data"
      ],
      "execution_count": null,
      "outputs": [
        {
          "output_type": "stream",
          "text": [
            "Cloning into 'ML-Assignment-data'...\n",
            "remote: Enumerating objects: 13, done.\u001b[K\n",
            "remote: Counting objects: 100% (13/13), done.\u001b[K\n",
            "remote: Compressing objects: 100% (11/11), done.\u001b[K\n",
            "remote: Total 13 (delta 3), reused 0 (delta 0), pack-reused 0\u001b[K\n",
            "Unpacking objects: 100% (13/13), done.\n"
          ],
          "name": "stdout"
        }
      ]
    },
    {
      "cell_type": "code",
      "metadata": {
        "id": "yDAmCbiJK0im"
      },
      "source": [
        "train_df = pd.read_csv(\"/content/ML-Assignment-data/pump_train_for_models.csv\")\n",
        "test_df = pd.read_csv(\"/content/ML-Assignment-data/pump_test_for_models.csv\")"
      ],
      "execution_count": null,
      "outputs": []
    },
    {
      "cell_type": "code",
      "metadata": {
        "colab": {
          "base_uri": "https://localhost:8080/"
        },
        "id": "Il2mUJMl1oR6",
        "outputId": "43af64de-47ca-4da7-ddc1-e22dd07db133"
      },
      "source": [
        "train_df.info()"
      ],
      "execution_count": null,
      "outputs": [
        {
          "output_type": "stream",
          "text": [
            "<class 'pandas.core.frame.DataFrame'>\n",
            "RangeIndex: 44550 entries, 0 to 44549\n",
            "Data columns (total 20 columns):\n",
            " #   Column                 Non-Null Count  Dtype  \n",
            "---  ------                 --------------  -----  \n",
            " 0   amount_tsh             44550 non-null  float64\n",
            " 1   days_since_recorded    44550 non-null  int64  \n",
            " 2   funder                 44550 non-null  object \n",
            " 3   installer              44550 non-null  object \n",
            " 4   num_private            44550 non-null  int64  \n",
            " 5   basin                  44550 non-null  object \n",
            " 6   population             44550 non-null  int64  \n",
            " 7   public_meeting         44550 non-null  object \n",
            " 8   scheme_management      44550 non-null  object \n",
            " 9   permit                 44550 non-null  object \n",
            " 10  construction_year      44550 non-null  object \n",
            " 11  extraction_type_class  44550 non-null  object \n",
            " 12  payment_type           44550 non-null  object \n",
            " 13  water_quality          44550 non-null  object \n",
            " 14  quantity               44550 non-null  object \n",
            " 15  source_type            44550 non-null  object \n",
            " 16  source_class           44550 non-null  object \n",
            " 17  waterpoint_type        44550 non-null  object \n",
            " 18  waterpoint_type_group  44550 non-null  object \n",
            " 19  status_group           44550 non-null  object \n",
            "dtypes: float64(1), int64(3), object(16)\n",
            "memory usage: 6.8+ MB\n"
          ],
          "name": "stdout"
        }
      ]
    },
    {
      "cell_type": "code",
      "metadata": {
        "id": "wt5ShdXc3Fvm"
      },
      "source": [
        "# Get dummy columns for the categorical columns and shuffle the data.\n",
        "\n",
        "dummy_cols = ['funder', 'installer', 'basin', 'public_meeting', 'scheme_management', 'permit',\n",
        "              'construction_year', 'extraction_type_class', 'payment_type', 'water_quality',\n",
        "              'quantity', 'source_type', 'source_class', 'waterpoint_type',\n",
        "              'waterpoint_type_group']\n",
        "\n",
        "train_df = pd.get_dummies(train_df, columns = dummy_cols)\n",
        "\n",
        "train_df = train_df.sample(frac=1).reset_index(drop=True)"
      ],
      "execution_count": null,
      "outputs": []
    },
    {
      "cell_type": "code",
      "metadata": {
        "colab": {
          "base_uri": "https://localhost:8080/",
          "height": 326
        },
        "id": "N1QnJVrA3ZV5",
        "outputId": "273882aa-84bb-40b5-b1f0-455b0ddbc449"
      },
      "source": [
        "print(train_df.shape)\n",
        "train_df.head()"
      ],
      "execution_count": null,
      "outputs": [
        {
          "output_type": "stream",
          "text": [
            "(44550, 95)\n"
          ],
          "name": "stdout"
        },
        {
          "output_type": "execute_result",
          "data": {
            "text/html": [
              "<div>\n",
              "<style scoped>\n",
              "    .dataframe tbody tr th:only-of-type {\n",
              "        vertical-align: middle;\n",
              "    }\n",
              "\n",
              "    .dataframe tbody tr th {\n",
              "        vertical-align: top;\n",
              "    }\n",
              "\n",
              "    .dataframe thead th {\n",
              "        text-align: right;\n",
              "    }\n",
              "</style>\n",
              "<table border=\"1\" class=\"dataframe\">\n",
              "  <thead>\n",
              "    <tr style=\"text-align: right;\">\n",
              "      <th></th>\n",
              "      <th>amount_tsh</th>\n",
              "      <th>days_since_recorded</th>\n",
              "      <th>num_private</th>\n",
              "      <th>population</th>\n",
              "      <th>status_group</th>\n",
              "      <th>funder_danida</th>\n",
              "      <th>funder_gov</th>\n",
              "      <th>funder_hesawa</th>\n",
              "      <th>funder_other</th>\n",
              "      <th>funder_rwssp</th>\n",
              "      <th>funder_world_bank</th>\n",
              "      <th>installer_commu</th>\n",
              "      <th>installer_danida</th>\n",
              "      <th>installer_dwe</th>\n",
              "      <th>installer_gov</th>\n",
              "      <th>installer_other</th>\n",
              "      <th>installer_rwe</th>\n",
              "      <th>basin_Internal</th>\n",
              "      <th>basin_Lake Nyasa</th>\n",
              "      <th>basin_Lake Rukwa</th>\n",
              "      <th>basin_Lake Tanganyika</th>\n",
              "      <th>basin_Lake Victoria</th>\n",
              "      <th>basin_Pangani</th>\n",
              "      <th>basin_Rufiji</th>\n",
              "      <th>basin_Ruvuma / Southern Coast</th>\n",
              "      <th>basin_Wami / Ruvu</th>\n",
              "      <th>public_meeting_False</th>\n",
              "      <th>public_meeting_True</th>\n",
              "      <th>public_meeting_Unknown</th>\n",
              "      <th>scheme_management_other</th>\n",
              "      <th>scheme_management_vwc</th>\n",
              "      <th>scheme_management_wtr_auth</th>\n",
              "      <th>scheme_management_wtr_brd</th>\n",
              "      <th>scheme_management_wua</th>\n",
              "      <th>scheme_management_wug</th>\n",
              "      <th>permit_False</th>\n",
              "      <th>permit_True</th>\n",
              "      <th>permit_Unknown</th>\n",
              "      <th>construction_year_00s</th>\n",
              "      <th>construction_year_10s</th>\n",
              "      <th>...</th>\n",
              "      <th>payment_type_on failure</th>\n",
              "      <th>payment_type_other</th>\n",
              "      <th>payment_type_per bucket</th>\n",
              "      <th>payment_type_unknown</th>\n",
              "      <th>water_quality_coloured</th>\n",
              "      <th>water_quality_fluoride</th>\n",
              "      <th>water_quality_fluoride abandoned</th>\n",
              "      <th>water_quality_milky</th>\n",
              "      <th>water_quality_salty</th>\n",
              "      <th>water_quality_salty abandoned</th>\n",
              "      <th>water_quality_soft</th>\n",
              "      <th>water_quality_unknown</th>\n",
              "      <th>quantity_dry</th>\n",
              "      <th>quantity_enough</th>\n",
              "      <th>quantity_insufficient</th>\n",
              "      <th>quantity_seasonal</th>\n",
              "      <th>quantity_unknown</th>\n",
              "      <th>source_type_borehole</th>\n",
              "      <th>source_type_dam</th>\n",
              "      <th>source_type_other</th>\n",
              "      <th>source_type_rainwater harvesting</th>\n",
              "      <th>source_type_river/lake</th>\n",
              "      <th>source_type_shallow well</th>\n",
              "      <th>source_type_spring</th>\n",
              "      <th>source_class_groundwater</th>\n",
              "      <th>source_class_surface</th>\n",
              "      <th>source_class_unknown</th>\n",
              "      <th>waterpoint_type_cattle trough</th>\n",
              "      <th>waterpoint_type_communal standpipe</th>\n",
              "      <th>waterpoint_type_communal standpipe multiple</th>\n",
              "      <th>waterpoint_type_dam</th>\n",
              "      <th>waterpoint_type_hand pump</th>\n",
              "      <th>waterpoint_type_improved spring</th>\n",
              "      <th>waterpoint_type_other</th>\n",
              "      <th>waterpoint_type_group_cattle trough</th>\n",
              "      <th>waterpoint_type_group_communal standpipe</th>\n",
              "      <th>waterpoint_type_group_dam</th>\n",
              "      <th>waterpoint_type_group_hand pump</th>\n",
              "      <th>waterpoint_type_group_improved spring</th>\n",
              "      <th>waterpoint_type_group_other</th>\n",
              "    </tr>\n",
              "  </thead>\n",
              "  <tbody>\n",
              "    <tr>\n",
              "      <th>0</th>\n",
              "      <td>0.0</td>\n",
              "      <td>281</td>\n",
              "      <td>0</td>\n",
              "      <td>400</td>\n",
              "      <td>non functional</td>\n",
              "      <td>0</td>\n",
              "      <td>0</td>\n",
              "      <td>0</td>\n",
              "      <td>1</td>\n",
              "      <td>0</td>\n",
              "      <td>0</td>\n",
              "      <td>0</td>\n",
              "      <td>0</td>\n",
              "      <td>0</td>\n",
              "      <td>0</td>\n",
              "      <td>1</td>\n",
              "      <td>0</td>\n",
              "      <td>0</td>\n",
              "      <td>0</td>\n",
              "      <td>0</td>\n",
              "      <td>0</td>\n",
              "      <td>0</td>\n",
              "      <td>0</td>\n",
              "      <td>0</td>\n",
              "      <td>1</td>\n",
              "      <td>0</td>\n",
              "      <td>0</td>\n",
              "      <td>1</td>\n",
              "      <td>0</td>\n",
              "      <td>0</td>\n",
              "      <td>1</td>\n",
              "      <td>0</td>\n",
              "      <td>0</td>\n",
              "      <td>0</td>\n",
              "      <td>0</td>\n",
              "      <td>0</td>\n",
              "      <td>1</td>\n",
              "      <td>0</td>\n",
              "      <td>0</td>\n",
              "      <td>1</td>\n",
              "      <td>...</td>\n",
              "      <td>0</td>\n",
              "      <td>0</td>\n",
              "      <td>0</td>\n",
              "      <td>1</td>\n",
              "      <td>0</td>\n",
              "      <td>0</td>\n",
              "      <td>0</td>\n",
              "      <td>0</td>\n",
              "      <td>0</td>\n",
              "      <td>0</td>\n",
              "      <td>1</td>\n",
              "      <td>0</td>\n",
              "      <td>0</td>\n",
              "      <td>1</td>\n",
              "      <td>0</td>\n",
              "      <td>0</td>\n",
              "      <td>0</td>\n",
              "      <td>1</td>\n",
              "      <td>0</td>\n",
              "      <td>0</td>\n",
              "      <td>0</td>\n",
              "      <td>0</td>\n",
              "      <td>0</td>\n",
              "      <td>0</td>\n",
              "      <td>1</td>\n",
              "      <td>0</td>\n",
              "      <td>0</td>\n",
              "      <td>0</td>\n",
              "      <td>0</td>\n",
              "      <td>1</td>\n",
              "      <td>0</td>\n",
              "      <td>0</td>\n",
              "      <td>0</td>\n",
              "      <td>0</td>\n",
              "      <td>0</td>\n",
              "      <td>1</td>\n",
              "      <td>0</td>\n",
              "      <td>0</td>\n",
              "      <td>0</td>\n",
              "      <td>0</td>\n",
              "    </tr>\n",
              "    <tr>\n",
              "      <th>1</th>\n",
              "      <td>0.0</td>\n",
              "      <td>272</td>\n",
              "      <td>0</td>\n",
              "      <td>203</td>\n",
              "      <td>functional</td>\n",
              "      <td>0</td>\n",
              "      <td>0</td>\n",
              "      <td>0</td>\n",
              "      <td>1</td>\n",
              "      <td>0</td>\n",
              "      <td>0</td>\n",
              "      <td>0</td>\n",
              "      <td>0</td>\n",
              "      <td>0</td>\n",
              "      <td>0</td>\n",
              "      <td>1</td>\n",
              "      <td>0</td>\n",
              "      <td>1</td>\n",
              "      <td>0</td>\n",
              "      <td>0</td>\n",
              "      <td>0</td>\n",
              "      <td>0</td>\n",
              "      <td>0</td>\n",
              "      <td>0</td>\n",
              "      <td>0</td>\n",
              "      <td>0</td>\n",
              "      <td>0</td>\n",
              "      <td>1</td>\n",
              "      <td>0</td>\n",
              "      <td>0</td>\n",
              "      <td>1</td>\n",
              "      <td>0</td>\n",
              "      <td>0</td>\n",
              "      <td>0</td>\n",
              "      <td>0</td>\n",
              "      <td>0</td>\n",
              "      <td>1</td>\n",
              "      <td>0</td>\n",
              "      <td>0</td>\n",
              "      <td>1</td>\n",
              "      <td>...</td>\n",
              "      <td>0</td>\n",
              "      <td>0</td>\n",
              "      <td>0</td>\n",
              "      <td>0</td>\n",
              "      <td>0</td>\n",
              "      <td>0</td>\n",
              "      <td>0</td>\n",
              "      <td>0</td>\n",
              "      <td>0</td>\n",
              "      <td>0</td>\n",
              "      <td>1</td>\n",
              "      <td>0</td>\n",
              "      <td>0</td>\n",
              "      <td>0</td>\n",
              "      <td>1</td>\n",
              "      <td>0</td>\n",
              "      <td>0</td>\n",
              "      <td>0</td>\n",
              "      <td>0</td>\n",
              "      <td>0</td>\n",
              "      <td>0</td>\n",
              "      <td>0</td>\n",
              "      <td>0</td>\n",
              "      <td>1</td>\n",
              "      <td>1</td>\n",
              "      <td>0</td>\n",
              "      <td>0</td>\n",
              "      <td>0</td>\n",
              "      <td>1</td>\n",
              "      <td>0</td>\n",
              "      <td>0</td>\n",
              "      <td>0</td>\n",
              "      <td>0</td>\n",
              "      <td>0</td>\n",
              "      <td>0</td>\n",
              "      <td>1</td>\n",
              "      <td>0</td>\n",
              "      <td>0</td>\n",
              "      <td>0</td>\n",
              "      <td>0</td>\n",
              "    </tr>\n",
              "    <tr>\n",
              "      <th>2</th>\n",
              "      <td>300.0</td>\n",
              "      <td>268</td>\n",
              "      <td>0</td>\n",
              "      <td>380</td>\n",
              "      <td>non functional</td>\n",
              "      <td>0</td>\n",
              "      <td>1</td>\n",
              "      <td>0</td>\n",
              "      <td>0</td>\n",
              "      <td>0</td>\n",
              "      <td>0</td>\n",
              "      <td>0</td>\n",
              "      <td>0</td>\n",
              "      <td>0</td>\n",
              "      <td>0</td>\n",
              "      <td>1</td>\n",
              "      <td>0</td>\n",
              "      <td>0</td>\n",
              "      <td>0</td>\n",
              "      <td>0</td>\n",
              "      <td>0</td>\n",
              "      <td>0</td>\n",
              "      <td>1</td>\n",
              "      <td>0</td>\n",
              "      <td>0</td>\n",
              "      <td>0</td>\n",
              "      <td>0</td>\n",
              "      <td>1</td>\n",
              "      <td>0</td>\n",
              "      <td>0</td>\n",
              "      <td>0</td>\n",
              "      <td>0</td>\n",
              "      <td>1</td>\n",
              "      <td>0</td>\n",
              "      <td>0</td>\n",
              "      <td>1</td>\n",
              "      <td>0</td>\n",
              "      <td>0</td>\n",
              "      <td>0</td>\n",
              "      <td>0</td>\n",
              "      <td>...</td>\n",
              "      <td>0</td>\n",
              "      <td>0</td>\n",
              "      <td>0</td>\n",
              "      <td>0</td>\n",
              "      <td>0</td>\n",
              "      <td>0</td>\n",
              "      <td>0</td>\n",
              "      <td>0</td>\n",
              "      <td>0</td>\n",
              "      <td>0</td>\n",
              "      <td>1</td>\n",
              "      <td>0</td>\n",
              "      <td>0</td>\n",
              "      <td>0</td>\n",
              "      <td>1</td>\n",
              "      <td>0</td>\n",
              "      <td>0</td>\n",
              "      <td>0</td>\n",
              "      <td>0</td>\n",
              "      <td>0</td>\n",
              "      <td>0</td>\n",
              "      <td>1</td>\n",
              "      <td>0</td>\n",
              "      <td>0</td>\n",
              "      <td>0</td>\n",
              "      <td>1</td>\n",
              "      <td>0</td>\n",
              "      <td>0</td>\n",
              "      <td>0</td>\n",
              "      <td>0</td>\n",
              "      <td>0</td>\n",
              "      <td>0</td>\n",
              "      <td>0</td>\n",
              "      <td>1</td>\n",
              "      <td>0</td>\n",
              "      <td>0</td>\n",
              "      <td>0</td>\n",
              "      <td>0</td>\n",
              "      <td>0</td>\n",
              "      <td>1</td>\n",
              "    </tr>\n",
              "    <tr>\n",
              "      <th>3</th>\n",
              "      <td>0.0</td>\n",
              "      <td>961</td>\n",
              "      <td>0</td>\n",
              "      <td>0</td>\n",
              "      <td>functional needs repair</td>\n",
              "      <td>0</td>\n",
              "      <td>0</td>\n",
              "      <td>0</td>\n",
              "      <td>1</td>\n",
              "      <td>0</td>\n",
              "      <td>0</td>\n",
              "      <td>0</td>\n",
              "      <td>0</td>\n",
              "      <td>1</td>\n",
              "      <td>0</td>\n",
              "      <td>0</td>\n",
              "      <td>0</td>\n",
              "      <td>1</td>\n",
              "      <td>0</td>\n",
              "      <td>0</td>\n",
              "      <td>0</td>\n",
              "      <td>0</td>\n",
              "      <td>0</td>\n",
              "      <td>0</td>\n",
              "      <td>0</td>\n",
              "      <td>0</td>\n",
              "      <td>0</td>\n",
              "      <td>1</td>\n",
              "      <td>0</td>\n",
              "      <td>0</td>\n",
              "      <td>1</td>\n",
              "      <td>0</td>\n",
              "      <td>0</td>\n",
              "      <td>0</td>\n",
              "      <td>0</td>\n",
              "      <td>1</td>\n",
              "      <td>0</td>\n",
              "      <td>0</td>\n",
              "      <td>0</td>\n",
              "      <td>0</td>\n",
              "      <td>...</td>\n",
              "      <td>0</td>\n",
              "      <td>0</td>\n",
              "      <td>0</td>\n",
              "      <td>0</td>\n",
              "      <td>0</td>\n",
              "      <td>0</td>\n",
              "      <td>0</td>\n",
              "      <td>0</td>\n",
              "      <td>0</td>\n",
              "      <td>0</td>\n",
              "      <td>1</td>\n",
              "      <td>0</td>\n",
              "      <td>0</td>\n",
              "      <td>0</td>\n",
              "      <td>1</td>\n",
              "      <td>0</td>\n",
              "      <td>0</td>\n",
              "      <td>0</td>\n",
              "      <td>0</td>\n",
              "      <td>0</td>\n",
              "      <td>0</td>\n",
              "      <td>0</td>\n",
              "      <td>0</td>\n",
              "      <td>1</td>\n",
              "      <td>1</td>\n",
              "      <td>0</td>\n",
              "      <td>0</td>\n",
              "      <td>0</td>\n",
              "      <td>1</td>\n",
              "      <td>0</td>\n",
              "      <td>0</td>\n",
              "      <td>0</td>\n",
              "      <td>0</td>\n",
              "      <td>0</td>\n",
              "      <td>0</td>\n",
              "      <td>1</td>\n",
              "      <td>0</td>\n",
              "      <td>0</td>\n",
              "      <td>0</td>\n",
              "      <td>0</td>\n",
              "    </tr>\n",
              "    <tr>\n",
              "      <th>4</th>\n",
              "      <td>50.0</td>\n",
              "      <td>265</td>\n",
              "      <td>0</td>\n",
              "      <td>150</td>\n",
              "      <td>functional</td>\n",
              "      <td>0</td>\n",
              "      <td>0</td>\n",
              "      <td>0</td>\n",
              "      <td>1</td>\n",
              "      <td>0</td>\n",
              "      <td>0</td>\n",
              "      <td>0</td>\n",
              "      <td>0</td>\n",
              "      <td>0</td>\n",
              "      <td>0</td>\n",
              "      <td>1</td>\n",
              "      <td>0</td>\n",
              "      <td>0</td>\n",
              "      <td>0</td>\n",
              "      <td>0</td>\n",
              "      <td>0</td>\n",
              "      <td>0</td>\n",
              "      <td>0</td>\n",
              "      <td>0</td>\n",
              "      <td>0</td>\n",
              "      <td>1</td>\n",
              "      <td>0</td>\n",
              "      <td>1</td>\n",
              "      <td>0</td>\n",
              "      <td>0</td>\n",
              "      <td>0</td>\n",
              "      <td>0</td>\n",
              "      <td>0</td>\n",
              "      <td>0</td>\n",
              "      <td>1</td>\n",
              "      <td>1</td>\n",
              "      <td>0</td>\n",
              "      <td>0</td>\n",
              "      <td>1</td>\n",
              "      <td>0</td>\n",
              "      <td>...</td>\n",
              "      <td>0</td>\n",
              "      <td>0</td>\n",
              "      <td>1</td>\n",
              "      <td>0</td>\n",
              "      <td>0</td>\n",
              "      <td>0</td>\n",
              "      <td>0</td>\n",
              "      <td>0</td>\n",
              "      <td>1</td>\n",
              "      <td>0</td>\n",
              "      <td>0</td>\n",
              "      <td>0</td>\n",
              "      <td>0</td>\n",
              "      <td>1</td>\n",
              "      <td>0</td>\n",
              "      <td>0</td>\n",
              "      <td>0</td>\n",
              "      <td>1</td>\n",
              "      <td>0</td>\n",
              "      <td>0</td>\n",
              "      <td>0</td>\n",
              "      <td>0</td>\n",
              "      <td>0</td>\n",
              "      <td>0</td>\n",
              "      <td>1</td>\n",
              "      <td>0</td>\n",
              "      <td>0</td>\n",
              "      <td>0</td>\n",
              "      <td>1</td>\n",
              "      <td>0</td>\n",
              "      <td>0</td>\n",
              "      <td>0</td>\n",
              "      <td>0</td>\n",
              "      <td>0</td>\n",
              "      <td>0</td>\n",
              "      <td>1</td>\n",
              "      <td>0</td>\n",
              "      <td>0</td>\n",
              "      <td>0</td>\n",
              "      <td>0</td>\n",
              "    </tr>\n",
              "  </tbody>\n",
              "</table>\n",
              "<p>5 rows × 95 columns</p>\n",
              "</div>"
            ],
            "text/plain": [
              "   amount_tsh  ...  waterpoint_type_group_other\n",
              "0         0.0  ...                            0\n",
              "1         0.0  ...                            0\n",
              "2       300.0  ...                            1\n",
              "3         0.0  ...                            0\n",
              "4        50.0  ...                            0\n",
              "\n",
              "[5 rows x 95 columns]"
            ]
          },
          "metadata": {
            "tags": []
          },
          "execution_count": 54
        }
      ]
    },
    {
      "cell_type": "code",
      "metadata": {
        "id": "z2U-4Gso3dv4"
      },
      "source": [
        "test_df = pd.get_dummies(test_df, columns = dummy_cols)"
      ],
      "execution_count": null,
      "outputs": []
    },
    {
      "cell_type": "code",
      "metadata": {
        "colab": {
          "base_uri": "https://localhost:8080/",
          "height": 309
        },
        "id": "6R_6aFuW3mOW",
        "outputId": "96fa3507-42e3-4105-b291-2aedf98093fe"
      },
      "source": [
        "print(test_df.shape)\n",
        "test_df.head()"
      ],
      "execution_count": null,
      "outputs": [
        {
          "output_type": "stream",
          "text": [
            "(14850, 94)\n"
          ],
          "name": "stdout"
        },
        {
          "output_type": "execute_result",
          "data": {
            "text/html": [
              "<div>\n",
              "<style scoped>\n",
              "    .dataframe tbody tr th:only-of-type {\n",
              "        vertical-align: middle;\n",
              "    }\n",
              "\n",
              "    .dataframe tbody tr th {\n",
              "        vertical-align: top;\n",
              "    }\n",
              "\n",
              "    .dataframe thead th {\n",
              "        text-align: right;\n",
              "    }\n",
              "</style>\n",
              "<table border=\"1\" class=\"dataframe\">\n",
              "  <thead>\n",
              "    <tr style=\"text-align: right;\">\n",
              "      <th></th>\n",
              "      <th>Unnamed: 0</th>\n",
              "      <th>amount_tsh</th>\n",
              "      <th>days_since_recorded</th>\n",
              "      <th>population</th>\n",
              "      <th>funder_danida</th>\n",
              "      <th>funder_gov</th>\n",
              "      <th>funder_hesawa</th>\n",
              "      <th>funder_other</th>\n",
              "      <th>funder_rwssp</th>\n",
              "      <th>funder_world_bank</th>\n",
              "      <th>installer_commu</th>\n",
              "      <th>installer_danida</th>\n",
              "      <th>installer_dwe</th>\n",
              "      <th>installer_gov</th>\n",
              "      <th>installer_other</th>\n",
              "      <th>installer_rwe</th>\n",
              "      <th>basin_Internal</th>\n",
              "      <th>basin_Lake Nyasa</th>\n",
              "      <th>basin_Lake Rukwa</th>\n",
              "      <th>basin_Lake Tanganyika</th>\n",
              "      <th>basin_Lake Victoria</th>\n",
              "      <th>basin_Pangani</th>\n",
              "      <th>basin_Rufiji</th>\n",
              "      <th>basin_Ruvuma / Southern Coast</th>\n",
              "      <th>basin_Wami / Ruvu</th>\n",
              "      <th>public_meeting_False</th>\n",
              "      <th>public_meeting_True</th>\n",
              "      <th>public_meeting_Unknown</th>\n",
              "      <th>scheme_management_other</th>\n",
              "      <th>scheme_management_vwc</th>\n",
              "      <th>scheme_management_wtr_auth</th>\n",
              "      <th>scheme_management_wtr_brd</th>\n",
              "      <th>scheme_management_wua</th>\n",
              "      <th>scheme_management_wug</th>\n",
              "      <th>permit_False</th>\n",
              "      <th>permit_True</th>\n",
              "      <th>permit_Unknown</th>\n",
              "      <th>construction_year_00s</th>\n",
              "      <th>construction_year_10s</th>\n",
              "      <th>construction_year_60s</th>\n",
              "      <th>...</th>\n",
              "      <th>payment_type_on failure</th>\n",
              "      <th>payment_type_other</th>\n",
              "      <th>payment_type_per bucket</th>\n",
              "      <th>payment_type_unknown</th>\n",
              "      <th>water_quality_coloured</th>\n",
              "      <th>water_quality_fluoride</th>\n",
              "      <th>water_quality_fluoride abandoned</th>\n",
              "      <th>water_quality_milky</th>\n",
              "      <th>water_quality_salty</th>\n",
              "      <th>water_quality_salty abandoned</th>\n",
              "      <th>water_quality_soft</th>\n",
              "      <th>water_quality_unknown</th>\n",
              "      <th>quantity_dry</th>\n",
              "      <th>quantity_enough</th>\n",
              "      <th>quantity_insufficient</th>\n",
              "      <th>quantity_seasonal</th>\n",
              "      <th>quantity_unknown</th>\n",
              "      <th>source_type_borehole</th>\n",
              "      <th>source_type_dam</th>\n",
              "      <th>source_type_other</th>\n",
              "      <th>source_type_rainwater harvesting</th>\n",
              "      <th>source_type_river/lake</th>\n",
              "      <th>source_type_shallow well</th>\n",
              "      <th>source_type_spring</th>\n",
              "      <th>source_class_groundwater</th>\n",
              "      <th>source_class_surface</th>\n",
              "      <th>source_class_unknown</th>\n",
              "      <th>waterpoint_type_cattle trough</th>\n",
              "      <th>waterpoint_type_communal standpipe</th>\n",
              "      <th>waterpoint_type_communal standpipe multiple</th>\n",
              "      <th>waterpoint_type_dam</th>\n",
              "      <th>waterpoint_type_hand pump</th>\n",
              "      <th>waterpoint_type_improved spring</th>\n",
              "      <th>waterpoint_type_other</th>\n",
              "      <th>waterpoint_type_group_cattle trough</th>\n",
              "      <th>waterpoint_type_group_communal standpipe</th>\n",
              "      <th>waterpoint_type_group_dam</th>\n",
              "      <th>waterpoint_type_group_hand pump</th>\n",
              "      <th>waterpoint_type_group_improved spring</th>\n",
              "      <th>waterpoint_type_group_other</th>\n",
              "    </tr>\n",
              "  </thead>\n",
              "  <tbody>\n",
              "    <tr>\n",
              "      <th>0</th>\n",
              "      <td>0</td>\n",
              "      <td>0.0</td>\n",
              "      <td>1012</td>\n",
              "      <td>769</td>\n",
              "      <td>0</td>\n",
              "      <td>0</td>\n",
              "      <td>0</td>\n",
              "      <td>1</td>\n",
              "      <td>0</td>\n",
              "      <td>0</td>\n",
              "      <td>0</td>\n",
              "      <td>0</td>\n",
              "      <td>0</td>\n",
              "      <td>0</td>\n",
              "      <td>1</td>\n",
              "      <td>0</td>\n",
              "      <td>0</td>\n",
              "      <td>0</td>\n",
              "      <td>0</td>\n",
              "      <td>0</td>\n",
              "      <td>0</td>\n",
              "      <td>0</td>\n",
              "      <td>1</td>\n",
              "      <td>0</td>\n",
              "      <td>0</td>\n",
              "      <td>0</td>\n",
              "      <td>1</td>\n",
              "      <td>0</td>\n",
              "      <td>0</td>\n",
              "      <td>1</td>\n",
              "      <td>0</td>\n",
              "      <td>0</td>\n",
              "      <td>0</td>\n",
              "      <td>0</td>\n",
              "      <td>0</td>\n",
              "      <td>1</td>\n",
              "      <td>0</td>\n",
              "      <td>1</td>\n",
              "      <td>0</td>\n",
              "      <td>0</td>\n",
              "      <td>...</td>\n",
              "      <td>0</td>\n",
              "      <td>0</td>\n",
              "      <td>0</td>\n",
              "      <td>0</td>\n",
              "      <td>0</td>\n",
              "      <td>0</td>\n",
              "      <td>0</td>\n",
              "      <td>0</td>\n",
              "      <td>0</td>\n",
              "      <td>0</td>\n",
              "      <td>1</td>\n",
              "      <td>0</td>\n",
              "      <td>1</td>\n",
              "      <td>0</td>\n",
              "      <td>0</td>\n",
              "      <td>0</td>\n",
              "      <td>0</td>\n",
              "      <td>0</td>\n",
              "      <td>0</td>\n",
              "      <td>0</td>\n",
              "      <td>0</td>\n",
              "      <td>0</td>\n",
              "      <td>0</td>\n",
              "      <td>1</td>\n",
              "      <td>1</td>\n",
              "      <td>0</td>\n",
              "      <td>0</td>\n",
              "      <td>0</td>\n",
              "      <td>1</td>\n",
              "      <td>0</td>\n",
              "      <td>0</td>\n",
              "      <td>0</td>\n",
              "      <td>0</td>\n",
              "      <td>0</td>\n",
              "      <td>0</td>\n",
              "      <td>1</td>\n",
              "      <td>0</td>\n",
              "      <td>0</td>\n",
              "      <td>0</td>\n",
              "      <td>0</td>\n",
              "    </tr>\n",
              "    <tr>\n",
              "      <th>1</th>\n",
              "      <td>1</td>\n",
              "      <td>0.0</td>\n",
              "      <td>961</td>\n",
              "      <td>0</td>\n",
              "      <td>0</td>\n",
              "      <td>0</td>\n",
              "      <td>0</td>\n",
              "      <td>1</td>\n",
              "      <td>0</td>\n",
              "      <td>0</td>\n",
              "      <td>0</td>\n",
              "      <td>0</td>\n",
              "      <td>1</td>\n",
              "      <td>0</td>\n",
              "      <td>0</td>\n",
              "      <td>0</td>\n",
              "      <td>0</td>\n",
              "      <td>0</td>\n",
              "      <td>0</td>\n",
              "      <td>0</td>\n",
              "      <td>0</td>\n",
              "      <td>0</td>\n",
              "      <td>0</td>\n",
              "      <td>0</td>\n",
              "      <td>1</td>\n",
              "      <td>0</td>\n",
              "      <td>1</td>\n",
              "      <td>0</td>\n",
              "      <td>0</td>\n",
              "      <td>1</td>\n",
              "      <td>0</td>\n",
              "      <td>0</td>\n",
              "      <td>0</td>\n",
              "      <td>0</td>\n",
              "      <td>1</td>\n",
              "      <td>0</td>\n",
              "      <td>0</td>\n",
              "      <td>0</td>\n",
              "      <td>0</td>\n",
              "      <td>0</td>\n",
              "      <td>...</td>\n",
              "      <td>0</td>\n",
              "      <td>0</td>\n",
              "      <td>0</td>\n",
              "      <td>0</td>\n",
              "      <td>0</td>\n",
              "      <td>0</td>\n",
              "      <td>0</td>\n",
              "      <td>0</td>\n",
              "      <td>0</td>\n",
              "      <td>0</td>\n",
              "      <td>1</td>\n",
              "      <td>0</td>\n",
              "      <td>0</td>\n",
              "      <td>1</td>\n",
              "      <td>0</td>\n",
              "      <td>0</td>\n",
              "      <td>0</td>\n",
              "      <td>1</td>\n",
              "      <td>0</td>\n",
              "      <td>0</td>\n",
              "      <td>0</td>\n",
              "      <td>0</td>\n",
              "      <td>0</td>\n",
              "      <td>0</td>\n",
              "      <td>1</td>\n",
              "      <td>0</td>\n",
              "      <td>0</td>\n",
              "      <td>0</td>\n",
              "      <td>1</td>\n",
              "      <td>0</td>\n",
              "      <td>0</td>\n",
              "      <td>0</td>\n",
              "      <td>0</td>\n",
              "      <td>0</td>\n",
              "      <td>0</td>\n",
              "      <td>1</td>\n",
              "      <td>0</td>\n",
              "      <td>0</td>\n",
              "      <td>0</td>\n",
              "      <td>0</td>\n",
              "    </tr>\n",
              "    <tr>\n",
              "      <th>2</th>\n",
              "      <td>2</td>\n",
              "      <td>0.0</td>\n",
              "      <td>982</td>\n",
              "      <td>0</td>\n",
              "      <td>0</td>\n",
              "      <td>0</td>\n",
              "      <td>0</td>\n",
              "      <td>1</td>\n",
              "      <td>0</td>\n",
              "      <td>0</td>\n",
              "      <td>0</td>\n",
              "      <td>0</td>\n",
              "      <td>0</td>\n",
              "      <td>0</td>\n",
              "      <td>1</td>\n",
              "      <td>0</td>\n",
              "      <td>0</td>\n",
              "      <td>0</td>\n",
              "      <td>0</td>\n",
              "      <td>0</td>\n",
              "      <td>0</td>\n",
              "      <td>0</td>\n",
              "      <td>1</td>\n",
              "      <td>0</td>\n",
              "      <td>0</td>\n",
              "      <td>0</td>\n",
              "      <td>1</td>\n",
              "      <td>0</td>\n",
              "      <td>0</td>\n",
              "      <td>1</td>\n",
              "      <td>0</td>\n",
              "      <td>0</td>\n",
              "      <td>0</td>\n",
              "      <td>0</td>\n",
              "      <td>0</td>\n",
              "      <td>1</td>\n",
              "      <td>0</td>\n",
              "      <td>0</td>\n",
              "      <td>0</td>\n",
              "      <td>0</td>\n",
              "      <td>...</td>\n",
              "      <td>0</td>\n",
              "      <td>0</td>\n",
              "      <td>0</td>\n",
              "      <td>0</td>\n",
              "      <td>0</td>\n",
              "      <td>0</td>\n",
              "      <td>0</td>\n",
              "      <td>0</td>\n",
              "      <td>0</td>\n",
              "      <td>0</td>\n",
              "      <td>1</td>\n",
              "      <td>0</td>\n",
              "      <td>0</td>\n",
              "      <td>1</td>\n",
              "      <td>0</td>\n",
              "      <td>0</td>\n",
              "      <td>0</td>\n",
              "      <td>0</td>\n",
              "      <td>0</td>\n",
              "      <td>0</td>\n",
              "      <td>0</td>\n",
              "      <td>0</td>\n",
              "      <td>1</td>\n",
              "      <td>0</td>\n",
              "      <td>1</td>\n",
              "      <td>0</td>\n",
              "      <td>0</td>\n",
              "      <td>0</td>\n",
              "      <td>0</td>\n",
              "      <td>0</td>\n",
              "      <td>0</td>\n",
              "      <td>1</td>\n",
              "      <td>0</td>\n",
              "      <td>0</td>\n",
              "      <td>0</td>\n",
              "      <td>0</td>\n",
              "      <td>0</td>\n",
              "      <td>1</td>\n",
              "      <td>0</td>\n",
              "      <td>0</td>\n",
              "    </tr>\n",
              "    <tr>\n",
              "      <th>3</th>\n",
              "      <td>3</td>\n",
              "      <td>0.0</td>\n",
              "      <td>873</td>\n",
              "      <td>0</td>\n",
              "      <td>0</td>\n",
              "      <td>0</td>\n",
              "      <td>0</td>\n",
              "      <td>1</td>\n",
              "      <td>0</td>\n",
              "      <td>0</td>\n",
              "      <td>0</td>\n",
              "      <td>0</td>\n",
              "      <td>0</td>\n",
              "      <td>0</td>\n",
              "      <td>1</td>\n",
              "      <td>0</td>\n",
              "      <td>0</td>\n",
              "      <td>0</td>\n",
              "      <td>0</td>\n",
              "      <td>0</td>\n",
              "      <td>1</td>\n",
              "      <td>0</td>\n",
              "      <td>0</td>\n",
              "      <td>0</td>\n",
              "      <td>0</td>\n",
              "      <td>0</td>\n",
              "      <td>1</td>\n",
              "      <td>0</td>\n",
              "      <td>0</td>\n",
              "      <td>1</td>\n",
              "      <td>0</td>\n",
              "      <td>0</td>\n",
              "      <td>0</td>\n",
              "      <td>0</td>\n",
              "      <td>0</td>\n",
              "      <td>1</td>\n",
              "      <td>0</td>\n",
              "      <td>0</td>\n",
              "      <td>0</td>\n",
              "      <td>0</td>\n",
              "      <td>...</td>\n",
              "      <td>0</td>\n",
              "      <td>0</td>\n",
              "      <td>0</td>\n",
              "      <td>0</td>\n",
              "      <td>0</td>\n",
              "      <td>0</td>\n",
              "      <td>0</td>\n",
              "      <td>0</td>\n",
              "      <td>0</td>\n",
              "      <td>0</td>\n",
              "      <td>1</td>\n",
              "      <td>0</td>\n",
              "      <td>0</td>\n",
              "      <td>1</td>\n",
              "      <td>0</td>\n",
              "      <td>0</td>\n",
              "      <td>0</td>\n",
              "      <td>0</td>\n",
              "      <td>0</td>\n",
              "      <td>0</td>\n",
              "      <td>0</td>\n",
              "      <td>0</td>\n",
              "      <td>1</td>\n",
              "      <td>0</td>\n",
              "      <td>1</td>\n",
              "      <td>0</td>\n",
              "      <td>0</td>\n",
              "      <td>0</td>\n",
              "      <td>0</td>\n",
              "      <td>0</td>\n",
              "      <td>0</td>\n",
              "      <td>1</td>\n",
              "      <td>0</td>\n",
              "      <td>0</td>\n",
              "      <td>0</td>\n",
              "      <td>0</td>\n",
              "      <td>0</td>\n",
              "      <td>1</td>\n",
              "      <td>0</td>\n",
              "      <td>0</td>\n",
              "    </tr>\n",
              "    <tr>\n",
              "      <th>4</th>\n",
              "      <td>4</td>\n",
              "      <td>0.0</td>\n",
              "      <td>856</td>\n",
              "      <td>0</td>\n",
              "      <td>0</td>\n",
              "      <td>0</td>\n",
              "      <td>0</td>\n",
              "      <td>1</td>\n",
              "      <td>0</td>\n",
              "      <td>0</td>\n",
              "      <td>0</td>\n",
              "      <td>0</td>\n",
              "      <td>0</td>\n",
              "      <td>0</td>\n",
              "      <td>1</td>\n",
              "      <td>0</td>\n",
              "      <td>0</td>\n",
              "      <td>0</td>\n",
              "      <td>0</td>\n",
              "      <td>0</td>\n",
              "      <td>1</td>\n",
              "      <td>0</td>\n",
              "      <td>0</td>\n",
              "      <td>0</td>\n",
              "      <td>0</td>\n",
              "      <td>0</td>\n",
              "      <td>1</td>\n",
              "      <td>0</td>\n",
              "      <td>0</td>\n",
              "      <td>1</td>\n",
              "      <td>0</td>\n",
              "      <td>0</td>\n",
              "      <td>0</td>\n",
              "      <td>0</td>\n",
              "      <td>0</td>\n",
              "      <td>1</td>\n",
              "      <td>0</td>\n",
              "      <td>0</td>\n",
              "      <td>0</td>\n",
              "      <td>0</td>\n",
              "      <td>...</td>\n",
              "      <td>0</td>\n",
              "      <td>0</td>\n",
              "      <td>0</td>\n",
              "      <td>0</td>\n",
              "      <td>0</td>\n",
              "      <td>0</td>\n",
              "      <td>0</td>\n",
              "      <td>0</td>\n",
              "      <td>0</td>\n",
              "      <td>0</td>\n",
              "      <td>1</td>\n",
              "      <td>0</td>\n",
              "      <td>0</td>\n",
              "      <td>0</td>\n",
              "      <td>1</td>\n",
              "      <td>0</td>\n",
              "      <td>0</td>\n",
              "      <td>0</td>\n",
              "      <td>0</td>\n",
              "      <td>0</td>\n",
              "      <td>1</td>\n",
              "      <td>0</td>\n",
              "      <td>0</td>\n",
              "      <td>0</td>\n",
              "      <td>0</td>\n",
              "      <td>1</td>\n",
              "      <td>0</td>\n",
              "      <td>0</td>\n",
              "      <td>1</td>\n",
              "      <td>0</td>\n",
              "      <td>0</td>\n",
              "      <td>0</td>\n",
              "      <td>0</td>\n",
              "      <td>0</td>\n",
              "      <td>0</td>\n",
              "      <td>1</td>\n",
              "      <td>0</td>\n",
              "      <td>0</td>\n",
              "      <td>0</td>\n",
              "      <td>0</td>\n",
              "    </tr>\n",
              "  </tbody>\n",
              "</table>\n",
              "<p>5 rows × 94 columns</p>\n",
              "</div>"
            ],
            "text/plain": [
              "   Unnamed: 0  ...  waterpoint_type_group_other\n",
              "0           0  ...                            0\n",
              "1           1  ...                            0\n",
              "2           2  ...                            0\n",
              "3           3  ...                            0\n",
              "4           4  ...                            0\n",
              "\n",
              "[5 rows x 94 columns]"
            ]
          },
          "metadata": {
            "tags": []
          },
          "execution_count": 56
        }
      ]
    },
    {
      "cell_type": "code",
      "metadata": {
        "colab": {
          "base_uri": "https://localhost:8080/",
          "height": 290
        },
        "id": "JC-0qH1E4VbX",
        "outputId": "749d3f1b-3412-4856-ac0c-80b06d92b128"
      },
      "source": [
        "test_df.head()"
      ],
      "execution_count": null,
      "outputs": [
        {
          "output_type": "execute_result",
          "data": {
            "text/html": [
              "<div>\n",
              "<style scoped>\n",
              "    .dataframe tbody tr th:only-of-type {\n",
              "        vertical-align: middle;\n",
              "    }\n",
              "\n",
              "    .dataframe tbody tr th {\n",
              "        vertical-align: top;\n",
              "    }\n",
              "\n",
              "    .dataframe thead th {\n",
              "        text-align: right;\n",
              "    }\n",
              "</style>\n",
              "<table border=\"1\" class=\"dataframe\">\n",
              "  <thead>\n",
              "    <tr style=\"text-align: right;\">\n",
              "      <th></th>\n",
              "      <th>Unnamed: 0</th>\n",
              "      <th>amount_tsh</th>\n",
              "      <th>days_since_recorded</th>\n",
              "      <th>population</th>\n",
              "      <th>funder_danida</th>\n",
              "      <th>funder_gov</th>\n",
              "      <th>funder_hesawa</th>\n",
              "      <th>funder_other</th>\n",
              "      <th>funder_rwssp</th>\n",
              "      <th>funder_world_bank</th>\n",
              "      <th>installer_commu</th>\n",
              "      <th>installer_danida</th>\n",
              "      <th>installer_dwe</th>\n",
              "      <th>installer_gov</th>\n",
              "      <th>installer_other</th>\n",
              "      <th>installer_rwe</th>\n",
              "      <th>basin_Internal</th>\n",
              "      <th>basin_Lake Nyasa</th>\n",
              "      <th>basin_Lake Rukwa</th>\n",
              "      <th>basin_Lake Tanganyika</th>\n",
              "      <th>basin_Lake Victoria</th>\n",
              "      <th>basin_Pangani</th>\n",
              "      <th>basin_Rufiji</th>\n",
              "      <th>basin_Ruvuma / Southern Coast</th>\n",
              "      <th>basin_Wami / Ruvu</th>\n",
              "      <th>public_meeting_False</th>\n",
              "      <th>public_meeting_True</th>\n",
              "      <th>public_meeting_Unknown</th>\n",
              "      <th>scheme_management_other</th>\n",
              "      <th>scheme_management_vwc</th>\n",
              "      <th>scheme_management_wtr_auth</th>\n",
              "      <th>scheme_management_wtr_brd</th>\n",
              "      <th>scheme_management_wua</th>\n",
              "      <th>scheme_management_wug</th>\n",
              "      <th>permit_False</th>\n",
              "      <th>permit_True</th>\n",
              "      <th>permit_Unknown</th>\n",
              "      <th>construction_year_00s</th>\n",
              "      <th>construction_year_10s</th>\n",
              "      <th>construction_year_60s</th>\n",
              "      <th>...</th>\n",
              "      <th>payment_type_on failure</th>\n",
              "      <th>payment_type_other</th>\n",
              "      <th>payment_type_per bucket</th>\n",
              "      <th>payment_type_unknown</th>\n",
              "      <th>water_quality_coloured</th>\n",
              "      <th>water_quality_fluoride</th>\n",
              "      <th>water_quality_fluoride abandoned</th>\n",
              "      <th>water_quality_milky</th>\n",
              "      <th>water_quality_salty</th>\n",
              "      <th>water_quality_salty abandoned</th>\n",
              "      <th>water_quality_soft</th>\n",
              "      <th>water_quality_unknown</th>\n",
              "      <th>quantity_dry</th>\n",
              "      <th>quantity_enough</th>\n",
              "      <th>quantity_insufficient</th>\n",
              "      <th>quantity_seasonal</th>\n",
              "      <th>quantity_unknown</th>\n",
              "      <th>source_type_borehole</th>\n",
              "      <th>source_type_dam</th>\n",
              "      <th>source_type_other</th>\n",
              "      <th>source_type_rainwater harvesting</th>\n",
              "      <th>source_type_river/lake</th>\n",
              "      <th>source_type_shallow well</th>\n",
              "      <th>source_type_spring</th>\n",
              "      <th>source_class_groundwater</th>\n",
              "      <th>source_class_surface</th>\n",
              "      <th>source_class_unknown</th>\n",
              "      <th>waterpoint_type_cattle trough</th>\n",
              "      <th>waterpoint_type_communal standpipe</th>\n",
              "      <th>waterpoint_type_communal standpipe multiple</th>\n",
              "      <th>waterpoint_type_dam</th>\n",
              "      <th>waterpoint_type_hand pump</th>\n",
              "      <th>waterpoint_type_improved spring</th>\n",
              "      <th>waterpoint_type_other</th>\n",
              "      <th>waterpoint_type_group_cattle trough</th>\n",
              "      <th>waterpoint_type_group_communal standpipe</th>\n",
              "      <th>waterpoint_type_group_dam</th>\n",
              "      <th>waterpoint_type_group_hand pump</th>\n",
              "      <th>waterpoint_type_group_improved spring</th>\n",
              "      <th>waterpoint_type_group_other</th>\n",
              "    </tr>\n",
              "  </thead>\n",
              "  <tbody>\n",
              "    <tr>\n",
              "      <th>0</th>\n",
              "      <td>0</td>\n",
              "      <td>0.0</td>\n",
              "      <td>1012</td>\n",
              "      <td>769</td>\n",
              "      <td>0</td>\n",
              "      <td>0</td>\n",
              "      <td>0</td>\n",
              "      <td>1</td>\n",
              "      <td>0</td>\n",
              "      <td>0</td>\n",
              "      <td>0</td>\n",
              "      <td>0</td>\n",
              "      <td>0</td>\n",
              "      <td>0</td>\n",
              "      <td>1</td>\n",
              "      <td>0</td>\n",
              "      <td>0</td>\n",
              "      <td>0</td>\n",
              "      <td>0</td>\n",
              "      <td>0</td>\n",
              "      <td>0</td>\n",
              "      <td>0</td>\n",
              "      <td>1</td>\n",
              "      <td>0</td>\n",
              "      <td>0</td>\n",
              "      <td>0</td>\n",
              "      <td>1</td>\n",
              "      <td>0</td>\n",
              "      <td>0</td>\n",
              "      <td>1</td>\n",
              "      <td>0</td>\n",
              "      <td>0</td>\n",
              "      <td>0</td>\n",
              "      <td>0</td>\n",
              "      <td>0</td>\n",
              "      <td>1</td>\n",
              "      <td>0</td>\n",
              "      <td>1</td>\n",
              "      <td>0</td>\n",
              "      <td>0</td>\n",
              "      <td>...</td>\n",
              "      <td>0</td>\n",
              "      <td>0</td>\n",
              "      <td>0</td>\n",
              "      <td>0</td>\n",
              "      <td>0</td>\n",
              "      <td>0</td>\n",
              "      <td>0</td>\n",
              "      <td>0</td>\n",
              "      <td>0</td>\n",
              "      <td>0</td>\n",
              "      <td>1</td>\n",
              "      <td>0</td>\n",
              "      <td>1</td>\n",
              "      <td>0</td>\n",
              "      <td>0</td>\n",
              "      <td>0</td>\n",
              "      <td>0</td>\n",
              "      <td>0</td>\n",
              "      <td>0</td>\n",
              "      <td>0</td>\n",
              "      <td>0</td>\n",
              "      <td>0</td>\n",
              "      <td>0</td>\n",
              "      <td>1</td>\n",
              "      <td>1</td>\n",
              "      <td>0</td>\n",
              "      <td>0</td>\n",
              "      <td>0</td>\n",
              "      <td>1</td>\n",
              "      <td>0</td>\n",
              "      <td>0</td>\n",
              "      <td>0</td>\n",
              "      <td>0</td>\n",
              "      <td>0</td>\n",
              "      <td>0</td>\n",
              "      <td>1</td>\n",
              "      <td>0</td>\n",
              "      <td>0</td>\n",
              "      <td>0</td>\n",
              "      <td>0</td>\n",
              "    </tr>\n",
              "    <tr>\n",
              "      <th>1</th>\n",
              "      <td>1</td>\n",
              "      <td>0.0</td>\n",
              "      <td>961</td>\n",
              "      <td>0</td>\n",
              "      <td>0</td>\n",
              "      <td>0</td>\n",
              "      <td>0</td>\n",
              "      <td>1</td>\n",
              "      <td>0</td>\n",
              "      <td>0</td>\n",
              "      <td>0</td>\n",
              "      <td>0</td>\n",
              "      <td>1</td>\n",
              "      <td>0</td>\n",
              "      <td>0</td>\n",
              "      <td>0</td>\n",
              "      <td>0</td>\n",
              "      <td>0</td>\n",
              "      <td>0</td>\n",
              "      <td>0</td>\n",
              "      <td>0</td>\n",
              "      <td>0</td>\n",
              "      <td>0</td>\n",
              "      <td>0</td>\n",
              "      <td>1</td>\n",
              "      <td>0</td>\n",
              "      <td>1</td>\n",
              "      <td>0</td>\n",
              "      <td>0</td>\n",
              "      <td>1</td>\n",
              "      <td>0</td>\n",
              "      <td>0</td>\n",
              "      <td>0</td>\n",
              "      <td>0</td>\n",
              "      <td>1</td>\n",
              "      <td>0</td>\n",
              "      <td>0</td>\n",
              "      <td>0</td>\n",
              "      <td>0</td>\n",
              "      <td>0</td>\n",
              "      <td>...</td>\n",
              "      <td>0</td>\n",
              "      <td>0</td>\n",
              "      <td>0</td>\n",
              "      <td>0</td>\n",
              "      <td>0</td>\n",
              "      <td>0</td>\n",
              "      <td>0</td>\n",
              "      <td>0</td>\n",
              "      <td>0</td>\n",
              "      <td>0</td>\n",
              "      <td>1</td>\n",
              "      <td>0</td>\n",
              "      <td>0</td>\n",
              "      <td>1</td>\n",
              "      <td>0</td>\n",
              "      <td>0</td>\n",
              "      <td>0</td>\n",
              "      <td>1</td>\n",
              "      <td>0</td>\n",
              "      <td>0</td>\n",
              "      <td>0</td>\n",
              "      <td>0</td>\n",
              "      <td>0</td>\n",
              "      <td>0</td>\n",
              "      <td>1</td>\n",
              "      <td>0</td>\n",
              "      <td>0</td>\n",
              "      <td>0</td>\n",
              "      <td>1</td>\n",
              "      <td>0</td>\n",
              "      <td>0</td>\n",
              "      <td>0</td>\n",
              "      <td>0</td>\n",
              "      <td>0</td>\n",
              "      <td>0</td>\n",
              "      <td>1</td>\n",
              "      <td>0</td>\n",
              "      <td>0</td>\n",
              "      <td>0</td>\n",
              "      <td>0</td>\n",
              "    </tr>\n",
              "    <tr>\n",
              "      <th>2</th>\n",
              "      <td>2</td>\n",
              "      <td>0.0</td>\n",
              "      <td>982</td>\n",
              "      <td>0</td>\n",
              "      <td>0</td>\n",
              "      <td>0</td>\n",
              "      <td>0</td>\n",
              "      <td>1</td>\n",
              "      <td>0</td>\n",
              "      <td>0</td>\n",
              "      <td>0</td>\n",
              "      <td>0</td>\n",
              "      <td>0</td>\n",
              "      <td>0</td>\n",
              "      <td>1</td>\n",
              "      <td>0</td>\n",
              "      <td>0</td>\n",
              "      <td>0</td>\n",
              "      <td>0</td>\n",
              "      <td>0</td>\n",
              "      <td>0</td>\n",
              "      <td>0</td>\n",
              "      <td>1</td>\n",
              "      <td>0</td>\n",
              "      <td>0</td>\n",
              "      <td>0</td>\n",
              "      <td>1</td>\n",
              "      <td>0</td>\n",
              "      <td>0</td>\n",
              "      <td>1</td>\n",
              "      <td>0</td>\n",
              "      <td>0</td>\n",
              "      <td>0</td>\n",
              "      <td>0</td>\n",
              "      <td>0</td>\n",
              "      <td>1</td>\n",
              "      <td>0</td>\n",
              "      <td>0</td>\n",
              "      <td>0</td>\n",
              "      <td>0</td>\n",
              "      <td>...</td>\n",
              "      <td>0</td>\n",
              "      <td>0</td>\n",
              "      <td>0</td>\n",
              "      <td>0</td>\n",
              "      <td>0</td>\n",
              "      <td>0</td>\n",
              "      <td>0</td>\n",
              "      <td>0</td>\n",
              "      <td>0</td>\n",
              "      <td>0</td>\n",
              "      <td>1</td>\n",
              "      <td>0</td>\n",
              "      <td>0</td>\n",
              "      <td>1</td>\n",
              "      <td>0</td>\n",
              "      <td>0</td>\n",
              "      <td>0</td>\n",
              "      <td>0</td>\n",
              "      <td>0</td>\n",
              "      <td>0</td>\n",
              "      <td>0</td>\n",
              "      <td>0</td>\n",
              "      <td>1</td>\n",
              "      <td>0</td>\n",
              "      <td>1</td>\n",
              "      <td>0</td>\n",
              "      <td>0</td>\n",
              "      <td>0</td>\n",
              "      <td>0</td>\n",
              "      <td>0</td>\n",
              "      <td>0</td>\n",
              "      <td>1</td>\n",
              "      <td>0</td>\n",
              "      <td>0</td>\n",
              "      <td>0</td>\n",
              "      <td>0</td>\n",
              "      <td>0</td>\n",
              "      <td>1</td>\n",
              "      <td>0</td>\n",
              "      <td>0</td>\n",
              "    </tr>\n",
              "    <tr>\n",
              "      <th>3</th>\n",
              "      <td>3</td>\n",
              "      <td>0.0</td>\n",
              "      <td>873</td>\n",
              "      <td>0</td>\n",
              "      <td>0</td>\n",
              "      <td>0</td>\n",
              "      <td>0</td>\n",
              "      <td>1</td>\n",
              "      <td>0</td>\n",
              "      <td>0</td>\n",
              "      <td>0</td>\n",
              "      <td>0</td>\n",
              "      <td>0</td>\n",
              "      <td>0</td>\n",
              "      <td>1</td>\n",
              "      <td>0</td>\n",
              "      <td>0</td>\n",
              "      <td>0</td>\n",
              "      <td>0</td>\n",
              "      <td>0</td>\n",
              "      <td>1</td>\n",
              "      <td>0</td>\n",
              "      <td>0</td>\n",
              "      <td>0</td>\n",
              "      <td>0</td>\n",
              "      <td>0</td>\n",
              "      <td>1</td>\n",
              "      <td>0</td>\n",
              "      <td>0</td>\n",
              "      <td>1</td>\n",
              "      <td>0</td>\n",
              "      <td>0</td>\n",
              "      <td>0</td>\n",
              "      <td>0</td>\n",
              "      <td>0</td>\n",
              "      <td>1</td>\n",
              "      <td>0</td>\n",
              "      <td>0</td>\n",
              "      <td>0</td>\n",
              "      <td>0</td>\n",
              "      <td>...</td>\n",
              "      <td>0</td>\n",
              "      <td>0</td>\n",
              "      <td>0</td>\n",
              "      <td>0</td>\n",
              "      <td>0</td>\n",
              "      <td>0</td>\n",
              "      <td>0</td>\n",
              "      <td>0</td>\n",
              "      <td>0</td>\n",
              "      <td>0</td>\n",
              "      <td>1</td>\n",
              "      <td>0</td>\n",
              "      <td>0</td>\n",
              "      <td>1</td>\n",
              "      <td>0</td>\n",
              "      <td>0</td>\n",
              "      <td>0</td>\n",
              "      <td>0</td>\n",
              "      <td>0</td>\n",
              "      <td>0</td>\n",
              "      <td>0</td>\n",
              "      <td>0</td>\n",
              "      <td>1</td>\n",
              "      <td>0</td>\n",
              "      <td>1</td>\n",
              "      <td>0</td>\n",
              "      <td>0</td>\n",
              "      <td>0</td>\n",
              "      <td>0</td>\n",
              "      <td>0</td>\n",
              "      <td>0</td>\n",
              "      <td>1</td>\n",
              "      <td>0</td>\n",
              "      <td>0</td>\n",
              "      <td>0</td>\n",
              "      <td>0</td>\n",
              "      <td>0</td>\n",
              "      <td>1</td>\n",
              "      <td>0</td>\n",
              "      <td>0</td>\n",
              "    </tr>\n",
              "    <tr>\n",
              "      <th>4</th>\n",
              "      <td>4</td>\n",
              "      <td>0.0</td>\n",
              "      <td>856</td>\n",
              "      <td>0</td>\n",
              "      <td>0</td>\n",
              "      <td>0</td>\n",
              "      <td>0</td>\n",
              "      <td>1</td>\n",
              "      <td>0</td>\n",
              "      <td>0</td>\n",
              "      <td>0</td>\n",
              "      <td>0</td>\n",
              "      <td>0</td>\n",
              "      <td>0</td>\n",
              "      <td>1</td>\n",
              "      <td>0</td>\n",
              "      <td>0</td>\n",
              "      <td>0</td>\n",
              "      <td>0</td>\n",
              "      <td>0</td>\n",
              "      <td>1</td>\n",
              "      <td>0</td>\n",
              "      <td>0</td>\n",
              "      <td>0</td>\n",
              "      <td>0</td>\n",
              "      <td>0</td>\n",
              "      <td>1</td>\n",
              "      <td>0</td>\n",
              "      <td>0</td>\n",
              "      <td>1</td>\n",
              "      <td>0</td>\n",
              "      <td>0</td>\n",
              "      <td>0</td>\n",
              "      <td>0</td>\n",
              "      <td>0</td>\n",
              "      <td>1</td>\n",
              "      <td>0</td>\n",
              "      <td>0</td>\n",
              "      <td>0</td>\n",
              "      <td>0</td>\n",
              "      <td>...</td>\n",
              "      <td>0</td>\n",
              "      <td>0</td>\n",
              "      <td>0</td>\n",
              "      <td>0</td>\n",
              "      <td>0</td>\n",
              "      <td>0</td>\n",
              "      <td>0</td>\n",
              "      <td>0</td>\n",
              "      <td>0</td>\n",
              "      <td>0</td>\n",
              "      <td>1</td>\n",
              "      <td>0</td>\n",
              "      <td>0</td>\n",
              "      <td>0</td>\n",
              "      <td>1</td>\n",
              "      <td>0</td>\n",
              "      <td>0</td>\n",
              "      <td>0</td>\n",
              "      <td>0</td>\n",
              "      <td>0</td>\n",
              "      <td>1</td>\n",
              "      <td>0</td>\n",
              "      <td>0</td>\n",
              "      <td>0</td>\n",
              "      <td>0</td>\n",
              "      <td>1</td>\n",
              "      <td>0</td>\n",
              "      <td>0</td>\n",
              "      <td>1</td>\n",
              "      <td>0</td>\n",
              "      <td>0</td>\n",
              "      <td>0</td>\n",
              "      <td>0</td>\n",
              "      <td>0</td>\n",
              "      <td>0</td>\n",
              "      <td>1</td>\n",
              "      <td>0</td>\n",
              "      <td>0</td>\n",
              "      <td>0</td>\n",
              "      <td>0</td>\n",
              "    </tr>\n",
              "  </tbody>\n",
              "</table>\n",
              "<p>5 rows × 94 columns</p>\n",
              "</div>"
            ],
            "text/plain": [
              "   Unnamed: 0  ...  waterpoint_type_group_other\n",
              "0           0  ...                            0\n",
              "1           1  ...                            0\n",
              "2           2  ...                            0\n",
              "3           3  ...                            0\n",
              "4           4  ...                            0\n",
              "\n",
              "[5 rows x 94 columns]"
            ]
          },
          "metadata": {
            "tags": []
          },
          "execution_count": 57
        }
      ]
    },
    {
      "cell_type": "code",
      "metadata": {
        "id": "EgVXfMvg3t-U"
      },
      "source": [
        "# Let's split the train set into train and validation sets. Also remove the target.\n",
        "\n",
        "target = train_df.status_group\n",
        "features = train_df.drop('status_group', axis=1)\n",
        "\n",
        "X_train, X_val, y_train, y_val = train_test_split(features, target, train_size=0.8)"
      ],
      "execution_count": null,
      "outputs": []
    },
    {
      "cell_type": "code",
      "metadata": {
        "id": "xHXPwB6TyPeD"
      },
      "source": [
        "#found from random forrest classifier\n",
        "major_features = ['amount_tsh','days_since_recorded','population','funder_gov',\n",
        "                  'funder_other','installer_dwe','installer_other','scheme_management_vwc',\n",
        "                  'permit_False','permit_True','construction_year_00s','construction_year_10s',\n",
        "                  'construction_year_70s','extraction_type_class_gravity','extraction_type_class_other',\n",
        "                  'payment_type_never pay','quantity_dry','quantity_enough','quantity_insufficient',\n",
        "                  'waterpoint_type_communal standpipe','waterpoint_type_communal standpipe multiple',\n",
        "                  'waterpoint_type_other','waterpoint_type_group_other']"
      ],
      "execution_count": null,
      "outputs": []
    },
    {
      "cell_type": "code",
      "metadata": {
        "id": "0I1TftEsy768"
      },
      "source": [
        "new_X_train = X_train[major_features]\n",
        "new_X_val = X_val[major_features]"
      ],
      "execution_count": null,
      "outputs": []
    },
    {
      "cell_type": "markdown",
      "metadata": {
        "id": "3PHYLzIJ-hN6"
      },
      "source": [
        "## Gradient Boosting"
      ]
    },
    {
      "cell_type": "code",
      "metadata": {
        "id": "PUM1bYh-vWea"
      },
      "source": [
        "def modelGB(X_train, X_val, y_train, y_val, test):\n",
        "  if __name__ == '__main__':\n",
        "   \n",
        "\n",
        "    param_grid = {'learning_rate': [0.075,0.07],'max_depth': [6,7],'min_samples_leaf': [7,8],\n",
        "                  'max_features': [1.0],'n_estimators':[100, 200]}  \n",
        "\n",
        "    estimator = GridSearchCV(estimator=GradientBoostingClassifier(),param_grid=param_grid,n_jobs=-1)\n",
        "\n",
        "    estimator.fit(X_train, y_train)\n",
        "\n",
        "    best_params = estimator.best_params_\n",
        "                              \n",
        "    validation_accuracy = estimator.score(X_val, y_val)\n",
        "    print('Validation accuracy: ', validation_accuracy)\n",
        "    print(best_params)"
      ],
      "execution_count": null,
      "outputs": []
    },
    {
      "cell_type": "code",
      "metadata": {
        "colab": {
          "base_uri": "https://localhost:8080/"
        },
        "id": "KsDLBeavwDo-",
        "outputId": "1c8c2201-d88d-4cd2-d10f-a90b5c37746e"
      },
      "source": [
        "#used reduced set of features as it was taking lot of time to compute\n",
        "modelGB(new_X_train, new_X_val, y_train, y_val, test_df)"
      ],
      "execution_count": null,
      "outputs": [
        {
          "output_type": "stream",
          "text": [
            "Validation accuracy:  0.7734006734006734\n",
            "{'learning_rate': 0.075, 'max_depth': 7, 'max_features': 1.0, 'min_samples_leaf': 7, 'n_estimators': 200}\n"
          ],
          "name": "stdout"
        }
      ]
    },
    {
      "cell_type": "markdown",
      "metadata": {
        "id": "pRJHz1Nx7FnH"
      },
      "source": [
        "    Validation accuracy:  0.7734006734006734\n",
        "    {'learning_rate': 0.075, 'max_depth': 7, 'max_features': 1.0, 'min_samples_leaf': 7, 'n_estimators': 200}"
      ]
    },
    {
      "cell_type": "code",
      "metadata": {
        "id": "J1a9qmB9wFlE"
      },
      "source": [
        "def predictGB(features, target, test):\n",
        "  if __name__ == '__main__':\n",
        "\n",
        "    param_grid = {'learning_rate': [0.075],'max_depth': [7],'min_samples_leaf': [7],\n",
        "                  'max_features': [1.0],'n_estimators':[200]}  \n",
        "    estimator = GridSearchCV(estimator=GradientBoostingClassifier(),param_grid=param_grid)\n",
        "    estimator.fit(features, target)        \n",
        "\n",
        "    predictions = estimator.predict(test)\n",
        "    data = { 'status_group': predictions}\n",
        "\n",
        "    result = pd.DataFrame(data=data)\n",
        "\n",
        "    vals_to_replace = {2:'functional', 1:'functional needs repair', 0:'non functional'}\n",
        "    result.status_group = result.status_group.replace(vals_to_replace)        \n",
        "\n",
        "    result.to_csv('pump_predictions_GB.csv', index=False)"
      ],
      "execution_count": null,
      "outputs": []
    },
    {
      "cell_type": "code",
      "metadata": {
        "id": "HkA-TZLzwZDq"
      },
      "source": [
        "# Run model for prediction\n",
        "\n",
        "predictGB(features, target, test_df)\n"
      ],
      "execution_count": null,
      "outputs": []
    },
    {
      "cell_type": "markdown",
      "metadata": {
        "id": "9wLdDB90THwc"
      },
      "source": [
        "## Linear SVC"
      ]
    },
    {
      "cell_type": "markdown",
      "metadata": {
        "id": "kkbYzk9r5dk7"
      },
      "source": [
        "Both the train and test set are ready for modelling. Start off with a Linear Support Vector Classification.\n",
        "\n",
        "Ref Link: http://scikit-learn.org/stable/modules/generated/sklearn.svm.LinearSVC.html"
      ]
    },
    {
      "cell_type": "code",
      "metadata": {
        "id": "_jkmF3VbDYkg"
      },
      "source": [
        "def modelSVC(X_train, X_val, y_train, y_val, test):\n",
        "  if __name__ == '__main__':\n",
        "\n",
        "    pipe = Pipeline([('scl', StandardScaler()), ('clf', LinearSVC())])\n",
        "\n",
        "    param_grid = {'clf__C':[0.01, 0.1],'clf__class_weight':[None,'balanced']}\n",
        "\n",
        "    estimator = GridSearchCV(estimator=pipe,param_grid=param_grid,n_jobs=-1)\n",
        "\n",
        "    estimator.fit(X_train, y_train)\n",
        "\n",
        "    best_params = estimator.best_params_\n",
        "                              \n",
        "    validation_accuracy = estimator.score(X_val, y_val)\n",
        "    print('Validation accuracy: ', validation_accuracy)\n",
        "    print(best_params)"
      ],
      "execution_count": null,
      "outputs": []
    },
    {
      "cell_type": "code",
      "metadata": {
        "colab": {
          "base_uri": "https://localhost:8080/"
        },
        "id": "Xd_qSTAlDYkh",
        "outputId": "4d1b2519-c083-470c-a75d-2b47846e1827"
      },
      "source": [
        "modelSVC(X_train, X_val, y_train, y_val, test_df)"
      ],
      "execution_count": null,
      "outputs": [
        {
          "output_type": "stream",
          "text": [
            "Validation accuracy:  0.7306397306397306\n",
            "{'clf__C': 0.01, 'clf__class_weight': None}\n"
          ],
          "name": "stdout"
        },
        {
          "output_type": "stream",
          "text": [
            "/usr/local/lib/python3.7/dist-packages/sklearn/svm/_base.py:947: ConvergenceWarning: Liblinear failed to converge, increase the number of iterations.\n",
            "  \"the number of iterations.\", ConvergenceWarning)\n"
          ],
          "name": "stderr"
        }
      ]
    },
    {
      "cell_type": "markdown",
      "metadata": {
        "id": "xlEDuZ7yDYki"
      },
      "source": [
        "    Validation accuracy:  0.7306397306397306\n",
        "    {'clf__C': 0.01, 'clf__class_weight': None}"
      ]
    },
    {
      "cell_type": "code",
      "metadata": {
        "id": "K86PQEABDYki"
      },
      "source": [
        "def predictSVC(features, target, test):\n",
        "  if __name__ == '__main__':\n",
        "\n",
        "    pipe = Pipeline([('scl', StandardScaler()), ('clf', LinearSVC())])\n",
        "\n",
        "    param_grid = {'clf__C':[0.01],'clf__class_weight':[None]}\n",
        "\n",
        "    estimator = GridSearchCV(estimator=pipe,param_grid=param_grid)\n",
        "\n",
        "    estimator.fit(features, target)        \n",
        "\n",
        "    predictions = estimator.predict(test)\n",
        "    data = { 'status_group': predictions}\n",
        "\n",
        "    result = pd.DataFrame(data=data)\n",
        "\n",
        "    vals_to_replace = {2:'functional', 1:'functional needs repair', 0:'non functional'}\n",
        "    result.status_group = result.status_group.replace(vals_to_replace)        \n",
        "\n",
        "    result.to_csv('pump_predictions.csv', index=False)"
      ],
      "execution_count": null,
      "outputs": []
    },
    {
      "cell_type": "code",
      "metadata": {
        "colab": {
          "base_uri": "https://localhost:8080/"
        },
        "id": "2IcqaegADYki",
        "outputId": "e164de59-5bcb-40ec-f242-c6c9524b3f3b"
      },
      "source": [
        "# Run model for prediction\n",
        "\n",
        "predictSVC(features, target, test_df)\n",
        "\n"
      ],
      "execution_count": null,
      "outputs": [
        {
          "output_type": "stream",
          "text": [
            "/usr/local/lib/python3.7/dist-packages/sklearn/svm/_base.py:947: ConvergenceWarning: Liblinear failed to converge, increase the number of iterations.\n",
            "  \"the number of iterations.\", ConvergenceWarning)\n",
            "/usr/local/lib/python3.7/dist-packages/sklearn/svm/_base.py:947: ConvergenceWarning: Liblinear failed to converge, increase the number of iterations.\n",
            "  \"the number of iterations.\", ConvergenceWarning)\n",
            "/usr/local/lib/python3.7/dist-packages/sklearn/svm/_base.py:947: ConvergenceWarning: Liblinear failed to converge, increase the number of iterations.\n",
            "  \"the number of iterations.\", ConvergenceWarning)\n",
            "/usr/local/lib/python3.7/dist-packages/sklearn/svm/_base.py:947: ConvergenceWarning: Liblinear failed to converge, increase the number of iterations.\n",
            "  \"the number of iterations.\", ConvergenceWarning)\n",
            "/usr/local/lib/python3.7/dist-packages/sklearn/svm/_base.py:947: ConvergenceWarning: Liblinear failed to converge, increase the number of iterations.\n",
            "  \"the number of iterations.\", ConvergenceWarning)\n",
            "/usr/local/lib/python3.7/dist-packages/sklearn/svm/_base.py:947: ConvergenceWarning: Liblinear failed to converge, increase the number of iterations.\n",
            "  \"the number of iterations.\", ConvergenceWarning)\n"
          ],
          "name": "stderr"
        }
      ]
    },
    {
      "cell_type": "markdown",
      "metadata": {
        "id": "LSdne2tiTLtG"
      },
      "source": [
        "## Bagging"
      ]
    },
    {
      "cell_type": "code",
      "metadata": {
        "id": "diVAO86CNKTV"
      },
      "source": [
        "def modelBagging(X_train, X_val, y_train, y_val, test):\n",
        "  if __name__ == '__main__':\n",
        "\n",
        "    param_grid = {'n_estimators':[50,100,150],'max_samples':[1,5,10]}\n",
        "\n",
        "    estimator = GridSearchCV(estimator=BaggingClassifier(),param_grid=param_grid)\n",
        "\n",
        "    estimator.fit(X_train, y_train)\n",
        "\n",
        "    best_params = estimator.best_params_\n",
        "                              \n",
        "    validation_accuracy = estimator.score(X_val, y_val)\n",
        "    print('Validation accuracy: ', validation_accuracy)\n",
        "    print(best_params)"
      ],
      "execution_count": null,
      "outputs": []
    },
    {
      "cell_type": "code",
      "metadata": {
        "colab": {
          "base_uri": "https://localhost:8080/"
        },
        "id": "ftVhl-3iNsda",
        "outputId": "dac615b9-05a6-4b20-9e59-53fe47e2e81a"
      },
      "source": [
        "modelBagging(X_train, X_val, y_train, y_val,test_df)"
      ],
      "execution_count": null,
      "outputs": [
        {
          "output_type": "stream",
          "text": [
            "Validation accuracy:  0.6668911335578003\n",
            "{'max_samples': 10, 'n_estimators': 100}\n"
          ],
          "name": "stdout"
        }
      ]
    },
    {
      "cell_type": "markdown",
      "metadata": {
        "id": "lpbTJnUkPkZ6"
      },
      "source": [
        "    Validation accuracy:  0.6515151515151515\n",
        "    {'max_samples': 10, 'n_estimators': 150}"
      ]
    },
    {
      "cell_type": "code",
      "metadata": {
        "id": "kr0-nHHJANBe"
      },
      "source": [
        "def predictBagging(features, target, test):\n",
        "  if __name__ == '__main__':\n",
        "\n",
        "    param_grid = {'n_estimators': [150],'max_samples': [10]}\n",
        "\n",
        "    estimator = GridSearchCV(estimator=BaggingClassifier(),param_grid=param_grid,n_jobs=-1)\n",
        "    estimator.fit(features, target)        \n",
        "\n",
        "    predictions = estimator.predict(test)\n",
        "    data = { 'status_group': predictions}\n",
        "\n",
        "    result = pd.DataFrame(data=data)\n",
        "\n",
        "    vals_to_replace = {2:'functional', 1:'functional needs repair', 0:'non functional'}\n",
        "    result.status_group = result.status_group.replace(vals_to_replace)        \n",
        "\n",
        "    result.to_csv('pump_predictions.csv', index=False)"
      ],
      "execution_count": null,
      "outputs": []
    },
    {
      "cell_type": "code",
      "metadata": {
        "id": "edyAvK1rBhKn"
      },
      "source": [
        "# Run model for prediction\n",
        "\n",
        "predictBagging(features, target, test_df)\n",
        "\n"
      ],
      "execution_count": null,
      "outputs": []
    },
    {
      "cell_type": "markdown",
      "metadata": {
        "id": "VQku5nzVTPKG"
      },
      "source": [
        "## Decision Tree"
      ]
    },
    {
      "cell_type": "code",
      "metadata": {
        "id": "ZDOL-K2_Q-ch"
      },
      "source": [
        "def modelDT(X_train, X_val, y_train, y_val, test):\n",
        "  if __name__ == '__main__':\n",
        "  \n",
        "    param_grid = {'max_depth':[1,5,10,20,30]}                      \n",
        "\n",
        "    estimator = GridSearchCV(estimator=DecisionTreeClassifier(),param_grid=param_grid, n_jobs=-1)\n",
        "\n",
        "    estimator.fit(X_train, y_train)\n",
        "\n",
        "    best_params = estimator.best_params_\n",
        "\n",
        "    print (best_params)\n",
        "                              \n",
        "    validation_accuracy = estimator.score(X_val, y_val)\n",
        "    print('Validation accuracy: ', validation_accuracy)"
      ],
      "execution_count": null,
      "outputs": []
    },
    {
      "cell_type": "code",
      "metadata": {
        "colab": {
          "base_uri": "https://localhost:8080/"
        },
        "id": "HmSKH28JRw08",
        "outputId": "10d9f8fb-5423-43bd-8815-818a71f7d363"
      },
      "source": [
        "modelDT(X_train, X_val, y_train, y_val, test_df)"
      ],
      "execution_count": null,
      "outputs": [
        {
          "output_type": "stream",
          "text": [
            "{'max_depth': 20}\n",
            "Validation accuracy:  0.7594837261503928\n"
          ],
          "name": "stdout"
        }
      ]
    },
    {
      "cell_type": "code",
      "metadata": {
        "id": "zhGVWu5PR1UV"
      },
      "source": [
        "def predictDT(features, target, test):\n",
        "  if __name__ == '__main__':\n",
        "\n",
        "    best_params = {'max_depth':[20]}                      \n",
        "\n",
        "    estimator = GridSearchCV(estimator=DecisionTreeClassifier(),param_grid=best_params,n_jobs=-1)\n",
        "    estimator.fit(features, target)     \n",
        "\n",
        "    predictions = estimator.predict(test)\n",
        "\n",
        "    data = {'status_group': predictions}\n",
        "    result = pd.DataFrame(data=data)\n",
        "    vals_to_replace = {2:'functional', 1:'functional needs repair',\n",
        "                      0:'non functional'}\n",
        "    result.status_group = result.status_group.replace(vals_to_replace)        \n",
        "    result.to_csv('pump_predictions.csv', index=False)"
      ],
      "execution_count": null,
      "outputs": []
    },
    {
      "cell_type": "code",
      "metadata": {
        "id": "VzUc9ce8ZvWT"
      },
      "source": [
        "# Run model for prediction\n",
        "\n",
        "predictDT(features, target, test_df)\n",
        "\n"
      ],
      "execution_count": null,
      "outputs": []
    },
    {
      "cell_type": "markdown",
      "metadata": {
        "id": "sDYrg3Xhov6C"
      },
      "source": [
        "# Feature Selection"
      ]
    },
    {
      "cell_type": "markdown",
      "metadata": {
        "id": "FHArLntxuNau"
      },
      "source": [
        "Here we are using Random Forest Classifier to identify relative feature importance"
      ]
    },
    {
      "cell_type": "code",
      "metadata": {
        "colab": {
          "base_uri": "https://localhost:8080/"
        },
        "id": "lhZTPyZLuK-J",
        "outputId": "8be4ae16-cb54-41ad-9a3b-25599d724497"
      },
      "source": [
        "estimator = RandomForestClassifier(n_estimators=1000, min_samples_split=6,\n",
        "                                    criterion='gini', max_features='auto', oob_score=True,random_state=1,n_jobs=-1)\n",
        "estimator.fit(X_train, y_train)\n",
        "\n",
        "training_accuracy = estimator.score(X_train, y_train)   \n",
        "print('Training accuracy: ', training_accuracy)                          \n",
        "validation_accuracy = estimator.score(X_val, y_val)\n",
        "print('Validation accuracy: ', validation_accuracy)"
      ],
      "execution_count": null,
      "outputs": [
        {
          "output_type": "stream",
          "text": [
            "Training accuracy:  0.8970819304152637\n",
            "Validation accuracy:  0.7950617283950617\n"
          ],
          "name": "stdout"
        }
      ]
    },
    {
      "cell_type": "code",
      "metadata": {
        "colab": {
          "base_uri": "https://localhost:8080/"
        },
        "id": "j9_cgCPFjyrz",
        "outputId": "73461ee4-ac53-45fb-a2e8-a46785e14bbe"
      },
      "source": [
        "print(estimator.feature_importances_)"
      ],
      "execution_count": null,
      "outputs": [
        {
          "output_type": "stream",
          "text": [
            "[3.47055073e-02 1.42967611e-01 2.53851206e-03 7.00456024e-02\n",
            " 3.49063449e-03 1.00223983e-02 3.33187094e-03 1.23686725e-02\n",
            " 2.25989387e-03 3.09421703e-03 1.47579681e-03 1.09861254e-03\n",
            " 1.25910642e-02 4.14329957e-03 1.16705396e-02 3.90600690e-03\n",
            " 9.48857234e-03 5.98554642e-03 5.28654789e-03 8.37169621e-03\n",
            " 9.12959533e-03 7.46239248e-03 6.96953378e-03 6.44732317e-03\n",
            " 6.66653798e-03 7.44153374e-03 8.61178502e-03 4.11375247e-03\n",
            " 9.86667338e-03 1.23237480e-02 5.44035120e-03 3.75230611e-03\n",
            " 3.79006806e-03 6.36384635e-03 1.10670305e-02 1.13703437e-02\n",
            " 4.26301517e-03 1.23060255e-02 1.05085252e-02 1.63929339e-03\n",
            " 1.01508587e-02 8.62322393e-03 8.05799941e-03 8.41103445e-03\n",
            " 1.16757380e-02 8.13944022e-03 4.43587897e-03 2.77140891e-02\n",
            " 1.31701798e-03 6.57737233e-03 3.51628330e-04 4.58368281e-03\n",
            " 7.90945410e-03 1.71802344e-02 4.78892281e-03 1.65837254e-03\n",
            " 8.46866690e-03 8.57858238e-03 1.59680699e-03 7.18465197e-04\n",
            " 2.07224969e-05 1.82544402e-03 5.56440330e-03 1.49392296e-03\n",
            " 9.03825772e-03 7.65883039e-03 1.03165330e-01 3.61137490e-02\n",
            " 1.95745552e-02 9.10249867e-03 2.62065624e-03 8.73615788e-03\n",
            " 2.11914334e-03 6.35984199e-04 4.68208022e-03 5.66767169e-03\n",
            " 7.70519577e-03 9.05497319e-03 6.09955184e-03 6.10437679e-03\n",
            " 6.36631407e-04 2.60162277e-04 1.23797977e-02 1.12374236e-02\n",
            " 2.85941108e-05 5.38467148e-03 1.62112275e-03 2.88441913e-02\n",
            " 2.46969603e-04 5.42452391e-03 3.24260969e-05 6.10827736e-03\n",
            " 1.53162619e-03 2.99663254e-02]\n"
          ],
          "name": "stdout"
        }
      ]
    },
    {
      "cell_type": "code",
      "metadata": {
        "colab": {
          "base_uri": "https://localhost:8080/",
          "height": 1000
        },
        "id": "HUsKRUEMj_Zt",
        "outputId": "ad3cd7e4-0ac1-4f61-819e-9d9560a9f16d"
      },
      "source": [
        "importance = estimator.feature_importances_\n",
        "importance = pd.DataFrame(importance, index=X_train.columns, columns=[\"Importance\"])\n",
        "\n",
        "importance[\"Std\"] = np.std([tree.feature_importances_ for tree in estimator.estimators_], axis=0)\n",
        "\n",
        "x = range(importance.shape[0])\n",
        "y = importance.iloc[:, 0]\n",
        "yerr = importance.iloc[:, 1]\n",
        "lables = list(train_df.columns.values)\n",
        "\n",
        "\n",
        "plt.figure(figsize=(20,20))\n",
        "ax = plt.bar(x, y, yerr=yerr ,align=\"center\")\n",
        "plt.xlabel('Features', fontsize = 12)\n",
        "plt.ylabel('Importance', fontsize = 12)\n",
        "\n",
        "#plt.show()"
      ],
      "execution_count": null,
      "outputs": [
        {
          "output_type": "execute_result",
          "data": {
            "text/plain": [
              "Text(0, 0.5, 'Importance')"
            ]
          },
          "metadata": {
            "tags": []
          },
          "execution_count": 29
        },
        {
          "output_type": "display_data",
          "data": {
            "image/png": "[encoded data removed]",
            "text/plain": [
              "<Figure size 1440x1440 with 1 Axes>"
            ]
          },
          "metadata": {
            "tags": [],
            "needs_background": "light"
          }
        }
      ]
    },
    {
      "cell_type": "code",
      "metadata": {
        "colab": {
          "base_uri": "https://localhost:8080/",
          "height": 771
        },
        "id": "paGCTuNblq6F",
        "outputId": "dfc40047-a2d8-4fca-e2e0-e3e6c5994366"
      },
      "source": [
        "pd.set_option('display.max_rows', 100)\n",
        "major_features=importance[importance.Importance>=0.01]\n",
        "display(major_features)\n",
        "pd.set_option('display.max_rows', 15)"
      ],
      "execution_count": null,
      "outputs": [
        {
          "output_type": "display_data",
          "data": {
            "text/html": [
              "<div>\n",
              "<style scoped>\n",
              "    .dataframe tbody tr th:only-of-type {\n",
              "        vertical-align: middle;\n",
              "    }\n",
              "\n",
              "    .dataframe tbody tr th {\n",
              "        vertical-align: top;\n",
              "    }\n",
              "\n",
              "    .dataframe thead th {\n",
              "        text-align: right;\n",
              "    }\n",
              "</style>\n",
              "<table border=\"1\" class=\"dataframe\">\n",
              "  <thead>\n",
              "    <tr style=\"text-align: right;\">\n",
              "      <th></th>\n",
              "      <th>Importance</th>\n",
              "      <th>Std</th>\n",
              "    </tr>\n",
              "  </thead>\n",
              "  <tbody>\n",
              "    <tr>\n",
              "      <th>amount_tsh</th>\n",
              "      <td>0.034706</td>\n",
              "      <td>0.013641</td>\n",
              "    </tr>\n",
              "    <tr>\n",
              "      <th>days_since_recorded</th>\n",
              "      <td>0.142968</td>\n",
              "      <td>0.006037</td>\n",
              "    </tr>\n",
              "    <tr>\n",
              "      <th>population</th>\n",
              "      <td>0.070046</td>\n",
              "      <td>0.004568</td>\n",
              "    </tr>\n",
              "    <tr>\n",
              "      <th>funder_gov</th>\n",
              "      <td>0.010022</td>\n",
              "      <td>0.003371</td>\n",
              "    </tr>\n",
              "    <tr>\n",
              "      <th>funder_other</th>\n",
              "      <td>0.012369</td>\n",
              "      <td>0.003148</td>\n",
              "    </tr>\n",
              "    <tr>\n",
              "      <th>installer_dwe</th>\n",
              "      <td>0.012591</td>\n",
              "      <td>0.002344</td>\n",
              "    </tr>\n",
              "    <tr>\n",
              "      <th>installer_other</th>\n",
              "      <td>0.011671</td>\n",
              "      <td>0.002050</td>\n",
              "    </tr>\n",
              "    <tr>\n",
              "      <th>scheme_management_vwc</th>\n",
              "      <td>0.012324</td>\n",
              "      <td>0.002280</td>\n",
              "    </tr>\n",
              "    <tr>\n",
              "      <th>permit_False</th>\n",
              "      <td>0.011067</td>\n",
              "      <td>0.002043</td>\n",
              "    </tr>\n",
              "    <tr>\n",
              "      <th>permit_True</th>\n",
              "      <td>0.011370</td>\n",
              "      <td>0.002250</td>\n",
              "    </tr>\n",
              "    <tr>\n",
              "      <th>construction_year_00s</th>\n",
              "      <td>0.012306</td>\n",
              "      <td>0.003094</td>\n",
              "    </tr>\n",
              "    <tr>\n",
              "      <th>construction_year_10s</th>\n",
              "      <td>0.010509</td>\n",
              "      <td>0.002524</td>\n",
              "    </tr>\n",
              "    <tr>\n",
              "      <th>construction_year_70s</th>\n",
              "      <td>0.010151</td>\n",
              "      <td>0.003879</td>\n",
              "    </tr>\n",
              "    <tr>\n",
              "      <th>extraction_type_class_gravity</th>\n",
              "      <td>0.011676</td>\n",
              "      <td>0.007583</td>\n",
              "    </tr>\n",
              "    <tr>\n",
              "      <th>extraction_type_class_other</th>\n",
              "      <td>0.027714</td>\n",
              "      <td>0.031314</td>\n",
              "    </tr>\n",
              "    <tr>\n",
              "      <th>payment_type_never pay</th>\n",
              "      <td>0.017180</td>\n",
              "      <td>0.006591</td>\n",
              "    </tr>\n",
              "    <tr>\n",
              "      <th>quantity_dry</th>\n",
              "      <td>0.103165</td>\n",
              "      <td>0.044952</td>\n",
              "    </tr>\n",
              "    <tr>\n",
              "      <th>quantity_enough</th>\n",
              "      <td>0.036114</td>\n",
              "      <td>0.018203</td>\n",
              "    </tr>\n",
              "    <tr>\n",
              "      <th>quantity_insufficient</th>\n",
              "      <td>0.019575</td>\n",
              "      <td>0.011440</td>\n",
              "    </tr>\n",
              "    <tr>\n",
              "      <th>waterpoint_type_communal standpipe</th>\n",
              "      <td>0.012380</td>\n",
              "      <td>0.010041</td>\n",
              "    </tr>\n",
              "    <tr>\n",
              "      <th>waterpoint_type_communal standpipe multiple</th>\n",
              "      <td>0.011237</td>\n",
              "      <td>0.005700</td>\n",
              "    </tr>\n",
              "    <tr>\n",
              "      <th>waterpoint_type_other</th>\n",
              "      <td>0.028844</td>\n",
              "      <td>0.036870</td>\n",
              "    </tr>\n",
              "    <tr>\n",
              "      <th>waterpoint_type_group_other</th>\n",
              "      <td>0.029966</td>\n",
              "      <td>0.037306</td>\n",
              "    </tr>\n",
              "  </tbody>\n",
              "</table>\n",
              "</div>"
            ],
            "text/plain": [
              "                                             Importance       Std\n",
              "amount_tsh                                     0.034706  0.013641\n",
              "days_since_recorded                            0.142968  0.006037\n",
              "population                                     0.070046  0.004568\n",
              "funder_gov                                     0.010022  0.003371\n",
              "funder_other                                   0.012369  0.003148\n",
              "installer_dwe                                  0.012591  0.002344\n",
              "installer_other                                0.011671  0.002050\n",
              "scheme_management_vwc                          0.012324  0.002280\n",
              "permit_False                                   0.011067  0.002043\n",
              "permit_True                                    0.011370  0.002250\n",
              "construction_year_00s                          0.012306  0.003094\n",
              "construction_year_10s                          0.010509  0.002524\n",
              "construction_year_70s                          0.010151  0.003879\n",
              "extraction_type_class_gravity                  0.011676  0.007583\n",
              "extraction_type_class_other                    0.027714  0.031314\n",
              "payment_type_never pay                         0.017180  0.006591\n",
              "quantity_dry                                   0.103165  0.044952\n",
              "quantity_enough                                0.036114  0.018203\n",
              "quantity_insufficient                          0.019575  0.011440\n",
              "waterpoint_type_communal standpipe             0.012380  0.010041\n",
              "waterpoint_type_communal standpipe multiple    0.011237  0.005700\n",
              "waterpoint_type_other                          0.028844  0.036870\n",
              "waterpoint_type_group_other                    0.029966  0.037306"
            ]
          },
          "metadata": {
            "tags": []
          }
        }
      ]
    },
    {
      "cell_type": "code",
      "metadata": {
        "colab": {
          "base_uri": "https://localhost:8080/"
        },
        "id": "pG2W4sZ7luTn",
        "outputId": "9ad18526-6fab-4426-8f3a-d6e775191331"
      },
      "source": [
        "selected_features = list(major_features.index.values)\n",
        "selected_features"
      ],
      "execution_count": null,
      "outputs": [
        {
          "output_type": "execute_result",
          "data": {
            "text/plain": [
              "['amount_tsh',\n",
              " 'days_since_recorded',\n",
              " 'population',\n",
              " 'funder_gov',\n",
              " 'funder_other',\n",
              " 'installer_dwe',\n",
              " 'installer_other',\n",
              " 'scheme_management_vwc',\n",
              " 'permit_False',\n",
              " 'permit_True',\n",
              " 'construction_year_00s',\n",
              " 'construction_year_10s',\n",
              " 'construction_year_70s',\n",
              " 'extraction_type_class_gravity',\n",
              " 'extraction_type_class_other',\n",
              " 'payment_type_never pay',\n",
              " 'quantity_dry',\n",
              " 'quantity_enough',\n",
              " 'quantity_insufficient',\n",
              " 'waterpoint_type_communal standpipe',\n",
              " 'waterpoint_type_communal standpipe multiple',\n",
              " 'waterpoint_type_other',\n",
              " 'waterpoint_type_group_other']"
            ]
          },
          "metadata": {
            "tags": []
          },
          "execution_count": 44
        }
      ]
    },
    {
      "cell_type": "code",
      "metadata": {
        "id": "LuwgF-BasaPP"
      },
      "source": [
        "new_X_train = X_train[selected_features]\n"
      ],
      "execution_count": null,
      "outputs": []
    },
    {
      "cell_type": "code",
      "metadata": {
        "id": "JzF3TRmUtGVr"
      },
      "source": [
        "new_X_val = X_val[selected_features]\n"
      ],
      "execution_count": null,
      "outputs": []
    },
    {
      "cell_type": "code",
      "metadata": {
        "colab": {
          "base_uri": "https://localhost:8080/"
        },
        "id": "Ia11nMb9tjfc",
        "outputId": "566cfbd7-6e05-4ff5-dd03-8f55e5c40682"
      },
      "source": [
        "estimator = RandomForestClassifier(n_estimators=1000, min_samples_split=6,\n",
        "                                    criterion='gini', max_features='auto', oob_score=True,random_state=1,n_jobs=-1)\n",
        "estimator.fit(new_X_train, y_train)\n",
        "\n",
        "training_accuracy = estimator.score(new_X_train, y_train)   \n",
        "print('Training accuracy: ', training_accuracy)                          \n",
        "validation_accuracy = estimator.score(new_X_val, y_val)\n",
        "print('Validation accuracy: ', validation_accuracy)"
      ],
      "execution_count": null,
      "outputs": [
        {
          "output_type": "stream",
          "text": [
            "Training accuracy:  0.8874859708193041\n",
            "Validation accuracy:  0.7800224466891134\n"
          ],
          "name": "stdout"
        }
      ]
    },
    {
      "cell_type": "markdown",
      "metadata": {
        "id": "SVzbfgouuaVf"
      },
      "source": [
        "**Using complete set of features:**\n",
        "\n",
        "    Training accuracy:  0.8970819304152637\n",
        "    Validation accuracy:  0.7950617283950617\n",
        "\n",
        "**Using Selected features based on importnace**\n",
        "\n",
        "    Training accuracy:  0.8874859708193041\n",
        "    Validation accuracy:  0.7800224466891134\n",
        "\n",
        "We can see that we are getting almost similar accuracy for our model with lesser features there by making the model computationally less expensive"
      ]
    },
    {
      "cell_type": "markdown",
      "metadata": {
        "id": "FolEvY8jxh5F"
      },
      "source": [
        "Also we can also identify that \"quantity\" and \"day_since_Recorded\" are the two msot important features"
      ]
    },
    {
      "cell_type": "markdown",
      "metadata": {
        "id": "wia6a2Zqo3i7"
      },
      "source": [
        "# Visualising Boundaries"
      ]
    },
    {
      "cell_type": "markdown",
      "metadata": {
        "id": "6LExK8CeCF17"
      },
      "source": [
        "Visualising Decision Tree"
      ]
    },
    {
      "cell_type": "code",
      "metadata": {
        "colab": {
          "base_uri": "https://localhost:8080/"
        },
        "id": "CBH8lt07AgRz",
        "outputId": "e3afde38-d2f1-4ad4-fb2c-99a1083a9b7a"
      },
      "source": [
        "\n",
        "decisiontree = DecisionTreeClassifier()\n",
        "model = decisiontree.fit(X_train,y_train)\n",
        "\n",
        "dot_data = tree.export_graphviz(decisiontree,out_file = None,feature_names = features,\n",
        "                            class_names=classes)\n",
        "graph = pydotplus.graph_from_dot_data(dot_data)\n",
        "\n",
        "graph.write_png('tree.png')"
      ],
      "execution_count": null,
      "outputs": [
        {
          "output_type": "stream",
          "text": [
            "dot: graph is too large for cairo-renderer bitmaps. Scaling by 0.0713227 to fit\n",
            "\n"
          ],
          "name": "stdout"
        },
        {
          "output_type": "execute_result",
          "data": {
            "text/plain": [
              "True"
            ]
          },
          "metadata": {
            "tags": []
          },
          "execution_count": 98
        }
      ]
    },
    {
      "cell_type": "markdown",
      "metadata": {
        "id": "t4kUfPlSDLAc"
      },
      "source": [
        "Attaching 'tree.png' along with the files uploaded"
      ]
    },
    {
      "cell_type": "markdown",
      "metadata": {
        "id": "RHZiEEcpTWTB"
      },
      "source": [
        "# References:"
      ]
    },
    {
      "cell_type": "markdown",
      "metadata": {
        "id": "sLiEmrJ0W7rS"
      },
      "source": [
        "\n",
        "\n",
        "1.   https://towardsdatascience.com/predicting-the-functional-status-of-pumps-in-tanzania-355c9269d0c2\n",
        "2.   https://towardsdatascience.com/water-pumps-maintenance-prediction-data-science-illustrated-20c7100017c5\n",
        "3.  https://www.geeksforgeeks.org/python-pandas-get_dummies-method/\n",
        "4. https://pandas.pydata.org/pandas-docs/stable/reference/api/pandas.get_dummies.html\n",
        "5.  https://www.marsja.se/how-to-use-pandas-get_dummies-to-create-dummy-variables-in-python/\n",
        "6. https://koalatea.io/sklearn-decision-tree-vizualization/\n",
        "\n"
      ]
    },
    {
      "cell_type": "code",
      "metadata": {
        "id": "QK97qf4ZXCtg"
      },
      "source": [
        ""
      ],
      "execution_count": null,
      "outputs": []
    }
  ]
}